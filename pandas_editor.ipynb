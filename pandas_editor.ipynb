{
  "nbformat": 4,
  "nbformat_minor": 0,
  "metadata": {
    "kernelspec": {
      "display_name": "Python 3",
      "language": "python",
      "name": "python3"
    },
    "language_info": {
      "codemirror_mode": {
        "name": "ipython",
        "version": 3
      },
      "file_extension": ".py",
      "mimetype": "text/x-python",
      "name": "python",
      "nbconvert_exporter": "python",
      "pygments_lexer": "ipython3",
      "version": "3.6.7"
    },
    "toc": {
      "base_numbering": 1,
      "nav_menu": {},
      "number_sections": true,
      "sideBar": true,
      "skip_h1_title": false,
      "title_cell": "Table of Contents",
      "title_sidebar": "Contents",
      "toc_cell": false,
      "toc_position": {},
      "toc_section_display": true,
      "toc_window_display": false
    },
    "varInspector": {
      "cols": {
        "lenName": 16,
        "lenType": 16,
        "lenVar": 40
      },
      "kernels_config": {
        "python": {
          "delete_cmd_postfix": "",
          "delete_cmd_prefix": "del ",
          "library": "var_list.py",
          "varRefreshCmd": "print(var_dic_list())"
        },
        "r": {
          "delete_cmd_postfix": ") ",
          "delete_cmd_prefix": "rm(",
          "library": "var_list.r",
          "varRefreshCmd": "cat(var_dic_list()) "
        }
      },
      "types_to_exclude": [
        "module",
        "function",
        "builtin_function_or_method",
        "instance",
        "_Feature"
      ],
      "window_display": false
    },
    "colab": {
      "name": "pandas_editor.ipynb",
      "provenance": [],
      "include_colab_link": true
    },
    "accelerator": "GPU"
  },
  "cells": [
    {
      "cell_type": "markdown",
      "metadata": {
        "id": "view-in-github",
        "colab_type": "text"
      },
      "source": [
        "<a href=\"https://colab.research.google.com/github/wataridmm/practice/blob/main/pandas_editor.ipynb\" target=\"_parent\"><img src=\"https://colab.research.google.com/assets/colab-badge.svg\" alt=\"Open In Colab\"/></a>"
      ]
    },
    {
      "cell_type": "markdown",
      "metadata": {
        "id": "jfL5EcVgDg2f"
      },
      "source": [
        "# pandas exercises\n",
        "\n",
        "\n",
        "1. データの読み込み方法について学習します。(2問)\n",
        "2. データの状態を確認する方法について学習します。（11問）\n",
        "3. データの条件を指定する方法について学習します。（11問）\n",
        "4. データの集計方法について学習します。（7問）\n",
        "5. データの整形方法について学習します。（13問）\n",
        "6. 文字列の整形について学習します。（6問）"
      ]
    },
    {
      "cell_type": "markdown",
      "metadata": {
        "id": "GvkQwKApDg2h"
      },
      "source": [
        "### 0. 事前準備"
      ]
    },
    {
      "cell_type": "markdown",
      "metadata": {
        "id": "kLIi2WcXDg2h"
      },
      "source": [
        "#### 0.1 「pandasをpd、numpyをnpと読み込んでください。」"
      ]
    },
    {
      "cell_type": "code",
      "metadata": {
        "id": "b9QBFnyADg2i"
      },
      "source": [
        "import pandas as pd\n",
        "import numpy as np"
      ],
      "execution_count": 2,
      "outputs": []
    },
    {
      "cell_type": "markdown",
      "metadata": {
        "id": "63xyTwX_Dg2j"
      },
      "source": [
        "#### 0.2 「次のコードを実行してください。※data変数に格納してください。」"
      ]
    },
    {
      "cell_type": "code",
      "metadata": {
        "id": "cJTAvQ5lDg2j"
      },
      "source": [
        "data = pd.DataFrame({'name': ['A', 'B', 'C', 'D'], '数学': [80, 15, 90, 50], '英語': [80, 70, 50, 65],\n",
        "                    '国語': [ 90, 60, 60,  60]})"
      ],
      "execution_count": 3,
      "outputs": []
    },
    {
      "cell_type": "markdown",
      "metadata": {
        "id": "byp0O2GoDg2k"
      },
      "source": [
        "#### 0.3 「次のコードを実行してください。※e_data変数に格納してください。」"
      ]
    },
    {
      "cell_type": "code",
      "metadata": {
        "id": "nLPZSI3HDg2k"
      },
      "source": [
        "e_data = pd.DataFrame({'name':'E','国語':[30],'数学':[30],'英語':[30]})"
      ],
      "execution_count": 4,
      "outputs": []
    },
    {
      "cell_type": "markdown",
      "metadata": {
        "id": "lswcYPqEDg2k"
      },
      "source": [
        "#### 0.4 「次のコードを実行してください。※data_2変数に格納してください。」"
      ]
    },
    {
      "cell_type": "code",
      "metadata": {
        "id": "KMrIqTUrDg2k"
      },
      "source": [
        "data_2 = pd.DataFrame({'name': ['A', 'B', 'C', 'D','D'], '国語-数学': [\"30:20\", np.NAN, \"90:50\", \"50:30\", \"50:30\"], '英語': [\"80.2\",\"60.5\",\"34,2\",0,0]})"
      ],
      "execution_count": 5,
      "outputs": []
    },
    {
      "cell_type": "markdown",
      "metadata": {
        "id": "PdbRXPcaDg2l"
      },
      "source": [
        "#### 0.5 「次のコードを実行してください。※data_3変数に格納してください。」"
      ]
    },
    {
      "cell_type": "code",
      "metadata": {
        "id": "59_R5AleDg2l"
      },
      "source": [
        "data_3 = pd.DataFrame({'name': ['A', 'B', 'C', 'D'],\n",
        "                     '性別': ['男性', '男性', '女性', '男性'],\n",
        "                     '経歴': ['学部卒', '修士卒', '学部卒', '博士卒'],\n",
        "                     '特技': ['ボーリング', '野球', 'サッカー', '野球をやっていた']})"
      ],
      "execution_count": 6,
      "outputs": []
    },
    {
      "cell_type": "markdown",
      "metadata": {
        "id": "mvJYlk6MDg2l"
      },
      "source": [
        "### 1. データを読み込む方法について学習します。（2問）"
      ]
    },
    {
      "cell_type": "markdown",
      "metadata": {
        "id": "1_KyoCtZDg2l"
      },
      "source": [
        "#### 1.1 「data変数を現在のディレクトリ配下に「a.csv」という名前で保存してください。」"
      ]
    },
    {
      "cell_type": "code",
      "metadata": {
        "id": "QveITDm1Dg2m"
      },
      "source": [
        ""
      ],
      "execution_count": null,
      "outputs": []
    },
    {
      "cell_type": "markdown",
      "metadata": {
        "id": "la-s6gP4Dg2m"
      },
      "source": [
        "#### 1.2「「a.csv」というファイルを読み込み、dataという名前の変数に格納してください。」"
      ]
    },
    {
      "cell_type": "code",
      "metadata": {
        "id": "KdSEEyUiDg2m"
      },
      "source": [
        ""
      ],
      "execution_count": null,
      "outputs": []
    },
    {
      "cell_type": "markdown",
      "metadata": {
        "id": "kWbR-akADg2m"
      },
      "source": [
        "### 2.データの状態を確認する方法について学習します。（11問）"
      ]
    },
    {
      "cell_type": "markdown",
      "metadata": {
        "id": "JpNhyOtoDg2m"
      },
      "source": [
        "#### 2.1 「data変数のデータ形式を表示してください。」"
      ]
    },
    {
      "cell_type": "code",
      "metadata": {
        "id": "B-R4VXPQDg2m"
      },
      "source": [
        ""
      ],
      "execution_count": null,
      "outputs": []
    },
    {
      "cell_type": "markdown",
      "metadata": {
        "id": "_ptoFvxiDg2m"
      },
      "source": [
        "#### 2.2 「pandasでSeries型データを作成して、データ形式を確認してください。※Seriesの中身は何でも良いです。」"
      ]
    },
    {
      "cell_type": "code",
      "metadata": {
        "id": "giTWjiY0Dg2n"
      },
      "source": [
        ""
      ],
      "execution_count": null,
      "outputs": []
    },
    {
      "cell_type": "markdown",
      "metadata": {
        "id": "IscCRzo7Dg2n"
      },
      "source": [
        "#### 2.3 「pandasでDataFrame型データを作成して、データ形式を確認してください。※DataFrameの中身は何でも良いです。」"
      ]
    },
    {
      "cell_type": "code",
      "metadata": {
        "id": "u6quj6a8Dg2n"
      },
      "source": [
        ""
      ],
      "execution_count": null,
      "outputs": []
    },
    {
      "cell_type": "markdown",
      "metadata": {
        "id": "25LU_AQqDg2n"
      },
      "source": [
        "#### 2.4 「data変数の行と列を表示してください。」"
      ]
    },
    {
      "cell_type": "code",
      "metadata": {
        "id": "HIHEA5FEDg2o"
      },
      "source": [
        ""
      ],
      "execution_count": null,
      "outputs": []
    },
    {
      "cell_type": "markdown",
      "metadata": {
        "id": "IWqdC0PJDg2o"
      },
      "source": [
        "#### 2.5 「data変数の上から2行表示してください。」"
      ]
    },
    {
      "cell_type": "code",
      "metadata": {
        "id": "DWN2I8flDg2o"
      },
      "source": [
        ""
      ],
      "execution_count": null,
      "outputs": []
    },
    {
      "cell_type": "markdown",
      "metadata": {
        "id": "Bk5glR7mDg2o"
      },
      "source": [
        "#### 2.6 「data変数の下から3行表示してください。」"
      ]
    },
    {
      "cell_type": "code",
      "metadata": {
        "id": "5TH4taWwDg2o"
      },
      "source": [
        ""
      ],
      "execution_count": null,
      "outputs": []
    },
    {
      "cell_type": "markdown",
      "metadata": {
        "id": "3aixTU7rDg2o"
      },
      "source": [
        "#### 2.7 「data変数のカラムを表示してください。」"
      ]
    },
    {
      "cell_type": "code",
      "metadata": {
        "id": "vMLXN5SlDg2o"
      },
      "source": [
        ""
      ],
      "execution_count": null,
      "outputs": []
    },
    {
      "cell_type": "markdown",
      "metadata": {
        "id": "F6ZXTZC-Dg2o"
      },
      "source": [
        "#### 2.8 「data変数のインデックスを表示してください。」"
      ]
    },
    {
      "cell_type": "code",
      "metadata": {
        "id": "TNy-VMFjDg2p"
      },
      "source": [
        ""
      ],
      "execution_count": null,
      "outputs": []
    },
    {
      "cell_type": "markdown",
      "metadata": {
        "id": "B0_Bszq_Dg2p"
      },
      "source": [
        "#### 2.9 「data変数の各カラムのdata型を表示してください。」"
      ]
    },
    {
      "cell_type": "code",
      "metadata": {
        "id": "VPuDDhnUDg2p"
      },
      "source": [
        ""
      ],
      "execution_count": null,
      "outputs": []
    },
    {
      "cell_type": "markdown",
      "metadata": {
        "id": "_-Lvw5IRDg2p"
      },
      "source": [
        "#### 2.10 「data変数の各カラムのユニーク数を表示してください。」"
      ]
    },
    {
      "cell_type": "code",
      "metadata": {
        "id": "q8X6X-lIDg2p"
      },
      "source": [
        ""
      ],
      "execution_count": null,
      "outputs": []
    },
    {
      "cell_type": "markdown",
      "metadata": {
        "id": "QpIHJ71fDg2q"
      },
      "source": [
        "#### 2.11 「data変数の各インデックスのユニーク数を表示してください。」"
      ]
    },
    {
      "cell_type": "code",
      "metadata": {
        "id": "Z-Ww5C97Dg2q"
      },
      "source": [
        ""
      ],
      "execution_count": null,
      "outputs": []
    },
    {
      "cell_type": "markdown",
      "metadata": {
        "id": "1R9vCLXfDg2q"
      },
      "source": [
        "### 3.データの条件を指定する方法について学習します。（11問）"
      ]
    },
    {
      "cell_type": "markdown",
      "metadata": {
        "id": "WL1k3sBzDg2q"
      },
      "source": [
        "#### 3.1 「data変数の上から4行目のデータを表示してください。」"
      ]
    },
    {
      "cell_type": "code",
      "metadata": {
        "id": "mDPrUpuFDg2q"
      },
      "source": [
        ""
      ],
      "execution_count": null,
      "outputs": []
    },
    {
      "cell_type": "markdown",
      "metadata": {
        "id": "EHq1oBBrDg2q"
      },
      "source": [
        "#### 3.2 「data変数の中で国語が70点以上の人を表示してください。」"
      ]
    },
    {
      "cell_type": "code",
      "metadata": {
        "id": "N79i7m5oDg2q"
      },
      "source": [
        ""
      ],
      "execution_count": null,
      "outputs": []
    },
    {
      "cell_type": "markdown",
      "metadata": {
        "id": "yB61__01Dg2q"
      },
      "source": [
        "#### 3.3 「data変数の中で数学が30点未満の人を表示してください。」"
      ]
    },
    {
      "cell_type": "code",
      "metadata": {
        "id": "UWdJ00HFDg2r"
      },
      "source": [
        ""
      ],
      "execution_count": null,
      "outputs": []
    },
    {
      "cell_type": "markdown",
      "metadata": {
        "id": "4SpnJhD5Dg2r"
      },
      "source": [
        "#### 3.4 「data変数の中で国語が60点ピッタリの人が何人いるか表示してください。」"
      ]
    },
    {
      "cell_type": "code",
      "metadata": {
        "id": "ja64jFGzDg2r"
      },
      "source": [
        ""
      ],
      "execution_count": null,
      "outputs": []
    },
    {
      "cell_type": "markdown",
      "metadata": {
        "id": "vpEjoQ-lDg2r"
      },
      "source": [
        "#### 3.5 「data変数の中で数学が50点以上の人が何人いるか表示してください。」"
      ]
    },
    {
      "cell_type": "code",
      "metadata": {
        "id": "pZ_R59f5Dg2r"
      },
      "source": [
        ""
      ],
      "execution_count": null,
      "outputs": []
    },
    {
      "cell_type": "markdown",
      "metadata": {
        "id": "4mMbalL3Dg2r"
      },
      "source": [
        "#### 3.6「data変数の中で国語の点数が1番高い人を表示してください。」"
      ]
    },
    {
      "cell_type": "code",
      "metadata": {
        "id": "cusQ974nDg2r"
      },
      "source": [
        ""
      ],
      "execution_count": null,
      "outputs": []
    },
    {
      "cell_type": "markdown",
      "metadata": {
        "id": "ES4k4AkgDg2s"
      },
      "source": [
        "#### 3.7 「data変数の中で全ての人の国語の点数を表示してください。」"
      ]
    },
    {
      "cell_type": "code",
      "metadata": {
        "id": "KNJfzD2NDg2s"
      },
      "source": [
        ""
      ],
      "execution_count": null,
      "outputs": []
    },
    {
      "cell_type": "markdown",
      "metadata": {
        "id": "ilByNg7eDg2s"
      },
      "source": [
        "#### 3.8 「data変数の中で全ての人の国語と数学の点数を表示してください。」"
      ]
    },
    {
      "cell_type": "code",
      "metadata": {
        "id": "qDGPVMz1Dg2s"
      },
      "source": [
        ""
      ],
      "execution_count": null,
      "outputs": []
    },
    {
      "cell_type": "markdown",
      "metadata": {
        "id": "-CFXmQ0FDg2s"
      },
      "source": [
        "#### 3.9 「data変数のカラムの情報を確認してください。」"
      ]
    },
    {
      "cell_type": "code",
      "metadata": {
        "id": "MV5dxSDsDg2s"
      },
      "source": [
        ""
      ],
      "execution_count": null,
      "outputs": []
    },
    {
      "cell_type": "markdown",
      "metadata": {
        "id": "bylkO99dDg2s"
      },
      "source": [
        "#### 3.10 「data変数の中で2行目と3行目のみ表示してください。(indexは0番目が1行目であることに注意)」"
      ]
    },
    {
      "cell_type": "code",
      "metadata": {
        "id": "BecvVvDBDg2t"
      },
      "source": [
        ""
      ],
      "execution_count": null,
      "outputs": []
    },
    {
      "cell_type": "markdown",
      "metadata": {
        "id": "I5De4BZHDg2t"
      },
      "source": [
        "#### 3.11 「data変数の中で2行目と3行目且つ0列目と1列目を表示してください。(indexは0番目が1行目であることに注意)」"
      ]
    },
    {
      "cell_type": "code",
      "metadata": {
        "id": "RSy82R4MDg2t"
      },
      "source": [
        ""
      ],
      "execution_count": null,
      "outputs": []
    },
    {
      "cell_type": "markdown",
      "metadata": {
        "id": "ND6fAGFmDg2t"
      },
      "source": [
        "### 4. データの集計方法について学習します。（7問）"
      ]
    },
    {
      "cell_type": "markdown",
      "metadata": {
        "id": "G9zlVV-YDg2t"
      },
      "source": [
        "#### 4.1 「dataの下にe_dataを連結させて下さい。dataの中身を確認してください。」"
      ]
    },
    {
      "cell_type": "code",
      "metadata": {
        "id": "JQU_yfbfDg2t"
      },
      "source": [
        ""
      ],
      "execution_count": null,
      "outputs": []
    },
    {
      "cell_type": "markdown",
      "metadata": {
        "id": "Ircfj_xRDg2t"
      },
      "source": [
        "#### 4.2 「dataのindexを振り直してください。」"
      ]
    },
    {
      "cell_type": "code",
      "metadata": {
        "id": "H1fR73WPDg2t"
      },
      "source": [
        ""
      ],
      "execution_count": null,
      "outputs": []
    },
    {
      "cell_type": "markdown",
      "metadata": {
        "id": "M4ofYg4tDg2t"
      },
      "source": [
        "#### 4.3 「dataの各カラムの合計値を表示して下さい。」"
      ]
    },
    {
      "cell_type": "code",
      "metadata": {
        "id": "OTEHhcjqDg2u"
      },
      "source": [
        ""
      ],
      "execution_count": null,
      "outputs": []
    },
    {
      "cell_type": "markdown",
      "metadata": {
        "id": "jWgGV36yDg2u"
      },
      "source": [
        "#### 4.4 「dataの各行の合計値を表示して下さい。」"
      ]
    },
    {
      "cell_type": "code",
      "metadata": {
        "id": "vmnP5vj0Dg2u"
      },
      "source": [
        ""
      ],
      "execution_count": null,
      "outputs": []
    },
    {
      "cell_type": "markdown",
      "metadata": {
        "id": "Gd_OC93gDg2u"
      },
      "source": [
        "#### 4.5 「dataの各行の平均値を表示して下さい。」"
      ]
    },
    {
      "cell_type": "code",
      "metadata": {
        "id": "-19E5oVSDg2u"
      },
      "source": [
        ""
      ],
      "execution_count": null,
      "outputs": []
    },
    {
      "cell_type": "markdown",
      "metadata": {
        "id": "oh0287T5Dg2u"
      },
      "source": [
        "#### 4.6 「data変数のカラムの統計量を算出してください。（小数点第1桁まで）」"
      ]
    },
    {
      "cell_type": "code",
      "metadata": {
        "id": "bI5Dc_2bDg2u"
      },
      "source": [
        ""
      ],
      "execution_count": null,
      "outputs": []
    },
    {
      "cell_type": "markdown",
      "metadata": {
        "id": "USSvw0tfDg2v"
      },
      "source": [
        "#### 4.7 「data変数の中の各カラムの相関係数を算出してください。」"
      ]
    },
    {
      "cell_type": "code",
      "metadata": {
        "id": "-e3Da8LMDg2v"
      },
      "source": [
        ""
      ],
      "execution_count": null,
      "outputs": []
    },
    {
      "cell_type": "markdown",
      "metadata": {
        "id": "I_EeGjOtDg2v"
      },
      "source": [
        "### 5. データの整形方法について学習します。（13問）"
      ]
    },
    {
      "cell_type": "markdown",
      "metadata": {
        "id": "h6wEU48uDg2v"
      },
      "source": [
        "#### 5.1 「data変数の数学カラムのユニーク値を表示してください。」"
      ]
    },
    {
      "cell_type": "code",
      "metadata": {
        "id": "xYAZdqffDg2v"
      },
      "source": [
        ""
      ],
      "execution_count": null,
      "outputs": []
    },
    {
      "cell_type": "markdown",
      "metadata": {
        "id": "uBL0YXOSDg2v"
      },
      "source": [
        "#### 5.2 「data変数の中で数学カラムの中に重複がないことを確認してください。（等式を作成してください。）」"
      ]
    },
    {
      "cell_type": "code",
      "metadata": {
        "id": "lI-hMGtxDg2v"
      },
      "source": [
        ""
      ],
      "execution_count": null,
      "outputs": []
    },
    {
      "cell_type": "markdown",
      "metadata": {
        "id": "jXq8u9BLDg2v"
      },
      "source": [
        "#### 5.3 「data変数の中で国語カラムの中に重複があることを確認してください。（等式を作成してください。）」"
      ]
    },
    {
      "cell_type": "code",
      "metadata": {
        "id": "Mrt9_oXQDg2w"
      },
      "source": [
        ""
      ],
      "execution_count": null,
      "outputs": []
    },
    {
      "cell_type": "markdown",
      "metadata": {
        "id": "EqqyYDopDg2w"
      },
      "source": [
        "#### 5.4 「data変数の中で国語の点数が60点の人が3人います。重複レコードを削除してください。」"
      ]
    },
    {
      "cell_type": "code",
      "metadata": {
        "id": "ftyxziRIDg2w"
      },
      "source": [
        ""
      ],
      "execution_count": null,
      "outputs": []
    },
    {
      "cell_type": "markdown",
      "metadata": {
        "id": "oq6COA9_Dg2w"
      },
      "source": [
        "#### 5.5 「data_2を表示して下さい。」"
      ]
    },
    {
      "cell_type": "code",
      "metadata": {
        "id": "Pt0rLY5cDg2w"
      },
      "source": [
        ""
      ],
      "execution_count": null,
      "outputs": []
    },
    {
      "cell_type": "markdown",
      "metadata": {
        "id": "ev7tWcu8Dg2w"
      },
      "source": [
        "#### 5.6 「名前の行に重複が見られます。その行を削除してください。」"
      ]
    },
    {
      "cell_type": "code",
      "metadata": {
        "id": "yYpx3WU7Dg2w"
      },
      "source": [
        ""
      ],
      "execution_count": null,
      "outputs": []
    },
    {
      "cell_type": "markdown",
      "metadata": {
        "id": "Ixof1bI8Dg2x"
      },
      "source": [
        "#### 5.7 「国語-数学の列を国語と数学に分けた列を作成してください。」"
      ]
    },
    {
      "cell_type": "code",
      "metadata": {
        "id": "xQkdhWU8Dg2x"
      },
      "source": [
        ""
      ],
      "execution_count": null,
      "outputs": []
    },
    {
      "cell_type": "markdown",
      "metadata": {
        "id": "0Uz-8rVmDg2x"
      },
      "source": [
        "#### 5.8 「name、英語、国語、数学以外の列を削除してください。」"
      ]
    },
    {
      "cell_type": "code",
      "metadata": {
        "id": "w31CGWV0Dg2x"
      },
      "source": [
        ""
      ],
      "execution_count": null,
      "outputs": []
    },
    {
      "cell_type": "markdown",
      "metadata": {
        "id": "Z3FsacoUDg2x"
      },
      "source": [
        "#### 5.9 「Cの英語の点数にカンマが入っています。小数点になおしてください。」"
      ]
    },
    {
      "cell_type": "code",
      "metadata": {
        "id": "SqSaaeDODg2x"
      },
      "source": [
        ""
      ],
      "execution_count": null,
      "outputs": []
    },
    {
      "cell_type": "markdown",
      "metadata": {
        "id": "Vxw7oQKiDg2x"
      },
      "source": [
        "#### 5.10 「data_2の各列の型(クラス、数字や文字列などの情報)を表示して下さい。」"
      ]
    },
    {
      "cell_type": "code",
      "metadata": {
        "id": "6mMpyrsZDg2x"
      },
      "source": [
        ""
      ],
      "execution_count": null,
      "outputs": []
    },
    {
      "cell_type": "markdown",
      "metadata": {
        "id": "8b7t1hl1Dg2y"
      },
      "source": [
        "#### 5.11 「英語、国語、数学を数値型に変更し、データ型が変換されたことを確認してください。」"
      ]
    },
    {
      "cell_type": "code",
      "metadata": {
        "id": "eBGcLZK7Dg2y"
      },
      "source": [
        ""
      ],
      "execution_count": null,
      "outputs": []
    },
    {
      "cell_type": "markdown",
      "metadata": {
        "id": "XNbWvnVgDg2y"
      },
      "source": [
        "#### 5.12 「欠損値がある行を表示して下さい。」"
      ]
    },
    {
      "cell_type": "code",
      "metadata": {
        "id": "c5ox1J2iDg2y"
      },
      "source": [
        ""
      ],
      "execution_count": null,
      "outputs": []
    },
    {
      "cell_type": "markdown",
      "metadata": {
        "id": "Mw6140pUDg2y"
      },
      "source": [
        "#### 5.13 「欠損をもつ行を取り除いて下さい。」"
      ]
    },
    {
      "cell_type": "code",
      "metadata": {
        "id": "kBJxjSU1Dg2y"
      },
      "source": [
        ""
      ],
      "execution_count": null,
      "outputs": []
    },
    {
      "cell_type": "markdown",
      "metadata": {
        "id": "swd6PT6cDg2y"
      },
      "source": [
        "### 6.文字列の処理（6問）"
      ]
    },
    {
      "cell_type": "markdown",
      "metadata": {
        "id": "cfpWaNNFDg2y"
      },
      "source": [
        "#### 6.1 「data_3を確認して下さい。」"
      ]
    },
    {
      "cell_type": "code",
      "metadata": {
        "id": "hp6LI2GLDg2y"
      },
      "source": [
        ""
      ],
      "execution_count": null,
      "outputs": []
    },
    {
      "cell_type": "markdown",
      "metadata": {
        "id": "s5q60csTDg2z"
      },
      "source": [
        "#### 6.2 「経歴が、'学部卒'で終わる行を表示して下さい。」"
      ]
    },
    {
      "cell_type": "code",
      "metadata": {
        "id": "TQ69TPz5Dg2z"
      },
      "source": [
        ""
      ],
      "execution_count": null,
      "outputs": []
    },
    {
      "cell_type": "markdown",
      "metadata": {
        "id": "P0A8OfCfDg2z"
      },
      "source": [
        "#### 6.3 「性別が、'女'から始まる行を表示して下さい。」"
      ]
    },
    {
      "cell_type": "code",
      "metadata": {
        "id": "YwbZMSB1Dg2z"
      },
      "source": [
        ""
      ],
      "execution_count": null,
      "outputs": []
    },
    {
      "cell_type": "markdown",
      "metadata": {
        "id": "bRiubYzzDg2z"
      },
      "source": [
        "#### 6.4 「特技が'野球'を含む行を表示して下さい。」"
      ]
    },
    {
      "cell_type": "code",
      "metadata": {
        "id": "aXAOJAmhDg2z"
      },
      "source": [
        ""
      ],
      "execution_count": null,
      "outputs": []
    },
    {
      "cell_type": "markdown",
      "metadata": {
        "id": "be_fvflrDg2z"
      },
      "source": [
        "#### 6.5 「経歴の'卒'を削除して下さい。」"
      ]
    },
    {
      "cell_type": "code",
      "metadata": {
        "id": "vyzgRFNwDg20"
      },
      "source": [
        ""
      ],
      "execution_count": null,
      "outputs": []
    },
    {
      "cell_type": "markdown",
      "metadata": {
        "id": "iqCoub-oDg20"
      },
      "source": [
        "#### 6.6 「特技の'野球をやっていた'の「をやっていた」を削除して下さい。」"
      ]
    },
    {
      "cell_type": "code",
      "metadata": {
        "id": "kSX_kzeJDg20"
      },
      "source": [
        ""
      ],
      "execution_count": null,
      "outputs": []
    }
  ]
}