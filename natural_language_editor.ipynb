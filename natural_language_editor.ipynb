{
  "nbformat": 4,
  "nbformat_minor": 0,
  "metadata": {
    "kernelspec": {
      "display_name": "Python 3",
      "language": "python",
      "name": "python3"
    },
    "language_info": {
      "codemirror_mode": {
        "name": "ipython",
        "version": 3
      },
      "file_extension": ".py",
      "mimetype": "text/x-python",
      "name": "python",
      "nbconvert_exporter": "python",
      "pygments_lexer": "ipython3",
      "version": "3.8.5"
    },
    "colab": {
      "name": "natural_language_editor.ipynb",
      "provenance": [],
      "collapsed_sections": [
        "dDP-aUQNqcoo",
        "i1IlMx1eqcoo",
        "Wv4YRMk9qcoo",
        "no38zUR2qcop",
        "2Pc0rI-xqcop",
        "RkojZoQbqcop",
        "LILT6ziQqcoq",
        "ear19xTOqcoq",
        "W_pYagiVqcor",
        "wLCwbANmqcos",
        "MaeHqEkLqcot",
        "cskUyL8Qqcot",
        "IKuoSeNFqcot",
        "bqjNf3ypqcou",
        "T07jG5Qgqcou",
        "-Zus1b_Kqcou",
        "SYqNFmq_qcou",
        "zxiS0Tbtqcov",
        "aZLTtX02qcov",
        "NvRn_Hnbqcov",
        "nCW3NaErqcow",
        "Zt82Nt53qcow",
        "3dDZkDHqqcox",
        "rEclON44qcox",
        "C6HZsi-Xqcox",
        "F3Hd4fEMqcoy",
        "R-nn2c0Mqcoy",
        "U_60HT4Eqcoy",
        "rMhgs9C6qcoz",
        "KjVwgxisqcoz",
        "4VgbhO2Tqcoz",
        "2nAD7Yf_qcoz",
        "WxwXz9Nmqco0",
        "qk7VMZmfqco0",
        "VnHo1fSLqco0",
        "SrzY4woTqco0",
        "pmeni0w8qco1",
        "WnTDo8zsqco1",
        "eBidq00Hqco1",
        "6zEkMEf0qco1",
        "BC3KGA-mqco2"
      ],
      "include_colab_link": true
    },
    "accelerator": "GPU"
  },
  "cells": [
    {
      "cell_type": "markdown",
      "metadata": {
        "id": "view-in-github",
        "colab_type": "text"
      },
      "source": [
        "<a href=\"https://colab.research.google.com/github/wataridmm/practice/blob/main/natural_language_editor.ipynb\" target=\"_parent\"><img src=\"https://colab.research.google.com/assets/colab-badge.svg\" alt=\"Open In Colab\"/></a>"
      ]
    },
    {
      "cell_type": "markdown",
      "metadata": {
        "id": "i95Lt_tSqcoh"
      },
      "source": [
        "# 自然言語処理実装 for Google Colab"
      ]
    },
    {
      "cell_type": "markdown",
      "metadata": {
        "id": "nnomOLy9qcoj"
      },
      "source": [
        "1. 文字の扱い方について学習します。（8問）\n",
        "    - 文字の加工、処理方法について学習します。\n",
        "2. 正規表現の扱い方について学習します。（11問）\n",
        "    - 正規表現を用いた文字の加工方法について学習します。\n",
        "3. MeCabについて学習します。（6問）\n",
        "    - MeCabを用いた文章の「分かち書き」、「形態素解析」について学習します。\n",
        "4. Word2vecについて学習します。（12問）\n",
        "    - 実際の文章データを使用して、整形からWord2vecの計算まで行います。\n",
        "5. tf-idfについて学習します。（4問）\n",
        "    - tf-idfの計算方法について学習します。"
      ]
    },
    {
      "cell_type": "markdown",
      "metadata": {
        "id": "iXVBvHa0qcoj"
      },
      "source": [
        "### 0. 事前準備"
      ]
    },
    {
      "cell_type": "markdown",
      "metadata": {
        "id": "28bpLzG9qcok"
      },
      "source": [
        "#### 0.1 必要なライブラリをインストールして下さい。\n",
        "- 5〜15分程度かかることがあります。\n",
        "---"
      ]
    },
    {
      "cell_type": "code",
      "metadata": {
        "id": "E5B6npqMqoVh",
        "colab": {
          "base_uri": "https://localhost:8080/"
        },
        "outputId": "0711067c-e179-45f5-e276-415608f5cac7"
      },
      "source": [
        "!apt install aptitude\n",
        "!aptitude install mecab libmecab-dev mecab-ipadic-utf8 git make curl xz-utils file -y\n",
        "!pip install mecab-python3==0.996.5\n",
        "!pip install unidic-lite\n",
        "!pip install janome\n",
        "!pip install gensim"
      ],
      "execution_count": 1,
      "outputs": [
        {
          "output_type": "stream",
          "name": "stdout",
          "text": [
            "Reading package lists... Done\n",
            "Building dependency tree       \n",
            "Reading state information... Done\n",
            "The following additional packages will be installed:\n",
            "  aptitude-common libcgi-fast-perl libcgi-pm-perl libclass-accessor-perl\n",
            "  libcwidget3v5 libencode-locale-perl libfcgi-perl libhtml-parser-perl\n",
            "  libhtml-tagset-perl libhttp-date-perl libhttp-message-perl libio-html-perl\n",
            "  libio-string-perl liblwp-mediatypes-perl libparse-debianchangelog-perl\n",
            "  libsigc++-2.0-0v5 libsub-name-perl libtimedate-perl liburi-perl libxapian30\n",
            "Suggested packages:\n",
            "  aptitude-doc-en | aptitude-doc apt-xapian-index debtags tasksel\n",
            "  libcwidget-dev libdata-dump-perl libhtml-template-perl libxml-simple-perl\n",
            "  libwww-perl xapian-tools\n",
            "The following NEW packages will be installed:\n",
            "  aptitude aptitude-common libcgi-fast-perl libcgi-pm-perl\n",
            "  libclass-accessor-perl libcwidget3v5 libencode-locale-perl libfcgi-perl\n",
            "  libhtml-parser-perl libhtml-tagset-perl libhttp-date-perl\n",
            "  libhttp-message-perl libio-html-perl libio-string-perl\n",
            "  liblwp-mediatypes-perl libparse-debianchangelog-perl libsigc++-2.0-0v5\n",
            "  libsub-name-perl libtimedate-perl liburi-perl libxapian30\n",
            "0 upgraded, 21 newly installed, 0 to remove and 37 not upgraded.\n",
            "Need to get 3,877 kB of archives.\n",
            "After this operation, 15.6 MB of additional disk space will be used.\n",
            "Get:1 http://archive.ubuntu.com/ubuntu bionic/main amd64 aptitude-common all 0.8.10-6ubuntu1 [1,014 kB]\n",
            "Get:2 http://archive.ubuntu.com/ubuntu bionic/main amd64 libsigc++-2.0-0v5 amd64 2.10.0-2 [10.9 kB]\n",
            "Get:3 http://archive.ubuntu.com/ubuntu bionic/main amd64 libcwidget3v5 amd64 0.5.17-7 [286 kB]\n",
            "Get:4 http://archive.ubuntu.com/ubuntu bionic-updates/main amd64 libxapian30 amd64 1.4.5-1ubuntu0.1 [631 kB]\n",
            "Get:5 http://archive.ubuntu.com/ubuntu bionic/main amd64 aptitude amd64 0.8.10-6ubuntu1 [1,269 kB]\n",
            "Get:6 http://archive.ubuntu.com/ubuntu bionic/main amd64 libhtml-tagset-perl all 3.20-3 [12.1 kB]\n",
            "Get:7 http://archive.ubuntu.com/ubuntu bionic/main amd64 liburi-perl all 1.73-1 [77.2 kB]\n",
            "Get:8 http://archive.ubuntu.com/ubuntu bionic/main amd64 libhtml-parser-perl amd64 3.72-3build1 [85.9 kB]\n",
            "Get:9 http://archive.ubuntu.com/ubuntu bionic/main amd64 libcgi-pm-perl all 4.38-1 [185 kB]\n",
            "Get:10 http://archive.ubuntu.com/ubuntu bionic/main amd64 libfcgi-perl amd64 0.78-2build1 [32.8 kB]\n",
            "Get:11 http://archive.ubuntu.com/ubuntu bionic/main amd64 libcgi-fast-perl all 1:2.13-1 [9,940 B]\n",
            "Get:12 http://archive.ubuntu.com/ubuntu bionic/main amd64 libsub-name-perl amd64 0.21-1build1 [11.6 kB]\n",
            "Get:13 http://archive.ubuntu.com/ubuntu bionic/main amd64 libclass-accessor-perl all 0.51-1 [21.2 kB]\n",
            "Get:14 http://archive.ubuntu.com/ubuntu bionic/main amd64 libencode-locale-perl all 1.05-1 [12.3 kB]\n",
            "Get:15 http://archive.ubuntu.com/ubuntu bionic/main amd64 libtimedate-perl all 2.3000-2 [37.5 kB]\n",
            "Get:16 http://archive.ubuntu.com/ubuntu bionic/main amd64 libhttp-date-perl all 6.02-1 [10.4 kB]\n",
            "Get:17 http://archive.ubuntu.com/ubuntu bionic/main amd64 libio-html-perl all 1.001-1 [14.9 kB]\n",
            "Get:18 http://archive.ubuntu.com/ubuntu bionic/main amd64 liblwp-mediatypes-perl all 6.02-1 [21.7 kB]\n",
            "Get:19 http://archive.ubuntu.com/ubuntu bionic/main amd64 libhttp-message-perl all 6.14-1 [72.1 kB]\n",
            "Get:20 http://archive.ubuntu.com/ubuntu bionic/main amd64 libio-string-perl all 1.08-3 [11.1 kB]\n",
            "Get:21 http://archive.ubuntu.com/ubuntu bionic/main amd64 libparse-debianchangelog-perl all 1.2.0-12 [49.5 kB]\n",
            "Fetched 3,877 kB in 2s (2,410 kB/s)\n",
            "Selecting previously unselected package aptitude-common.\n",
            "(Reading database ... 155222 files and directories currently installed.)\n",
            "Preparing to unpack .../00-aptitude-common_0.8.10-6ubuntu1_all.deb ...\n",
            "Unpacking aptitude-common (0.8.10-6ubuntu1) ...\n",
            "Selecting previously unselected package libsigc++-2.0-0v5:amd64.\n",
            "Preparing to unpack .../01-libsigc++-2.0-0v5_2.10.0-2_amd64.deb ...\n",
            "Unpacking libsigc++-2.0-0v5:amd64 (2.10.0-2) ...\n",
            "Selecting previously unselected package libcwidget3v5:amd64.\n",
            "Preparing to unpack .../02-libcwidget3v5_0.5.17-7_amd64.deb ...\n",
            "Unpacking libcwidget3v5:amd64 (0.5.17-7) ...\n",
            "Selecting previously unselected package libxapian30:amd64.\n",
            "Preparing to unpack .../03-libxapian30_1.4.5-1ubuntu0.1_amd64.deb ...\n",
            "Unpacking libxapian30:amd64 (1.4.5-1ubuntu0.1) ...\n",
            "Selecting previously unselected package aptitude.\n",
            "Preparing to unpack .../04-aptitude_0.8.10-6ubuntu1_amd64.deb ...\n",
            "Unpacking aptitude (0.8.10-6ubuntu1) ...\n",
            "Selecting previously unselected package libhtml-tagset-perl.\n",
            "Preparing to unpack .../05-libhtml-tagset-perl_3.20-3_all.deb ...\n",
            "Unpacking libhtml-tagset-perl (3.20-3) ...\n",
            "Selecting previously unselected package liburi-perl.\n",
            "Preparing to unpack .../06-liburi-perl_1.73-1_all.deb ...\n",
            "Unpacking liburi-perl (1.73-1) ...\n",
            "Selecting previously unselected package libhtml-parser-perl.\n",
            "Preparing to unpack .../07-libhtml-parser-perl_3.72-3build1_amd64.deb ...\n",
            "Unpacking libhtml-parser-perl (3.72-3build1) ...\n",
            "Selecting previously unselected package libcgi-pm-perl.\n",
            "Preparing to unpack .../08-libcgi-pm-perl_4.38-1_all.deb ...\n",
            "Unpacking libcgi-pm-perl (4.38-1) ...\n",
            "Selecting previously unselected package libfcgi-perl.\n",
            "Preparing to unpack .../09-libfcgi-perl_0.78-2build1_amd64.deb ...\n",
            "Unpacking libfcgi-perl (0.78-2build1) ...\n",
            "Selecting previously unselected package libcgi-fast-perl.\n",
            "Preparing to unpack .../10-libcgi-fast-perl_1%3a2.13-1_all.deb ...\n",
            "Unpacking libcgi-fast-perl (1:2.13-1) ...\n",
            "Selecting previously unselected package libsub-name-perl.\n",
            "Preparing to unpack .../11-libsub-name-perl_0.21-1build1_amd64.deb ...\n",
            "Unpacking libsub-name-perl (0.21-1build1) ...\n",
            "Selecting previously unselected package libclass-accessor-perl.\n",
            "Preparing to unpack .../12-libclass-accessor-perl_0.51-1_all.deb ...\n",
            "Unpacking libclass-accessor-perl (0.51-1) ...\n",
            "Selecting previously unselected package libencode-locale-perl.\n",
            "Preparing to unpack .../13-libencode-locale-perl_1.05-1_all.deb ...\n",
            "Unpacking libencode-locale-perl (1.05-1) ...\n",
            "Selecting previously unselected package libtimedate-perl.\n",
            "Preparing to unpack .../14-libtimedate-perl_2.3000-2_all.deb ...\n",
            "Unpacking libtimedate-perl (2.3000-2) ...\n",
            "Selecting previously unselected package libhttp-date-perl.\n",
            "Preparing to unpack .../15-libhttp-date-perl_6.02-1_all.deb ...\n",
            "Unpacking libhttp-date-perl (6.02-1) ...\n",
            "Selecting previously unselected package libio-html-perl.\n",
            "Preparing to unpack .../16-libio-html-perl_1.001-1_all.deb ...\n",
            "Unpacking libio-html-perl (1.001-1) ...\n",
            "Selecting previously unselected package liblwp-mediatypes-perl.\n",
            "Preparing to unpack .../17-liblwp-mediatypes-perl_6.02-1_all.deb ...\n",
            "Unpacking liblwp-mediatypes-perl (6.02-1) ...\n",
            "Selecting previously unselected package libhttp-message-perl.\n",
            "Preparing to unpack .../18-libhttp-message-perl_6.14-1_all.deb ...\n",
            "Unpacking libhttp-message-perl (6.14-1) ...\n",
            "Selecting previously unselected package libio-string-perl.\n",
            "Preparing to unpack .../19-libio-string-perl_1.08-3_all.deb ...\n",
            "Unpacking libio-string-perl (1.08-3) ...\n",
            "Selecting previously unselected package libparse-debianchangelog-perl.\n",
            "Preparing to unpack .../20-libparse-debianchangelog-perl_1.2.0-12_all.deb ...\n",
            "Unpacking libparse-debianchangelog-perl (1.2.0-12) ...\n",
            "Setting up libhtml-tagset-perl (3.20-3) ...\n",
            "Setting up libxapian30:amd64 (1.4.5-1ubuntu0.1) ...\n",
            "Setting up libencode-locale-perl (1.05-1) ...\n",
            "Setting up libtimedate-perl (2.3000-2) ...\n",
            "Setting up libio-html-perl (1.001-1) ...\n",
            "Setting up aptitude-common (0.8.10-6ubuntu1) ...\n",
            "Setting up liblwp-mediatypes-perl (6.02-1) ...\n",
            "Setting up liburi-perl (1.73-1) ...\n",
            "Setting up libhtml-parser-perl (3.72-3build1) ...\n",
            "Setting up libcgi-pm-perl (4.38-1) ...\n",
            "Setting up libio-string-perl (1.08-3) ...\n",
            "Setting up libsub-name-perl (0.21-1build1) ...\n",
            "Setting up libfcgi-perl (0.78-2build1) ...\n",
            "Setting up libsigc++-2.0-0v5:amd64 (2.10.0-2) ...\n",
            "Setting up libclass-accessor-perl (0.51-1) ...\n",
            "Setting up libhttp-date-perl (6.02-1) ...\n",
            "Setting up libcgi-fast-perl (1:2.13-1) ...\n",
            "Setting up libparse-debianchangelog-perl (1.2.0-12) ...\n",
            "Setting up libhttp-message-perl (6.14-1) ...\n",
            "Setting up libcwidget3v5:amd64 (0.5.17-7) ...\n",
            "Setting up aptitude (0.8.10-6ubuntu1) ...\n",
            "update-alternatives: using /usr/bin/aptitude-curses to provide /usr/bin/aptitude (aptitude) in auto mode\n",
            "Processing triggers for man-db (2.8.3-2ubuntu0.1) ...\n",
            "Processing triggers for libc-bin (2.27-3ubuntu1.3) ...\n",
            "/sbin/ldconfig.real: /usr/local/lib/python3.7/dist-packages/ideep4py/lib/libmkldnn.so.0 is not a symbolic link\n",
            "\n",
            "git is already installed at the requested version (1:2.17.1-1ubuntu0.9)\n",
            "make is already installed at the requested version (4.1-9.1ubuntu1)\n",
            "curl is already installed at the requested version (7.58.0-2ubuntu3.16)\n",
            "xz-utils is already installed at the requested version (5.2.2-1.3)\n",
            "git is already installed at the requested version (1:2.17.1-1ubuntu0.9)\n",
            "make is already installed at the requested version (4.1-9.1ubuntu1)\n",
            "curl is already installed at the requested version (7.58.0-2ubuntu3.16)\n",
            "xz-utils is already installed at the requested version (5.2.2-1.3)\n",
            "The following NEW packages will be installed:\n",
            "  file libmagic-mgc{a} libmagic1{a} libmecab-dev libmecab2{a} mecab mecab-ipadic{a} mecab-ipadic-utf8 mecab-jumandic{a} mecab-jumandic-utf8{a} mecab-utils{a} \n",
            "0 packages upgraded, 11 newly installed, 0 to remove and 37 not upgraded.\n",
            "Need to get 29.3 MB of archives. After unpacking 282 MB will be used.\n",
            "Get: 1 http://archive.ubuntu.com/ubuntu bionic-updates/main amd64 libmagic-mgc amd64 1:5.32-2ubuntu0.4 [184 kB]\n",
            "Get: 2 http://archive.ubuntu.com/ubuntu bionic-updates/main amd64 libmagic1 amd64 1:5.32-2ubuntu0.4 [68.6 kB]\n",
            "Get: 3 http://archive.ubuntu.com/ubuntu bionic-updates/main amd64 file amd64 1:5.32-2ubuntu0.4 [22.1 kB]\n",
            "Get: 4 http://archive.ubuntu.com/ubuntu bionic/universe amd64 libmecab2 amd64 0.996-5 [257 kB]\n",
            "Get: 5 http://archive.ubuntu.com/ubuntu bionic/universe amd64 libmecab-dev amd64 0.996-5 [308 kB]\n",
            "Get: 6 http://archive.ubuntu.com/ubuntu bionic/universe amd64 mecab-utils amd64 0.996-5 [4,856 B]\n",
            "Get: 7 http://archive.ubuntu.com/ubuntu bionic/universe amd64 mecab-jumandic-utf8 all 7.0-20130310-4 [16.2 MB]\n",
            "Get: 8 http://archive.ubuntu.com/ubuntu bionic/universe amd64 mecab-jumandic all 7.0-20130310-4 [2,212 B]\n",
            "Get: 9 http://archive.ubuntu.com/ubuntu bionic/universe amd64 mecab-ipadic all 2.7.0-20070801+main-1 [12.1 MB]\n",
            "Get: 10 http://archive.ubuntu.com/ubuntu bionic/universe amd64 mecab amd64 0.996-5 [132 kB]\n",
            "Get: 11 http://archive.ubuntu.com/ubuntu bionic/universe amd64 mecab-ipadic-utf8 all 2.7.0-20070801+main-1 [3,522 B]\n",
            "Fetched 29.3 MB in 2s (12.4 MB/s)\n",
            "Selecting previously unselected package libmagic-mgc.\n",
            "(Reading database ... 155681 files and directories currently installed.)\n",
            "Preparing to unpack .../00-libmagic-mgc_1%3a5.32-2ubuntu0.4_amd64.deb ...\n",
            "Unpacking libmagic-mgc (1:5.32-2ubuntu0.4) ...\n",
            "Selecting previously unselected package libmagic1:amd64.\n",
            "Preparing to unpack .../01-libmagic1_1%3a5.32-2ubuntu0.4_amd64.deb ...\n",
            "Unpacking libmagic1:amd64 (1:5.32-2ubuntu0.4) ...\n",
            "Selecting previously unselected package file.\n",
            "Preparing to unpack .../02-file_1%3a5.32-2ubuntu0.4_amd64.deb ...\n",
            "Unpacking file (1:5.32-2ubuntu0.4) ...\n",
            "Selecting previously unselected package libmecab2:amd64.\n",
            "Preparing to unpack .../03-libmecab2_0.996-5_amd64.deb ...\n",
            "Unpacking libmecab2:amd64 (0.996-5) ...\n",
            "Selecting previously unselected package libmecab-dev.\n",
            "Preparing to unpack .../04-libmecab-dev_0.996-5_amd64.deb ...\n",
            "Unpacking libmecab-dev (0.996-5) ...\n",
            "Selecting previously unselected package mecab-utils.\n",
            "Preparing to unpack .../05-mecab-utils_0.996-5_amd64.deb ...\n",
            "Unpacking mecab-utils (0.996-5) ...\n",
            "Selecting previously unselected package mecab-jumandic-utf8.\n",
            "Preparing to unpack .../06-mecab-jumandic-utf8_7.0-20130310-4_all.deb ...\n",
            "Unpacking mecab-jumandic-utf8 (7.0-20130310-4) ...\n",
            "Selecting previously unselected package mecab-jumandic.\n",
            "Preparing to unpack .../07-mecab-jumandic_7.0-20130310-4_all.deb ...\n",
            "Unpacking mecab-jumandic (7.0-20130310-4) ...\n",
            "Selecting previously unselected package mecab-ipadic.\n",
            "Preparing to unpack .../08-mecab-ipadic_2.7.0-20070801+main-1_all.deb ...\n",
            "Unpacking mecab-ipadic (2.7.0-20070801+main-1) ...\n",
            "Selecting previously unselected package mecab.\n",
            "Preparing to unpack .../09-mecab_0.996-5_amd64.deb ...\n",
            "Unpacking mecab (0.996-5) ...\n",
            "Selecting previously unselected package mecab-ipadic-utf8.\n",
            "Preparing to unpack .../10-mecab-ipadic-utf8_2.7.0-20070801+main-1_all.deb ...\n",
            "Unpacking mecab-ipadic-utf8 (2.7.0-20070801+main-1) ...\n",
            "Setting up libmecab2:amd64 (0.996-5) ...\n",
            "Setting up libmagic-mgc (1:5.32-2ubuntu0.4) ...\n",
            "Setting up libmagic1:amd64 (1:5.32-2ubuntu0.4) ...\n",
            "Setting up mecab-utils (0.996-5) ...\n",
            "Setting up mecab-ipadic (2.7.0-20070801+main-1) ...\n",
            "Compiling IPA dictionary for Mecab.  This takes long time...\n",
            "reading /usr/share/mecab/dic/ipadic/unk.def ... 40\n",
            "emitting double-array: 100% |###########################################| \n",
            "/usr/share/mecab/dic/ipadic/model.def is not found. skipped.\n",
            "reading /usr/share/mecab/dic/ipadic/Symbol.csv ... 208\n",
            "reading /usr/share/mecab/dic/ipadic/Noun.proper.csv ... 27327\n",
            "reading /usr/share/mecab/dic/ipadic/Noun.nai.csv ... 42\n",
            "reading /usr/share/mecab/dic/ipadic/Postp-col.csv ... 91\n",
            "reading /usr/share/mecab/dic/ipadic/Prefix.csv ... 221\n",
            "reading /usr/share/mecab/dic/ipadic/Verb.csv ... 130750\n",
            "reading /usr/share/mecab/dic/ipadic/Auxil.csv ... 199\n",
            "reading /usr/share/mecab/dic/ipadic/Noun.adverbal.csv ... 795\n",
            "reading /usr/share/mecab/dic/ipadic/Adverb.csv ... 3032\n",
            "reading /usr/share/mecab/dic/ipadic/Noun.name.csv ... 34202\n",
            "reading /usr/share/mecab/dic/ipadic/Suffix.csv ... 1393\n",
            "reading /usr/share/mecab/dic/ipadic/Filler.csv ... 19\n",
            "reading /usr/share/mecab/dic/ipadic/Noun.csv ... 60477\n",
            "reading /usr/share/mecab/dic/ipadic/Noun.place.csv ... 72999\n",
            "reading /usr/share/mecab/dic/ipadic/Noun.org.csv ... 16668\n",
            "reading /usr/share/mecab/dic/ipadic/Interjection.csv ... 252\n",
            "reading /usr/share/mecab/dic/ipadic/Noun.verbal.csv ... 12146\n",
            "reading /usr/share/mecab/dic/ipadic/Adj.csv ... 27210\n",
            "reading /usr/share/mecab/dic/ipadic/Others.csv ... 2\n",
            "reading /usr/share/mecab/dic/ipadic/Postp.csv ... 146\n",
            "reading /usr/share/mecab/dic/ipadic/Conjunction.csv ... 171\n",
            "reading /usr/share/mecab/dic/ipadic/Noun.demonst.csv ... 120\n",
            "reading /usr/share/mecab/dic/ipadic/Noun.number.csv ... 42\n",
            "reading /usr/share/mecab/dic/ipadic/Noun.adjv.csv ... 3328\n",
            "reading /usr/share/mecab/dic/ipadic/Noun.others.csv ... 151\n",
            "reading /usr/share/mecab/dic/ipadic/Adnominal.csv ... 135\n",
            "emitting double-array: 100% |###########################################| \n",
            "reading /usr/share/mecab/dic/ipadic/matrix.def ... 1316x1316\n",
            "emitting matrix      : 100% |###########################################| \n",
            "\n",
            "done!\n",
            "update-alternatives: using /var/lib/mecab/dic/ipadic to provide /var/lib/mecab/dic/debian (mecab-dictionary) in auto mode\n",
            "Setting up libmecab-dev (0.996-5) ...\n",
            "Setting up file (1:5.32-2ubuntu0.4) ...\n",
            "Setting up mecab-jumandic-utf8 (7.0-20130310-4) ...\n",
            "Compiling Juman dictionary for Mecab.\n",
            "reading /usr/share/mecab/dic/juman/unk.def ... 37\n",
            "emitting double-array: 100% |###########################################| \n",
            "reading /usr/share/mecab/dic/juman/Noun.koyuu.csv ... 7964\n",
            "reading /usr/share/mecab/dic/juman/Prefix.csv ... 90\n",
            "reading /usr/share/mecab/dic/juman/Noun.suusi.csv ... 49\n",
            "reading /usr/share/mecab/dic/juman/Noun.keishiki.csv ... 8\n",
            "reading /usr/share/mecab/dic/juman/Rengo.csv ... 1118\n",
            "reading /usr/share/mecab/dic/juman/Suffix.csv ... 2128\n",
            "reading /usr/share/mecab/dic/juman/Auto.csv ... 18931\n",
            "reading /usr/share/mecab/dic/juman/AuxV.csv ... 593\n",
            "reading /usr/share/mecab/dic/juman/Noun.hukusi.csv ... 81\n",
            "reading /usr/share/mecab/dic/juman/Demonstrative.csv ... 97\n",
            "reading /usr/share/mecab/dic/juman/Emoticon.csv ... 972\n",
            "reading /usr/share/mecab/dic/juman/Assert.csv ... 34\n",
            "reading /usr/share/mecab/dic/juman/ContentW.csv ... 551145\n",
            "reading /usr/share/mecab/dic/juman/Postp.csv ... 108\n",
            "reading /usr/share/mecab/dic/juman/Wikipedia.csv ... 167709\n",
            "reading /usr/share/mecab/dic/juman/Special.csv ... 158\n",
            "emitting double-array: 100% |###########################################| \n",
            "reading /usr/share/mecab/dic/juman/matrix.def ... 1876x1876\n",
            "emitting matrix      : 100% |###########################################| \n",
            "\n",
            "done!\n",
            "Setting up mecab-ipadic-utf8 (2.7.0-20070801+main-1) ...\n",
            "Compiling IPA dictionary for Mecab.  This takes long time...\n",
            "reading /usr/share/mecab/dic/ipadic/unk.def ... 40\n",
            "emitting double-array: 100% |###########################################| \n",
            "/usr/share/mecab/dic/ipadic/model.def is not found. skipped.\n",
            "reading /usr/share/mecab/dic/ipadic/Symbol.csv ... 208\n",
            "reading /usr/share/mecab/dic/ipadic/Noun.proper.csv ... 27327\n",
            "reading /usr/share/mecab/dic/ipadic/Noun.nai.csv ... 42\n",
            "reading /usr/share/mecab/dic/ipadic/Postp-col.csv ... 91\n",
            "reading /usr/share/mecab/dic/ipadic/Prefix.csv ... 221\n",
            "reading /usr/share/mecab/dic/ipadic/Verb.csv ... 130750\n",
            "reading /usr/share/mecab/dic/ipadic/Auxil.csv ... 199\n",
            "reading /usr/share/mecab/dic/ipadic/Noun.adverbal.csv ... 795\n",
            "reading /usr/share/mecab/dic/ipadic/Adverb.csv ... 3032\n",
            "reading /usr/share/mecab/dic/ipadic/Noun.name.csv ... 34202\n",
            "reading /usr/share/mecab/dic/ipadic/Suffix.csv ... 1393\n",
            "reading /usr/share/mecab/dic/ipadic/Filler.csv ... 19\n",
            "reading /usr/share/mecab/dic/ipadic/Noun.csv ... 60477\n",
            "reading /usr/share/mecab/dic/ipadic/Noun.place.csv ... 72999\n",
            "reading /usr/share/mecab/dic/ipadic/Noun.org.csv ... 16668\n",
            "reading /usr/share/mecab/dic/ipadic/Interjection.csv ... 252\n",
            "reading /usr/share/mecab/dic/ipadic/Noun.verbal.csv ... 12146\n",
            "reading /usr/share/mecab/dic/ipadic/Adj.csv ... 27210\n",
            "reading /usr/share/mecab/dic/ipadic/Others.csv ... 2\n",
            "reading /usr/share/mecab/dic/ipadic/Postp.csv ... 146\n",
            "reading /usr/share/mecab/dic/ipadic/Conjunction.csv ... 171\n",
            "reading /usr/share/mecab/dic/ipadic/Noun.demonst.csv ... 120\n",
            "reading /usr/share/mecab/dic/ipadic/Noun.number.csv ... 42\n",
            "reading /usr/share/mecab/dic/ipadic/Noun.adjv.csv ... 3328\n",
            "reading /usr/share/mecab/dic/ipadic/Noun.others.csv ... 151\n",
            "reading /usr/share/mecab/dic/ipadic/Adnominal.csv ... 135\n",
            "emitting double-array: 100% |###########################################| \n",
            "reading /usr/share/mecab/dic/ipadic/matrix.def ... 1316x1316\n",
            "emitting matrix      : 100% |###########################################| \n",
            "\n",
            "done!\n",
            "update-alternatives: using /var/lib/mecab/dic/ipadic-utf8 to provide /var/lib/mecab/dic/debian (mecab-dictionary) in auto mode\n",
            "Setting up mecab (0.996-5) ...\n",
            "Compiling IPA dictionary for Mecab.  This takes long time...\n",
            "reading /usr/share/mecab/dic/ipadic/unk.def ... 40\n",
            "emitting double-array: 100% |###########################################| \n",
            "/usr/share/mecab/dic/ipadic/model.def is not found. skipped.\n",
            "reading /usr/share/mecab/dic/ipadic/Symbol.csv ... 208\n",
            "reading /usr/share/mecab/dic/ipadic/Noun.proper.csv ... 27327\n",
            "reading /usr/share/mecab/dic/ipadic/Noun.nai.csv ... 42\n",
            "reading /usr/share/mecab/dic/ipadic/Postp-col.csv ... 91\n",
            "reading /usr/share/mecab/dic/ipadic/Prefix.csv ... 221\n",
            "reading /usr/share/mecab/dic/ipadic/Verb.csv ... 130750\n",
            "reading /usr/share/mecab/dic/ipadic/Auxil.csv ... 199\n",
            "reading /usr/share/mecab/dic/ipadic/Noun.adverbal.csv ... 795\n",
            "reading /usr/share/mecab/dic/ipadic/Adverb.csv ... 3032\n",
            "reading /usr/share/mecab/dic/ipadic/Noun.name.csv ... 34202\n",
            "reading /usr/share/mecab/dic/ipadic/Suffix.csv ... 1393\n",
            "reading /usr/share/mecab/dic/ipadic/Filler.csv ... 19\n",
            "reading /usr/share/mecab/dic/ipadic/Noun.csv ... 60477\n",
            "reading /usr/share/mecab/dic/ipadic/Noun.place.csv ... 72999\n",
            "reading /usr/share/mecab/dic/ipadic/Noun.org.csv ... 16668\n",
            "reading /usr/share/mecab/dic/ipadic/Interjection.csv ... 252\n",
            "reading /usr/share/mecab/dic/ipadic/Noun.verbal.csv ... 12146\n",
            "reading /usr/share/mecab/dic/ipadic/Adj.csv ... 27210\n",
            "reading /usr/share/mecab/dic/ipadic/Others.csv ... 2\n",
            "reading /usr/share/mecab/dic/ipadic/Postp.csv ... 146\n",
            "reading /usr/share/mecab/dic/ipadic/Conjunction.csv ... 171\n",
            "reading /usr/share/mecab/dic/ipadic/Noun.demonst.csv ... 120\n",
            "reading /usr/share/mecab/dic/ipadic/Noun.number.csv ... 42\n",
            "reading /usr/share/mecab/dic/ipadic/Noun.adjv.csv ... 3328\n",
            "reading /usr/share/mecab/dic/ipadic/Noun.others.csv ... 151\n",
            "reading /usr/share/mecab/dic/ipadic/Adnominal.csv ... 135\n",
            "emitting double-array: 100% |###########################################| \n",
            "reading /usr/share/mecab/dic/ipadic/matrix.def ... 1316x1316\n",
            "emitting matrix      : 100% |###########################################| \n",
            "\n",
            "done!\n",
            "Setting up mecab-jumandic (7.0-20130310-4) ...\n",
            "Processing triggers for man-db (2.8.3-2ubuntu0.1) ...\n",
            "Processing triggers for libc-bin (2.27-3ubuntu1.3) ...\n",
            "/sbin/ldconfig.real: /usr/local/lib/python3.7/dist-packages/ideep4py/lib/libmkldnn.so.0 is not a symbolic link\n",
            "\n",
            "                            \n",
            "Collecting mecab-python3==0.996.5\n",
            "  Downloading mecab_python3-0.996.5-cp37-cp37m-manylinux2010_x86_64.whl (17.1 MB)\n",
            "\u001b[K     |████████████████████████████████| 17.1 MB 4.7 MB/s \n",
            "\u001b[?25hInstalling collected packages: mecab-python3\n",
            "Successfully installed mecab-python3-0.996.5\n",
            "Collecting unidic-lite\n",
            "  Downloading unidic-lite-1.0.8.tar.gz (47.4 MB)\n",
            "\u001b[K     |████████████████████████████████| 47.4 MB 97 kB/s \n",
            "\u001b[?25hBuilding wheels for collected packages: unidic-lite\n",
            "  Building wheel for unidic-lite (setup.py) ... \u001b[?25l\u001b[?25hdone\n",
            "  Created wheel for unidic-lite: filename=unidic_lite-1.0.8-py3-none-any.whl size=47658836 sha256=5117ad0982c8dd433bc59b2fe96f7b0a692061c328e7d8ec210a4f0ae955e617\n",
            "  Stored in directory: /root/.cache/pip/wheels/de/69/b1/112140b599f2b13f609d485a99e357ba68df194d2079c5b1a2\n",
            "Successfully built unidic-lite\n",
            "Installing collected packages: unidic-lite\n",
            "Successfully installed unidic-lite-1.0.8\n",
            "Collecting janome\n",
            "  Downloading Janome-0.4.1-py2.py3-none-any.whl (19.7 MB)\n",
            "\u001b[K     |████████████████████████████████| 19.7 MB 1.3 MB/s \n",
            "\u001b[?25hInstalling collected packages: janome\n",
            "Successfully installed janome-0.4.1\n",
            "Requirement already satisfied: gensim in /usr/local/lib/python3.7/dist-packages (3.6.0)\n",
            "Requirement already satisfied: smart-open>=1.2.1 in /usr/local/lib/python3.7/dist-packages (from gensim) (5.2.1)\n",
            "Requirement already satisfied: numpy>=1.11.3 in /usr/local/lib/python3.7/dist-packages (from gensim) (1.19.5)\n",
            "Requirement already satisfied: six>=1.5.0 in /usr/local/lib/python3.7/dist-packages (from gensim) (1.15.0)\n",
            "Requirement already satisfied: scipy>=0.18.1 in /usr/local/lib/python3.7/dist-packages (from gensim) (1.4.1)\n"
          ]
        }
      ]
    },
    {
      "cell_type": "markdown",
      "metadata": {
        "id": "R5LEESTsqcok"
      },
      "source": [
        "#### 0.2 必要なモジュールを読み込んで下さい。"
      ]
    },
    {
      "cell_type": "code",
      "metadata": {
        "id": "FYYTeB7Uqcol"
      },
      "source": [
        "import MeCab\n",
        "import pandas as pd\n",
        "import warningｓ\n",
        "import os\n",
        "\n",
        "warnings.simplefilter('ignore')"
      ],
      "execution_count": 2,
      "outputs": []
    },
    {
      "cell_type": "markdown",
      "metadata": {
        "id": "vEjd43b8qwwF"
      },
      "source": [
        "#### 0.3 必要なフォルダとファイルを準備してください。\n",
        "1. 画面左側のフォルダアイコンをクリックしてください。\n",
        "2. クリックしてしばらく待つと、`sample_data`というフォルダが表示されます。この状態になったらフォルダを追加できます。\n",
        "3. フォルダが表示されているエリアの空白を右クリックし、「フォルダを追加」をクリックします。\n",
        "4. 作成したフォルダの名前を `latest-ja-word2vec-gensim-model` に変更します。\n",
        "5. ダウンロードした課題フォルダを開き `latest-ja-word2vec-gensim-model` のフォルダ内にあるファイルを、4で作成したGoogle Colab側の`latest-ja-word2vec-gensim-model` フォルダにアップロードします。(5〜15分程度かかることがあります。)\n",
        "  - word2vec.gensim.model\n",
        "  - word2vec.gensim.model.syn1neg.npy\n",
        "  - word2vec.gensim.model.wv.syn0.npy"
      ]
    },
    {
      "cell_type": "markdown",
      "metadata": {
        "id": "BU9uoEp0qcol"
      },
      "source": [
        "#### 0.4 以下のコードを実行して、学習済みモデルのファイルが存在しているかを確認して下さい。\n",
        "- 存在していればTrueと出力されます\n",
        "- Falseと表示された場合、0.3の手順がうまくいっていない可能性があります。\n",
        "  - フォルダとファイルが正しい名前になっているか、再度確認してください。\n",
        "#### ※参考サイト：「 https://aial.shiroyagi.co.jp/2017/02/japanese-word2vec-model-builder/ 」"
      ]
    },
    {
      "cell_type": "code",
      "metadata": {
        "id": "uYidCZV-qcom",
        "colab": {
          "base_uri": "https://localhost:8080/"
        },
        "outputId": "d7080aac-e357-479f-cbec-dd6554582a2c"
      },
      "source": [
        "trained_model_path = './latest-ja-word2vec-gensim-model/word2vec.gensim.model'\n",
        "os.path.isfile(trained_model_path)"
      ],
      "execution_count": 3,
      "outputs": [
        {
          "output_type": "execute_result",
          "data": {
            "text/plain": [
              "False"
            ]
          },
          "metadata": {},
          "execution_count": 3
        }
      ]
    },
    {
      "cell_type": "markdown",
      "metadata": {
        "id": "0iaiqOFOqcom"
      },
      "source": [
        "### 1. 文字の扱い方について"
      ]
    },
    {
      "cell_type": "markdown",
      "metadata": {
        "id": "lamRVo54qcom"
      },
      "source": [
        "#### 1.1 「スライス」を利用して「aiueo」と言う文字を反対から出力して下さい。"
      ]
    },
    {
      "cell_type": "code",
      "metadata": {
        "scrolled": true,
        "id": "a7lVfX2bqcon",
        "colab": {
          "base_uri": "https://localhost:8080/",
          "height": 35
        },
        "outputId": "05c47767-0aad-4223-c85e-15cb3a475ea8"
      },
      "source": [
        "s = 'aiueo'\n",
        "s[::-1]"
      ],
      "execution_count": 4,
      "outputs": [
        {
          "output_type": "execute_result",
          "data": {
            "application/vnd.google.colaboratory.intrinsic+json": {
              "type": "string"
            },
            "text/plain": [
              "'oeuia'"
            ]
          },
          "metadata": {},
          "execution_count": 4
        }
      ]
    },
    {
      "cell_type": "markdown",
      "metadata": {
        "id": "su7rCBX6qcon"
      },
      "source": [
        "#### 1.2 「スライス」を利用して「あかさたなはまやらわ」から奇数番目の文字を出力して下さい。"
      ]
    },
    {
      "cell_type": "code",
      "metadata": {
        "id": "-gHmUqC2qcon",
        "colab": {
          "base_uri": "https://localhost:8080/",
          "height": 35
        },
        "outputId": "9d720289-9cf8-4bf4-e139-b57007322430"
      },
      "source": [
        "s = 'あかさたなはまやらわ'\n",
        "s[::2]"
      ],
      "execution_count": 5,
      "outputs": [
        {
          "output_type": "execute_result",
          "data": {
            "application/vnd.google.colaboratory.intrinsic+json": {
              "type": "string"
            },
            "text/plain": [
              "'あさなまら'"
            ]
          },
          "metadata": {},
          "execution_count": 5
        }
      ]
    },
    {
      "cell_type": "markdown",
      "metadata": {
        "id": "yJNXKKIkqcon"
      },
      "source": [
        "#### 1.3 「スライス」を利用して「あかさたなはまやらわ」の文字を逆順にして、奇数番目の文字を出力して下さい。"
      ]
    },
    {
      "cell_type": "code",
      "metadata": {
        "scrolled": true,
        "id": "JsJUiYaCqcon",
        "colab": {
          "base_uri": "https://localhost:8080/",
          "height": 35
        },
        "outputId": "eb96685f-0bdb-4dda-cb50-a2d3e332c5c7"
      },
      "source": [
        "s = 'あかさたなはまやらわ'\n",
        "s[::-1][::2]"
      ],
      "execution_count": 6,
      "outputs": [
        {
          "output_type": "execute_result",
          "data": {
            "application/vnd.google.colaboratory.intrinsic+json": {
              "type": "string"
            },
            "text/plain": [
              "'わやはたか'"
            ]
          },
          "metadata": {},
          "execution_count": 6
        }
      ]
    },
    {
      "cell_type": "markdown",
      "metadata": {
        "id": "dDP-aUQNqcoo"
      },
      "source": [
        "#### 1.4 引数a, bを受け取り「aの時はb」という文字列を返す関数を実装し、a=\"ご飯\", b=\"静かにする\"として、実行結果を確認して下さい。"
      ]
    },
    {
      "cell_type": "code",
      "metadata": {
        "id": "Ja_mwLr8qcoo",
        "colab": {
          "base_uri": "https://localhost:8080/",
          "height": 35
        },
        "outputId": "defb6d4b-e6db-422c-f3dc-e7b920a217c0"
      },
      "source": [
        "def template(a, b):\n",
        "    return '{}の時は{}'.format(a, b)\n",
        "template('ご飯','静かにする')"
      ],
      "execution_count": 7,
      "outputs": [
        {
          "output_type": "execute_result",
          "data": {
            "application/vnd.google.colaboratory.intrinsic+json": {
              "type": "string"
            },
            "text/plain": [
              "'ご飯の時は静かにする'"
            ]
          },
          "metadata": {},
          "execution_count": 7
        }
      ]
    },
    {
      "cell_type": "markdown",
      "metadata": {
        "id": "i1IlMx1eqcoo"
      },
      "source": [
        "#### 1.5 「abcde」、「123」の文字列を別々の変数に格納し、下記の様に要素を1つずつ順番に組み合わせ、足りない部分に「zzz」という文字を入れて下さい。※itertoolsモジュールを使用して下さい。"
      ]
    },
    {
      "cell_type": "code",
      "metadata": {
        "id": "9ILWuRYJqcoo"
      },
      "source": [
        ""
      ],
      "execution_count": 7,
      "outputs": []
    },
    {
      "cell_type": "markdown",
      "metadata": {
        "id": "Wv4YRMk9qcoo"
      },
      "source": [
        "#### 1.6 「葛飾区亀有公園前派出所」の文字列から下記のタプルリストを作成して下さい。※ヒント：n-gram"
      ]
    },
    {
      "cell_type": "code",
      "metadata": {
        "scrolled": true,
        "id": "UxXioYDQqcoo"
      },
      "source": [
        ""
      ],
      "execution_count": 7,
      "outputs": []
    },
    {
      "cell_type": "markdown",
      "metadata": {
        "id": "no38zUR2qcop"
      },
      "source": [
        "#### 1.7 「葛飾区亀有公園前派出所」の文字列から下記タプルリストを作成して下さい。※ヒントn-gram"
      ]
    },
    {
      "cell_type": "code",
      "metadata": {
        "scrolled": true,
        "id": "oOGBDmFrqcop"
      },
      "source": [
        ""
      ],
      "execution_count": 7,
      "outputs": []
    },
    {
      "cell_type": "markdown",
      "metadata": {
        "id": "LPV_DMotqcop"
      },
      "source": [
        "### 2. 正規表現について　※reモジュールを使用し、正規表現で「パターンマッチング」して課題に取り組んで下さい。スライスの使用は禁止です。"
      ]
    },
    {
      "cell_type": "markdown",
      "metadata": {
        "id": "2Pc0rI-xqcop"
      },
      "source": [
        "#### 2.1 reモジュールを読み込んで下さい。"
      ]
    },
    {
      "cell_type": "code",
      "metadata": {
        "id": "fBRjvxe3qcop"
      },
      "source": [
        "import re"
      ],
      "execution_count": 8,
      "outputs": []
    },
    {
      "cell_type": "markdown",
      "metadata": {
        "id": "RkojZoQbqcop"
      },
      "source": [
        "#### 2.2 電話番号「012-3456-7890」から市外局番である「012」を抜き出して下さい。"
      ]
    },
    {
      "cell_type": "code",
      "metadata": {
        "id": "-ly2AYhIqcoq",
        "colab": {
          "base_uri": "https://localhost:8080/"
        },
        "outputId": "e4fb0c3f-cf00-4cf3-a45c-8ba5fc143466"
      },
      "source": [
        "tel_number = '012-3456-7890'\n",
        "match = re.search(r'\\d+', tel_number)\n",
        "print(match.group())"
      ],
      "execution_count": 9,
      "outputs": [
        {
          "output_type": "stream",
          "name": "stdout",
          "text": [
            "012\n"
          ]
        }
      ]
    },
    {
      "cell_type": "markdown",
      "metadata": {
        "id": "LILT6ziQqcoq"
      },
      "source": [
        "#### 2.3 文字列「axyzb」から「xyz」を抜き出して下さい。"
      ]
    },
    {
      "cell_type": "code",
      "metadata": {
        "id": "NGJhnKYTqcoq",
        "colab": {
          "base_uri": "https://localhost:8080/"
        },
        "outputId": "23fe213a-e869-4541-c100-b77379bd417d"
      },
      "source": [
        "l = \"axyzb\"\n",
        "print(re.findall('a(.*)b', l))"
      ],
      "execution_count": 10,
      "outputs": [
        {
          "output_type": "stream",
          "name": "stdout",
          "text": [
            "['xyz']\n"
          ]
        }
      ]
    },
    {
      "cell_type": "markdown",
      "metadata": {
        "id": "ear19xTOqcoq"
      },
      "source": [
        "####  2.4 「'Dear aaa@google.com Mr.Sato'」から「メールアドレスのみ」を出力して下さい。"
      ]
    },
    {
      "cell_type": "code",
      "metadata": {
        "id": "XWsNFcPcqcor",
        "colab": {
          "base_uri": "https://localhost:8080/"
        },
        "outputId": "4833f29f-3fad-44ea-f00f-a09b30609f27"
      },
      "source": [
        "l = 'Dear aaa@google.com Mr.Sato'\n",
        "match = re.search(r'[\\w.-]+@[\\w.-]+', l)\n",
        "print(match.group())"
      ],
      "execution_count": 11,
      "outputs": [
        {
          "output_type": "stream",
          "name": "stdout",
          "text": [
            "aaa@google.com\n"
          ]
        }
      ]
    },
    {
      "cell_type": "markdown",
      "metadata": {
        "id": "W_pYagiVqcor"
      },
      "source": [
        "#### 2.5「'Dear aaa@google.com Mr.Sato'」から「メールアドレス」、「ユーザー名」、「ドメイン名」をそれぞれ出力して下さい。"
      ]
    },
    {
      "cell_type": "code",
      "metadata": {
        "id": "4S8sO2NBqcor"
      },
      "source": [
        ""
      ],
      "execution_count": 11,
      "outputs": []
    },
    {
      "cell_type": "markdown",
      "metadata": {
        "id": "wLCwbANmqcos"
      },
      "source": [
        "#### 2.6 「アルファベットのみ」を認識する関数を作成し、その関数に「123456」、「123a」、「abc」、「ABC」を入力し、下記結果を出力して下さい。"
      ]
    },
    {
      "cell_type": "code",
      "metadata": {
        "id": "bgpJArVuqcot",
        "colab": {
          "base_uri": "https://localhost:8080/"
        },
        "outputId": "262dc5f8-7d4e-494b-8e3a-c071f70ca0e7"
      },
      "source": [
        "def is_alphabet(l):\n",
        "    charRe = re.compile(r'[^a-zA-Z.]')\n",
        "    match = charRe.search(l)\n",
        "    return not bool(match)\n",
        "\n",
        "print('123456：',is_alphabet(\"123456\")) \n",
        "print('123a：',is_alphabet(\"123a\"))\n",
        "print('abc：',is_alphabet(\"abc\")) \n",
        "print('ABC：',is_alphabet(\"ABC\")) "
      ],
      "execution_count": 12,
      "outputs": [
        {
          "output_type": "stream",
          "name": "stdout",
          "text": [
            "123456： False\n",
            "123a： False\n",
            "abc： True\n",
            "ABC： True\n"
          ]
        }
      ]
    },
    {
      "cell_type": "markdown",
      "metadata": {
        "id": "MaeHqEkLqcot"
      },
      "source": [
        "#### 2.7 アルファベットの中でも「大文字」、「小文字」を認識する関数を作成して下さい。その関数に「aaabbbc」、「aAabbcc」、「AAABBBC」を入力し、下記結果を出力して下さい。"
      ]
    },
    {
      "cell_type": "code",
      "metadata": {
        "id": "c94Nx-wDqcot",
        "colab": {
          "base_uri": "https://localhost:8080/"
        },
        "outputId": "25cceecc-105e-46d1-cc4c-460c2a5f7f3b"
      },
      "source": [
        "def text_matching(text):\n",
        "    patterns = '^[a-z]+[a-z]+$'\n",
        "    if re.search(patterns,  text):\n",
        "        return True\n",
        "    else:\n",
        "        return False\n",
        "\n",
        "print(\"aaabbbc：\",text_matching(\"aaabbbc\"))\n",
        "print(\"aAabbcc：\",text_matching(\"aAabbcc\"))\n",
        "print(\"AAABBBC：\",text_matching(\"AAABBBC\"))\n"
      ],
      "execution_count": 13,
      "outputs": [
        {
          "output_type": "stream",
          "name": "stdout",
          "text": [
            "aaabbbc： True\n",
            "aAabbcc： False\n",
            "AAABBBC： False\n"
          ]
        }
      ]
    },
    {
      "cell_type": "markdown",
      "metadata": {
        "id": "cskUyL8Qqcot"
      },
      "source": [
        "#### 2.8 ipアドレス「211.08.085.341」から「0」を抜いて下さい。"
      ]
    },
    {
      "cell_type": "code",
      "metadata": {
        "scrolled": true,
        "id": "YZiCMiuCqcot",
        "colab": {
          "base_uri": "https://localhost:8080/"
        },
        "outputId": "45ee6f2f-67bb-4b7d-8447-bf0667032a12"
      },
      "source": [
        "ip = \"211.08.085.341\"\n",
        "l = re.sub('\\.[0]*', '.', ip)\n",
        "print(l)"
      ],
      "execution_count": 14,
      "outputs": [
        {
          "output_type": "stream",
          "name": "stdout",
          "text": [
            "211.8.85.341\n"
          ]
        }
      ]
    },
    {
      "cell_type": "markdown",
      "metadata": {
        "id": "IKuoSeNFqcot"
      },
      "source": [
        "#### 2.9 URL「\"https://www.aaabbb/2020/01/01/%3%7%d%7/ \"」から日付を下記形式で抽出して下さい。"
      ]
    },
    {
      "cell_type": "code",
      "metadata": {
        "id": "_1S7xRHJqcou"
      },
      "source": [
        ""
      ],
      "execution_count": 14,
      "outputs": []
    },
    {
      "cell_type": "markdown",
      "metadata": {
        "id": "bqjNf3ypqcou"
      },
      "source": [
        "#### 2.10 「Tから始まる文字列かどうか」を判定する関数を作成し、「\"Takashi\"」,「\"Noriko\"」の文字列を入力した結果を出力して下さい。"
      ]
    },
    {
      "cell_type": "code",
      "metadata": {
        "id": "4TtG_xx0qcou"
      },
      "source": [
        ""
      ],
      "execution_count": 14,
      "outputs": []
    },
    {
      "cell_type": "markdown",
      "metadata": {
        "id": "T07jG5Qgqcou"
      },
      "source": [
        "#### 2.11 空白を削除する関数を作成し、「\"aaa  bbb       ccc\"」の結果を出力して下さい。"
      ]
    },
    {
      "cell_type": "code",
      "metadata": {
        "scrolled": true,
        "id": "Pf1A8utrqcou"
      },
      "source": [
        ""
      ],
      "execution_count": 14,
      "outputs": []
    },
    {
      "cell_type": "markdown",
      "metadata": {
        "id": "YZMDRbtvqcou"
      },
      "source": [
        "### 3. Mecabの使い方について"
      ]
    },
    {
      "cell_type": "markdown",
      "metadata": {
        "id": "-Zus1b_Kqcou"
      },
      "source": [
        "#### 3.1 「すももももももももうのうち」を分かち書きして下さい。"
      ]
    },
    {
      "cell_type": "code",
      "metadata": {
        "scrolled": true,
        "id": "osRyzThZqcou",
        "colab": {
          "base_uri": "https://localhost:8080/"
        },
        "outputId": "e5bff8ec-0dad-439c-8a5d-b192bfc53d6f"
      },
      "source": [
        "mecab = MeCab.Tagger (\"-Owakati\")\n",
        "text = mecab.parse (\"すもももももももものうち\")\n",
        "print(text)"
      ],
      "execution_count": 15,
      "outputs": [
        {
          "output_type": "stream",
          "name": "stdout",
          "text": [
            "すもも も もも も もも の うち \n",
            "\n"
          ]
        }
      ]
    },
    {
      "cell_type": "markdown",
      "metadata": {
        "id": "SYqNFmq_qcou"
      },
      "source": [
        "#### 3.2「あの花はとても美しい」を形態素解析して下さい。"
      ]
    },
    {
      "cell_type": "code",
      "metadata": {
        "scrolled": true,
        "id": "GY-sMBUtqcov",
        "colab": {
          "base_uri": "https://localhost:8080/"
        },
        "outputId": "85ac4ace-cb2c-4f75-952f-841a8b2cd195"
      },
      "source": [
        "l = 'あの花はとても美しい'\n",
        "me = MeCab.Tagger (\"-Ochasen\")\n",
        "print(me.parse (l))"
      ],
      "execution_count": 16,
      "outputs": [
        {
          "output_type": "stream",
          "name": "stdout",
          "text": [
            "あの\tアノ\tあの\t連体詞\t\t\n",
            "花\tハナ\t花\t名詞-一般\t\t\n",
            "は\tハ\tは\t助詞-係助詞\t\t\n",
            "とても\tトテモ\tとても\t副詞-助詞類接続\t\t\n",
            "美しい\tウツクシイ\t美しい\t形容詞-自立\t形容詞・イ段\t基本形\n",
            "EOS\n",
            "\n"
          ]
        }
      ]
    },
    {
      "cell_type": "markdown",
      "metadata": {
        "id": "zxiS0Tbtqcov"
      },
      "source": [
        "#### 3.3 「すもももももももものうち」という文章を形態素解析して、結果を確認して下さい。"
      ]
    },
    {
      "cell_type": "code",
      "metadata": {
        "id": "b8rOu2fQqcov",
        "colab": {
          "base_uri": "https://localhost:8080/"
        },
        "outputId": "7ed2a53d-36b2-4773-def0-4832a500f2db"
      },
      "source": [
        "m = MeCab.Tagger (\"-Ochasen\")\n",
        "m.parse('')\n",
        "node = m.parseToNode(\"すもももももももものうち\")\n",
        "while node:\n",
        "    print(node.surface)\n",
        "    print(node.feature)\n",
        "    node = node.next"
      ],
      "execution_count": 17,
      "outputs": [
        {
          "output_type": "stream",
          "name": "stdout",
          "text": [
            "\n",
            "BOS/EOS,*,*,*,*,*,*,*,*\n",
            "すもも\n",
            "名詞,一般,*,*,*,*,すもも,スモモ,スモモ\n",
            "も\n",
            "助詞,係助詞,*,*,*,*,も,モ,モ\n",
            "もも\n",
            "名詞,一般,*,*,*,*,もも,モモ,モモ\n",
            "も\n",
            "助詞,係助詞,*,*,*,*,も,モ,モ\n",
            "もも\n",
            "名詞,一般,*,*,*,*,もも,モモ,モモ\n",
            "の\n",
            "助詞,連体化,*,*,*,*,の,ノ,ノ\n",
            "うち\n",
            "名詞,非自立,副詞可能,*,*,*,うち,ウチ,ウチ\n",
            "\n",
            "BOS/EOS,*,*,*,*,*,*,*,*\n"
          ]
        }
      ]
    },
    {
      "cell_type": "markdown",
      "metadata": {
        "id": "aZLTtX02qcov"
      },
      "source": [
        "#### 3.4 「すもももももももものうち」という文章が取りうるすべての形態素を表示して下さい。"
      ]
    },
    {
      "cell_type": "code",
      "metadata": {
        "id": "KK6Tf_nPqcov",
        "colab": {
          "base_uri": "https://localhost:8080/"
        },
        "outputId": "63a5072e-50c7-435c-edc5-f2c9581c0341"
      },
      "source": [
        "mecab = MeCab.Tagger (\"-a --all-morphs\")\n",
        "text = mecab.parse (\"すもももももももものうち\")\n",
        "print(text)"
      ],
      "execution_count": 18,
      "outputs": [
        {
          "output_type": "stream",
          "name": "stdout",
          "text": [
            "すもも\t名詞,一般,*,*,*,*,すもも,スモモ,スモモ\n",
            "すも\t動詞,自立,*,*,五段・マ行,未然ウ接続,すむ,スモ,スモ\n",
            "す\t名詞,一般,*,*,*,*,す,ス,ス\n",
            "す\t形容詞,自立,*,*,形容詞・アウオ段,ガル接続,すい,ス,ス\n",
            "す\t接頭詞,名詞接続,*,*,*,*,す,ス,ス\n",
            "す\t動詞,自立,*,*,サ変・スル,体言接続特殊２,する,ス,ス\n",
            "す\t動詞,自立,*,*,サ変・スル,文語基本形,する,ス,ス\n",
            "す\t動詞,自立,*,*,五段・ラ行,体言接続特殊２,する,ス,ス\n",
            "す\t動詞,接尾,*,*,五段・サ行,基本形,す,ス,ス\n",
            "もも\t名詞,一般,*,*,*,*,もも,モモ,モモ\n",
            "もも\t動詞,自立,*,*,五段・マ行,未然ウ接続,もむ,モモ,モモ\n",
            "も\t助詞,係助詞,*,*,*,*,も,モ,モ\n",
            "も\t動詞,自立,*,*,五段・ラ行,体言接続特殊２,もる,モ,モ\n",
            "もも\t名詞,一般,*,*,*,*,もも,モモ,モモ\n",
            "もも\t動詞,自立,*,*,五段・マ行,未然ウ接続,もむ,モモ,モモ\n",
            "も\t助詞,係助詞,*,*,*,*,も,モ,モ\n",
            "も\t動詞,自立,*,*,五段・ラ行,体言接続特殊２,もる,モ,モ\n",
            "もも\t名詞,一般,*,*,*,*,もも,モモ,モモ\n",
            "もも\t動詞,自立,*,*,五段・マ行,未然ウ接続,もむ,モモ,モモ\n",
            "も\t助詞,係助詞,*,*,*,*,も,モ,モ\n",
            "も\t動詞,自立,*,*,五段・ラ行,体言接続特殊２,もる,モ,モ\n",
            "もも\t名詞,一般,*,*,*,*,もも,モモ,モモ\n",
            "もも\t動詞,自立,*,*,五段・マ行,未然ウ接続,もむ,モモ,モモ\n",
            "も\t助詞,係助詞,*,*,*,*,も,モ,モ\n",
            "も\t動詞,自立,*,*,五段・ラ行,体言接続特殊２,もる,モ,モ\n",
            "もも\t名詞,一般,*,*,*,*,もも,モモ,モモ\n",
            "もも\t動詞,自立,*,*,五段・マ行,未然ウ接続,もむ,モモ,モモ\n",
            "も\t助詞,係助詞,*,*,*,*,も,モ,モ\n",
            "も\t動詞,自立,*,*,五段・ラ行,体言接続特殊２,もる,モ,モ\n",
            "もも\t名詞,一般,*,*,*,*,もも,モモ,モモ\n",
            "もも\t動詞,自立,*,*,五段・マ行,未然ウ接続,もむ,モモ,モモ\n",
            "も\t助詞,係助詞,*,*,*,*,も,モ,モ\n",
            "も\t動詞,自立,*,*,五段・ラ行,体言接続特殊２,もる,モ,モ\n",
            "もも\t名詞,一般,*,*,*,*,もも,モモ,モモ\n",
            "もも\t動詞,自立,*,*,五段・マ行,未然ウ接続,もむ,モモ,モモ\n",
            "も\t助詞,係助詞,*,*,*,*,も,モ,モ\n",
            "も\t動詞,自立,*,*,五段・ラ行,体言接続特殊２,もる,モ,モ\n",
            "ものう\t形容詞,自立,*,*,形容詞・アウオ段,ガル接続,ものうい,モノウ,モノウ\n",
            "もの\t名詞,非自立,一般,*,*,*,もの,モノ,モノ\n",
            "もの\t名詞,一般,*,*,*,*,もの,モノ,モノ\n",
            "もの\t名詞,接尾,一般,*,*,*,もの,モノ,モノ\n",
            "も\t助詞,係助詞,*,*,*,*,も,モ,モ\n",
            "も\t動詞,自立,*,*,五段・ラ行,体言接続特殊２,もる,モ,モ\n",
            "のう\t助動詞,*,*,*,特殊・ナイ,連用ゴザイ接続,ない,ノウ,ノー\n",
            "のう\t助詞,終助詞,*,*,*,*,のう,ノウ,ノー\n",
            "の\t名詞,非自立,一般,*,*,*,の,ノ,ノ\n",
            "の\t助詞,終助詞,*,*,*,*,の,ノ,ノ\n",
            "の\t助詞,連体化,*,*,*,*,の,ノ,ノ\n",
            "の\t助詞,格助詞,一般,*,*,*,の,ノ,ノ\n",
            "の\t動詞,自立,*,*,五段・ラ行,体言接続特殊２,のる,ノ,ノ\n",
            "うち\t名詞,非自立,一般,*,*,*,うち,ウチ,ウチ\n",
            "うち\t名詞,非自立,副詞可能,*,*,*,うち,ウチ,ウチ\n",
            "うち\t名詞,一般,*,*,*,*,うち,ウチ,ウチ\n",
            "うち\t名詞,代名詞,一般,*,*,*,うち,ウチ,ウチ\n",
            "うち\t名詞,副詞可能,*,*,*,*,うち,ウチ,ウチ\n",
            "うち\t動詞,自立,*,*,五段・タ行,連用形,うつ,ウチ,ウチ\n",
            "う\t助動詞,*,*,*,不変化型,基本形,う,ウ,ウ\n",
            "う\t形容詞,自立,*,*,形容詞・アウオ段,ガル接続,うい,ウ,ウ\n",
            "う\t感動詞,*,*,*,*,*,う,ウ,ウ\n",
            "う\t動詞,自立,*,*,五段・ラ行,体言接続特殊２,うる,ウ,ウ\n",
            "ち\t動詞,自立,*,*,五段・ラ行,体言接続特殊２,ちる,チ,チ\n",
            "EOS\n",
            "\n"
          ]
        }
      ]
    },
    {
      "cell_type": "markdown",
      "metadata": {
        "id": "NvRn_Hnbqcov"
      },
      "source": [
        "#### 3.5下記文章を形態素解析して、「名詞」をリスト化して下さい。「ウィキペディアは、信頼されるフリーなオンライン百科事典、それも質・量ともに史上最大の百科事典を、共同作業で創り上げることを目的とするプロジェクト、およびその成果である百科事典本体です。」"
      ]
    },
    {
      "cell_type": "code",
      "metadata": {
        "id": "WSDbuDHLqcov",
        "colab": {
          "base_uri": "https://localhost:8080/"
        },
        "outputId": "3633047c-2335-49ec-af25-fe5f9ab5783a"
      },
      "source": [
        "sentence = \"\"\"ウィキペディアは、信頼されるフリーなオンライン百科事典、それも質・量ともに史上最大の百科事典を、\n",
        "共同作業で創り上げることを目的とするプロジェクト、およびその成果である百科事典本体です。\"\"\"\n",
        " \n",
        "t = MeCab.Tagger(\"-Ochasen\")\n",
        "t.parse('')\n",
        "m = t.parseToNode(sentence)\n",
        "keywords = []\n",
        "while m:\n",
        "    if m.feature.split(',')[0] == '名詞':\n",
        "        keywords.append(m.surface)\n",
        "    m = m.next\n",
        "print(keywords)"
      ],
      "execution_count": 19,
      "outputs": [
        {
          "output_type": "stream",
          "name": "stdout",
          "text": [
            "['ウィキペディア', '信頼', 'フリー', 'オンライン', '百科', '事典', 'それ', '質', '量', 'とも', '史上', '最大', '百科', '事典', '共同', '作業', 'こと', '目的', 'プロジェクト', '成果', '百科', '事典', '本体']\n"
          ]
        }
      ]
    },
    {
      "cell_type": "markdown",
      "metadata": {
        "id": "nCW3NaErqcow"
      },
      "source": [
        "#### 3.6「3.5」の文章の「名詞」、「動詞」、「助動詞」の数をカウントして下さい。"
      ]
    },
    {
      "cell_type": "code",
      "metadata": {
        "id": "4lZvnl0Hqcow",
        "colab": {
          "base_uri": "https://localhost:8080/"
        },
        "outputId": "f9f89963-5014-431d-b427-316d7f949340"
      },
      "source": [
        "sentence = \"\"\"ウィキペディアは、信頼されるフリーなオンライン百科事典、それも質・量ともに史上最大の百科事典を、\n",
        "共同作業で創り上げることを目的とするプロジェクト、およびその成果である百科事典本体です。\"\"\"\n",
        " \n",
        "t = MeCab.Tagger(\"-Ochasen\")\n",
        "t.parse('')\n",
        "m = t.parseToNode(sentence)\n",
        "keywords_info = []\n",
        "while m:\n",
        "    hinsi = m.feature.split(',')[0]\n",
        "    if hinsi in [\"名詞\",\"動詞\",\"助動詞\"]:\n",
        "        keywords_info.append(hinsi)\n",
        "    m = m.next\n",
        "pd.Series(keywords_info).value_counts()"
      ],
      "execution_count": 20,
      "outputs": [
        {
          "output_type": "execute_result",
          "data": {
            "text/plain": [
              "名詞     23\n",
              "動詞      5\n",
              "助動詞     4\n",
              "dtype: int64"
            ]
          },
          "metadata": {},
          "execution_count": 20
        }
      ]
    },
    {
      "cell_type": "markdown",
      "metadata": {
        "id": "QPbXJOSFqcow"
      },
      "source": [
        "### 4. Word to vecについて"
      ]
    },
    {
      "cell_type": "markdown",
      "metadata": {
        "id": "Zt82Nt53qcow"
      },
      "source": [
        "#### 4.0 事前準備：下記コードを読み込んで下さい。"
      ]
    },
    {
      "cell_type": "code",
      "metadata": {
        "id": "TbY1PpeSqcow",
        "outputId": "3b4232f3-8241-412c-b660-1377dd8d0b87",
        "colab": {
          "base_uri": "https://localhost:8080/",
          "height": 226
        }
      },
      "source": [
        "import urllib.request\n",
        "import zipfile\n",
        "\n",
        "URL = 'https://www.aozora.gr.jp/cards/000148/files/789_ruby_5639.zip'\n",
        "zip = '789_ruby_5639.zip'\n",
        "\n",
        "urllib.request.urlretrieve(URL, zip)\n",
        "\n",
        "with zipfile.ZipFile(zip, 'r') as myzip:\n",
        "    myzip.extractall()\n",
        "    for myfile in myzip.infolist():\n",
        "        filename = myfile.filename\n",
        "        with open(filename, encoding='sjis') as file:\n",
        "            text = file.read()\n",
        "\n",
        "from janome.tokenizer import Tokenizer\n",
        "# 1万文字まで「text」変数に格納する\n",
        "text = text[:10000]\n",
        "text"
      ],
      "execution_count": 21,
      "outputs": [
        {
          "output_type": "execute_result",
          "data": {
            "application/vnd.google.colaboratory.intrinsic+json": {
              "type": "string"
            },
            "text/plain": [
              "'吾輩は猫である\\n夏目漱石\\n\\n-------------------------------------------------------\\n【テキスト中に現れる記号について】\\n\\n《》：ルビ\\n（例）吾輩《わがはい》\\n\\n｜：ルビの付く文字列の始まりを特定する記号\\n（例）一番｜獰悪《どうあく》\\n\\n［＃］：入力者注\\u3000主に外字の説明や、傍点の位置の指定\\n\\u3000\\u3000\\u3000（数字は、JIS X 0213の面区点番号またはUnicode、底本のページと行数）\\n（例）※［＃「言＋墟のつくり」、第4水準2-88-74］\\n\\n〔〕：アクセント分解された欧文をかこむ\\n（例）〔Quid aliud est mulier nisi amicitiae& inimica〕\\nアクセント分解についての詳細は下記URLを参照してください\\nhttp://www.aozora.gr.jp/accent_separation.html\\n-------------------------------------------------------\\n\\n［＃８字下げ］一［＃「一」は中見出し］\\n\\n\\u3000吾輩《わがはい》は猫である。名前はまだ無い。\\n\\u3000どこで生れたかとんと見当《けんとう》がつかぬ。何でも薄暗いじめじめした所でニャーニャー泣いていた事だけは記憶している。吾輩はここで始めて人間というものを見た。しかもあとで聞くとそれは書生という人間中で一番｜獰悪《どうあく》な種族であったそうだ。この書生というのは時々我々を捕《つかま》えて煮《に》て食うという話である。しかしその当時は何という考もなかったから別段恐しいとも思わなかった。ただ彼の掌《てのひら》に載せられてスーと持ち上げられた時何だかフワフワした感じがあったばかりである。掌の上で少し落ちついて書生の顔を見たのがいわゆる人間というものの見始《みはじめ》であろう。この時妙なものだと思った感じが今でも残っている。第一毛をもって装飾されべきはずの顔がつるつるしてまるで薬缶《やかん》だ。その後《ご》猫にもだいぶ逢《あ》ったがこんな片輪《かたわ》には一度も出会《でく》わした事がない。のみならず顔の真中があまりに突起している。そうしてその穴の中から時々ぷうぷうと煙《けむり》を吹く。どうも咽《む》せぽくて実に弱った。これが人間の飲む煙草《たばこ》というものである事はようやくこの頃知った。\\n\\u3000この書生の掌の裏《うち》でしばらくはよい心持に坐っておったが、しばらくすると非常な速力で運転し始めた。書生が動くのか自分だけが動くのか分らないが無暗《むやみ》に眼が廻る。胸が悪くなる。到底《とうてい》助からないと思っていると、どさりと音がして眼から火が出た。それまでは記憶しているがあとは何の事やらいくら考え出そうとしても分らない。\\n\\u3000ふと気が付いて見ると書生はいない。たくさんおった兄弟が一｜疋《ぴき》も見えぬ。肝心《かんじん》の母親さえ姿を隠してしまった。その上｜今《いま》までの所とは違って無暗《むやみ》に明るい。眼を明いていられぬくらいだ。はてな何でも容子《ようす》がおかしいと、のそのそ這《は》い出して見ると非常に痛い。吾輩は藁《わら》の上から急に笹原の中へ棄てられたのである。\\n\\u3000ようやくの思いで笹原を這い出すと向うに大きな池がある。吾輩は池の前に坐ってどうしたらよかろうと考えて見た。別にこれという分別《ふんべつ》も出ない。しばらくして泣いたら書生がまた迎に来てくれるかと考え付いた。ニャー、ニャーと試みにやって見たが誰も来ない。そのうち池の上をさらさらと風が渡って日が暮れかかる。腹が非常に減って来た。泣きたくても声が出ない。仕方がない、何でもよいから食物《くいもの》のある所まであるこうと決心をしてそろりそろりと池を左《ひだ》りに廻り始めた。どうも非常に苦しい。そこを我慢して無理やりに這《は》って行くとようやくの事で何となく人間臭い所へ出た。ここへ這入《はい》ったら、どうにかなると思って竹垣の崩《くず》れた穴から、とある邸内にもぐり込んだ。縁は不思議なもので、もしこの竹垣が破れていなかったなら、吾輩はついに路傍《ろぼう》に餓死《がし》したかも知れんのである。一樹の蔭とはよく云《い》ったものだ。この垣根の穴は今日《こんにち》に至るまで吾輩が隣家《となり》の三毛を訪問する時の通路になっている。さて邸《やしき》へは忍び込んだもののこれから先どうして善《い》いか分らない。そのうちに暗くなる、腹は減る、寒さは寒し、雨が降って来るという始末でもう一刻の猶予《ゆうよ》が出来なくなった。仕方がないからとにかく明るくて暖かそうな方へ方へとあるいて行く。今から考えるとその時はすでに家の内に這入っておったのだ。ここで吾輩は彼《か》の書生以外の人間を再び見るべき機会に遭遇《そうぐう》したのである。第一に逢ったのがおさんである。これは前の書生より一層乱暴な方で吾輩を見るや否やいきなり頸筋《くびすじ》をつかんで表へ抛《ほう》り出した。いやこれは駄目だと思ったから眼をねぶって運を天に任せていた。しかしひもじいのと寒いのにはどうしても我慢が出来ん。吾輩は再びおさんの隙《すき》を見て台所へ這《は》い上《あが》った。すると間もなくまた投げ出された。吾輩は投げ出されては這い上り、這い上っては投げ出され、何でも同じ事を四五遍繰り返したのを記憶している。その時におさんと云う者はつくづくいやになった。この間おさんの三馬《さんま》を偸《ぬす》んでこの返報をしてやってから、やっと胸の痞《つかえ》が下りた。吾輩が最後につまみ出されようとしたときに、この家《うち》の主人が騒々しい何だといいながら出て来た。下女は吾輩をぶら下げて主人の方へ向けてこの宿《やど》なしの小猫がいくら出しても出しても御台所《おだいどころ》へ上《あが》って来て困りますという。主人は鼻の下の黒い毛を撚《ひね》りながら吾輩の顔をしばらく眺《なが》めておったが、やがてそんなら内へ置いてやれといったまま奥へ這入《はい》ってしまった。主人はあまり口を聞かぬ人と見えた。下女は口惜《くや》しそうに吾輩を台所へ抛《ほう》り出した。かくして吾輩はついにこの家《うち》を自分の住家《すみか》と極《き》める事にしたのである。\\n\\u3000吾輩の主人は滅多《めった》に吾輩と顔を合せる事がない。職業は教師だそうだ。学校から帰ると終日書斎に這入ったぎりほとんど出て来る事がない。家のものは大変な勉強家だと思っている。当人も勉強家であるかのごとく見せている。しかし実際はうちのものがいうような勤勉家ではない。吾輩は時々忍び足に彼の書斎を覗《のぞ》いて見るが、彼はよく昼寝《ひるね》をしている事がある。時々読みかけてある本の上に涎《よだれ》をたらしている。彼は胃弱で皮膚の色が淡黄色《たんこうしょく》を帯びて弾力のない不活溌《ふかっぱつ》な徴候をあらわしている。その癖に大飯を食う。大飯を食った後《あと》でタカジヤスターゼを飲む。飲んだ後で書物をひろげる。二三ページ読むと眠くなる。涎を本の上へ垂らす。これが彼の毎夜繰り返す日課である。吾輩は猫ながら時々考える事がある。教師というものは実に楽《らく》なものだ。人間と生れたら教師となるに限る。こんなに寝ていて勤まるものなら猫にでも出来ぬ事はないと。それでも主人に云わせると教師ほどつらいものはないそうで彼は友達が来る度《たび》に何とかかんとか不平を鳴らしている。\\n\\u3000吾輩がこの家へ住み込んだ当時は、主人以外のものにははなはだ不人望であった。どこへ行っても跳《は》ね付けられて相手にしてくれ手がなかった。いかに珍重されなかったかは、今日《こんにち》に至るまで名前さえつけてくれないのでも分る。吾輩は仕方がないから、出来得る限り吾輩を入れてくれた主人の傍《そば》にいる事をつとめた。朝主人が新聞を読むときは必ず彼の膝《ひざ》の上に乗る。彼が昼寝をするときは必ずその背中《せなか》に乗る。これはあながち主人が好きという訳ではないが別に構い手がなかったからやむを得んのである。その後いろいろ経験の上、朝は飯櫃《めしびつ》の上、夜は炬燵《こたつ》の上、天気のよい昼は椽側《えんがわ》へ寝る事とした。しかし一番心持の好いのは夜《よ》に入《い》ってここのうちの小供の寝床へもぐり込んでいっしょにねる事である。この小供というのは五つと三つで夜になると二人が一つ床へ入《はい》って一間《ひとま》へ寝る。吾輩はいつでも彼等の中間に己《おの》れを容《い》るべき余地を見出《みいだ》してどうにか、こうにか割り込むのであるが、運悪く小供の一人が眼を醒《さ》ますが最後大変な事になる。小供は――ことに小さい方が質《たち》がわるい――猫が来た猫が来たといって夜中でも何でも大きな声で泣き出すのである。すると例の神経胃弱性の主人は必《かなら》ず眼をさまして次の部屋から飛び出してくる。現にせんだってなどは物指《ものさし》で尻ぺたをひどく叩《たた》かれた。\\n\\u3000吾輩は人間と同居して彼等を観察すればするほど、彼等は我儘《わがまま》なものだと断言せざるを得ないようになった。ことに吾輩が時々｜同衾《どうきん》する小供のごときに至っては言語同断《ごんごどうだん》である。自分の勝手な時は人を逆さにしたり、頭へ袋をかぶせたり、抛《ほう》り出したり、へっつい［＃「へっつい」に傍点］の中へ押し込んだりする。しかも吾輩の方で少しでも手出しをしようものなら家内《かない》総がかりで追い廻して迫害を加える。この間もちょっと畳で爪を磨《と》いだら細君が非常に怒《おこ》ってそれから容易に座敷へ入《い》れない。台所の板の間で他《ひと》が顫《ふる》えていても一向《いっこう》平気なものである。吾輩の尊敬する筋向《すじむこう》の白君などは逢《あ》う度毎《たびごと》に人間ほど不人情なものはないと言っておらるる。白君は先日玉のような子猫を四疋｜産《う》まれたのである。ところがそこの家《うち》の書生が三日目にそいつを裏の池へ持って行って四疋ながら棄てて来たそうだ。白君は涙を流してその一部始終を話した上、どうしても我等｜猫族《ねこぞく》が親子の愛を完《まった》くして美しい家族的生活をするには人間と戦ってこれを剿滅《そうめつ》せねばならぬといわれた。一々もっともの議論と思う。また隣りの三毛《みけ》君などは人間が所有権という事を解していないといって大《おおい》に憤慨している。元来我々同族間では目刺《めざし》の頭でも鰡《ぼら》の臍《へそ》でも一番先に見付けたものがこれを食う権利があるものとなっている。もし相手がこの規約を守らなければ腕力に訴えて善《よ》いくらいのものだ。しかるに彼等人間は毫《ごう》もこの観念がないと見えて我等が見付けた御馳走は必ず彼等のために掠奪《りゃくだつ》せらるるのである。彼等はその強力を頼んで正当に吾人が食い得べきものを奪《うば》ってすましている。白君は軍人の家におり三毛君は代言の主人を持っている。吾輩は教師の家に住んでいるだけ、こんな事に関すると両君よりもむしろ楽天である。ただその日その日がどうにかこうにか送られればよい。いくら人間だって、そういつまでも栄える事もあるまい。まあ気を永く猫の時節を待つがよかろう。\\n\\u3000我儘《わがまま》で思い出したからちょっと吾輩の家の主人がこの我儘で失敗した話をしよう。元来この主人は何といって人に勝《すぐ》れて出来る事もないが、何にでもよく手を出したがる。俳句をやってほととぎす［＃「ほととぎす」に傍点］へ投書をしたり、新体詩を明星［＃「明星」に傍点］へ出したり、間違いだらけの英文をかいたり、時によると弓に凝《こ》ったり、謡《うたい》を習ったり、またあるときはヴァイオリンなどをブーブー鳴らしたりするが、気の毒な事には、どれもこれも物になっておらん。その癖やり出すと胃弱の癖にいやに熱心だ。後架《こうか》の中で謡をうたって、近所で後架先生《こうかせんせい》と渾名《あだな》をつけられているにも関せず一向《いっこう》平気なもので、やはりこれは平《たいら》の宗盛《むねもり》にて候《そうろう》を繰返している。みんながそら宗盛だと吹き出すくらいである。この主人がどういう考になったものか吾輩の住み込んでから一月ばかり後《のち》のある月の月給日に、大きな包みを提《さ》げてあわただしく帰って来た。何を買って来たのかと思うと水彩絵具と毛筆とワットマンという紙で今日から謡や俳句をやめて絵をかく決心と見えた。果して翌日から当分の間というものは毎日毎日書斎で昼寝もしないで絵ばかりかいている。しかしそのかき上げたものを見ると何をかいたものやら誰にも鑑定がつかない。当人もあまり甘《うま》くないと思ったものか、ある日その友人で美学とかをやっている人が来た時に下《しも》のような話をしているのを聞いた。\\n「どうも甘《うま》くかけないものだね。人のを見ると何でもないようだが自《みずか》ら筆をとって見ると今更《いまさら》のようにむずかしく感ずる」これは主人の述懐《じゅっかい》である。なるほど詐《いつわ》りのない処だ。彼の友は金縁の眼鏡越《めがねごし》に主人の顔を見ながら、「そう初めから上手にはかけないさ、第一室内の想像ばかりで画《え》がかける訳のものではない。昔《むか》し以太利《イタリー》の大家アンドレア・デル・サルトが言った事がある。画をかくなら何でも自然その物を写せ。天に星辰《せいしん》あり。地に露華《ろか》あり。飛ぶに禽《とり》あり。走るに獣《けもの》あり。池に金魚あり。枯木《こぼく》に寒鴉《かんあ》あり。自然はこれ一幅の大活画《だいかつが》なりと。どうだ君も画らしい画をかこうと思うならちと写生をしたら」\\n「へえアンドレア・デル・サルトがそんな事をいった事があるかい。ちっとも知らなかった。なるほどこりゃもっともだ。実にその通りだ」と主人は無暗《むやみ》に感心している。金縁の裏には嘲《あざ》けるような笑《わらい》が見えた。\\n\\u3000その翌日吾輩は例のごとく椽側《えんがわ》に出て心持善く昼寝《ひるね》をしていたら、主人が例になく書斎から出て来て吾輩の後《うし》ろで何かしきりにやっている。ふと眼が覚《さ》めて何をしているかと一分《いちぶ》ばかり細目に眼をあけて見ると、彼は余念もなくアンドレア・デル・サルトを極《き》め込んでいる。吾輩はこの有様を見て覚えず失笑するのを禁じ得なかった。彼は彼の友に揶揄《やゆ》せられたる結果としてまず手初めに吾輩を写生しつつあるのである。吾輩はすでに十分《じゅうぶん》寝た。欠伸《あくび》がしたくてたまらない。しかしせっかく主人が熱心に筆を執《と》っているのを動いては気の毒だと思って、じっと辛棒《しんぼう》しておった。彼は今吾輩の輪廓をかき上げて顔のあたりを色彩《いろど》っている。吾輩は自白する。吾輩は猫として決して上乗の出来ではない。背といい毛並といい顔の造作といいあえて他の猫に勝《まさ》るとは決して思っておらん。しかしいくら不器量の吾輩でも、今吾輩の主人に描《えが》き出されつつあるような妙な姿とは、どうしても思われない。第一色が違う。吾輩は波斯産《ペルシャさん》の猫のごとく黄を含める淡灰色に漆《うるし》のごとき斑入《ふい》りの皮膚を有している。これだけは誰が見ても疑うべからざる事実と思う。しかるに今主人の彩色を見ると、黄でもなければ黒でもない、灰色でもなければ褐色《とびいろ》でもない、さればとてこれらを交ぜた色でもない。ただ一種の色であるというよりほかに評し方のない色である。その上不思議な事は眼がない。もっともこれは寝ているところを写生したのだから無理もないが眼らしい所さえ見えないから盲猫《めくら》だか寝ている猫だか判然しないのである。吾輩は心中ひそかにいくらアンドレア・デル・サルトでもこれではしようがないと思った。しかしその熱心には感服せざるを得ない。なるべくなら動かずにおってやりたいと思ったが、さっきから小便が催うしている。身内《みうち》の筋肉はむずむずする。最早《もはや》一分も猶予《ゆうよ》が出来ぬ仕儀《しぎ》となったから、やむをえず失敬して両足を前へ存分のして、首を低く押し出してあーあと大《だい》なる欠伸をした。さてこうなって見ると、もうおとなしくしていても仕方がない。どうせ主人の予定は打《ぶ》ち壊《こ》わしたのだから、ついでに裏へ行って用を足《た》そうと思ってのそのそ這い出した。すると主人は失望と怒りを掻《か》き交ぜたような声をして、座敷の中から「この馬鹿野郎」と怒鳴《どな》った。この主人は人を罵《ののし》るときは必ず馬鹿野郎というのが癖である。ほかに悪口の言いようを知らないのだから仕方がないが、今まで辛棒した人の気も知らないで、無暗《むやみ》に馬鹿野郎｜呼《よば》わりは失敬だと思う。それも平生吾輩が彼の背中《せなか》へ乗る時に少しは好い顔でもするならこの漫罵《まんば》も甘んじて受けるが、こっちの便利になる事は何一つ快くしてくれた事もないのに、小便に立ったのを馬鹿野郎とは酷《ひど》い。元来人間というものは自己の力量に慢じてみんな増長している。少し人間より強いものが出て来て窘《いじ》めてやらなくてはこの先どこまで増長するか分らない。\\n\\u3000我儘《わがまま》もこのくらいなら我慢するが吾輩は人間の不徳についてこれよりも数倍悲しむべき報道を耳にした事がある。\\n\\u3000吾輩の家の裏に十坪ばかりの茶園《ちゃえん》がある。広くはないが瀟洒《さっぱり》とした心持ち好く日の当《あた》る所だ。うちの小供があまり騒いで楽々昼寝の出来ない時や、あまり退屈で腹加減のよくない折などは、吾輩はいつでもここへ出て浩然《こうぜん》の気を養うのが例である。ある小春の穏かな日の二時頃であったが、吾輩は昼飯後《ちゅうはんご》快よく一睡した後《のち》、運動かたがたこの茶園へと歩《ほ》を運ばした。茶の木の根を一本一本嗅ぎながら、西側の杉垣のそばまでくると、枯菊を押し倒してその上に大きな猫が前後不覚に寝ている。彼は吾輩の近づくのも一向《いっこう》心付かざるごとく、また心付くも無頓着なるごとく、大きな鼾《いびき》をして長々と体を横《よこた》えて眠っている。他《ひと》の庭内に忍び入りたるものがかくまで平気に睡《ねむ》られるものかと、吾輩は窃《ひそ》かにその大胆なる度胸に驚かざるを得なかった。彼は純粋の黒猫である。わずかに午《ご》を過ぎたる太陽は、透明なる光線を彼の皮膚の上に抛《な》げかけて、きらきらする柔毛《にこげ》の間より眼に見えぬ炎でも燃《も》え出《い》ずるように思われた。彼は猫中の大王とも云うべきほどの偉大なる体格を有している。吾輩の倍はたしかにある。吾輩は嘆賞の念と、好奇の心に前後を忘れて彼の前に佇立《ちょりつ》して余念もなく眺《なが》めていると、静かなる小春の風が、杉垣の上から出たる梧桐《ごとう》の枝を軽《かろ》く誘ってばらばらと二三枚の葉が枯菊の茂みに落ちた。大王はかっとその真丸《まんまる》の眼を開いた。今でも記憶している。その眼は人間の珍重する琥珀《こはく》というものよりも遥《はる》かに美しく輝いていた。彼は身動きもしない。双眸《そうぼう》の奥から射るごとき光を吾輩の矮小《わいしょう》なる額《ひたい》の上にあつめて、御めえ［＃「御めえ」に傍点］は一体何だと云った。大王にしては少々言葉が卑《いや》しいと思ったが何しろその声の底に犬をも挫《ひ》しぐべき力が籠《こも》っているので吾輩は少なからず恐れを抱《いだ》いた。しかし挨拶《あいさつ》をしないと険呑《けんのん》だと思ったから「吾輩は猫である。名前はまだない」となるべく平気を装《よそお》って冷然と答えた。しかしこの時吾輩の心臓はたしかに平時よりも烈しく鼓動しておった。彼は大《おおい》に軽蔑《けいべつ》せる調子で「何、猫だ？\\u3000猫が聞いてあきれらあ。全《ぜん》てえどこに住んでるんだ」随分｜傍若無人《ぼうじゃくぶじん》である。「吾輩はここの教師の家《うち》にいるのだ」「どうせそんな事だろうと思った。いやに瘠《や》せてるじゃねえか」と大王だけに気焔《きえん》を吹きかける。言葉付から察するとどうも良家の猫とも思われない。しかしその膏切《あぶらぎ》って肥満しているところを見ると御馳走を食ってるらしい、豊かに暮しているらしい。吾輩は「そう云う君は一体誰だい」と聞かざるを得なかった。「己《お》れあ車屋の黒《くろ》よ」昂然《こうぜん》たるものだ。車屋の黒はこの近辺で知らぬ者なき乱暴猫である。しかし車屋だけに強いばかりでちっとも教育がないからあまり誰も交際しない。同盟敬遠主義の的《まと》になっている奴だ。吾輩は彼の名を聞いて少々尻こそばゆき感じを起すと同時に、一方では少々｜軽侮《けいぶ》の念も生じたのである。吾輩はまず彼がどのくらい無学であるかを試《ため》してみようと思って左《さ》の問答をして見た。\\n「一体車屋と教師とはどっちがえらいだろう」\\n「車屋の方が強いに極《きま》っていらあな。御めえ［＃「御めえ」に傍点］のうち［＃「うち」に傍点］の主人を見ねえ、まるで骨と皮ばかりだぜ」\\n「君も車屋の猫だけに大分《だいぶ》強そうだ。車屋にいると御馳走《ごちそう》が食えると見えるね」\\n「何《なあ》におれ［＃「おれ」に傍点］なんざ、どこの国へ行ったって食い物に不自由はしねえつもりだ。御めえ［＃「御めえ」に傍点］なんかも茶畠《ちゃばたけ》ばかりぐるぐる廻っていねえで、ちっと己《おれ》の後《あと》へくっ付いて来て見ねえ。一と月とたたねえうちに見違えるように太れるぜ」\\n「追ってそう願う事にしよう。しかし家《うち》は教師の方が車屋より大きいのに住んでいるように思われる」\\n「箆棒《べらぼう》め、うちなんかいくら大きくたって腹の足《た》しになるもんか」\\n\\u3000彼は大《おおい》に肝癪《かんしゃく》に障《さわ》った様子で、寒竹《かんちく》をそいだような耳をしきりとぴく付かせてあららかに立ち去った。吾輩が車屋の黒と知己《ちき》になったのはこれからである。\\n\\u3000その後《ご》吾輩は度々《たびたび》黒と邂逅《かいこう》する。邂逅する毎《ごと》に彼は車屋相当の気焔《きえん》を吐く。先に吾輩が耳にしたという不徳事件も実は黒から聞いたのである。\\n\\u3000或る日例のごとく吾輩と黒は暖かい茶畠《ちゃばたけ》の中で寝転《ねころ》びながらいろいろ雑談をしていると、彼はいつもの自慢話《じまんばな》しをさも新しそうに繰り返したあとで、吾輩に向って下《しも》のごとく質問した。「御めえ［＃「御めえ」に傍点］は今までに鼠を何匹とった事がある」智識は黒よりも余程発達しているつもりだが腕力と勇気とに至っては到底《とうてい》黒の比較にはならないと覚悟はしていたものの、この問に接したる時は、さすがに極《きま》りが善《よ》くはなかった。けれども事実は事実で詐《いつわ》る訳には行かないから、吾輩は「実はとろうとろうと思ってまだ捕《と》らない」と答えた。黒は彼の鼻の先からぴんと突張《つっぱ》っている長い髭《ひげ》をびりびりと震《ふる》わせて非常に笑った。元来黒は自慢をする丈《だけ》にどこか足りないところがあって、彼の気焔《きえん》を感心したように咽喉《のど》をころころ鳴らして謹聴していればはなはだ御《ぎょ》しやすい猫である。吾輩は彼と近付になってから直《すぐ》にこの呼吸を飲み込んだからこの場合にもなまじい己《おの》れを弁護してますます形勢をわるくするのも愚《ぐ》である、いっその事彼に自分の手柄話をしゃべらして御茶を濁すに若《し》くはないと思案を定《さだ》めた。そこでおとなしく「君などは年が年であるから大分《だいぶん》とったろう」とそそのかして見た。果然彼は墻壁《しょうへき》の欠所《けっしょ》に吶喊《とっかん》して来た。「たんとでもねえが三四十はとったろう」とは得意気なる彼の答であった。彼はなお語をつづけて「鼠の百や二百は一人でいつでも引き受けるがいたち［＃「いたち」に傍点］ってえ奴は手に合わねえ。一度いたち［＃「いたち」に傍点］に向って酷《ひど》い目に逢《あ》った」「へえなるほど」と相槌《あいづち》を打つ。黒は大きな眼をぱちつかせて云う。「去年の大掃除の時だ。うちの亭主が石灰《いしばい》の袋を持って椽《えん》の下へ'"
            ]
          },
          "metadata": {},
          "execution_count": 21
        }
      ]
    },
    {
      "cell_type": "markdown",
      "metadata": {
        "id": "3dDZkDHqqcox"
      },
      "source": [
        "#### 4.1 textからヘッダー（冒頭の------で囲まれている部分）を削除して下さい。"
      ]
    },
    {
      "cell_type": "code",
      "metadata": {
        "scrolled": true,
        "id": "2agl5L_Pqcox",
        "colab": {
          "base_uri": "https://localhost:8080/",
          "height": 261
        },
        "outputId": "155cac76-a0f5-4e2d-aecb-df80cb0b69bd"
      },
      "source": [
        "text = re.split('\\-{5,}',text)[2]\n",
        "text"
      ],
      "execution_count": 22,
      "outputs": [
        {
          "output_type": "execute_result",
          "data": {
            "application/vnd.google.colaboratory.intrinsic+json": {
              "type": "string"
            },
            "text/plain": [
              "'\\n\\n［＃８字下げ］一［＃「一」は中見出し］\\n\\n\\u3000吾輩《わがはい》は猫である。名前はまだ無い。\\n\\u3000どこで生れたかとんと見当《けんとう》がつかぬ。何でも薄暗いじめじめした所でニャーニャー泣いていた事だけは記憶している。吾輩はここで始めて人間というものを見た。しかもあとで聞くとそれは書生という人間中で一番｜獰悪《どうあく》な種族であったそうだ。この書生というのは時々我々を捕《つかま》えて煮《に》て食うという話である。しかしその当時は何という考もなかったから別段恐しいとも思わなかった。ただ彼の掌《てのひら》に載せられてスーと持ち上げられた時何だかフワフワした感じがあったばかりである。掌の上で少し落ちついて書生の顔を見たのがいわゆる人間というものの見始《みはじめ》であろう。この時妙なものだと思った感じが今でも残っている。第一毛をもって装飾されべきはずの顔がつるつるしてまるで薬缶《やかん》だ。その後《ご》猫にもだいぶ逢《あ》ったがこんな片輪《かたわ》には一度も出会《でく》わした事がない。のみならず顔の真中があまりに突起している。そうしてその穴の中から時々ぷうぷうと煙《けむり》を吹く。どうも咽《む》せぽくて実に弱った。これが人間の飲む煙草《たばこ》というものである事はようやくこの頃知った。\\n\\u3000この書生の掌の裏《うち》でしばらくはよい心持に坐っておったが、しばらくすると非常な速力で運転し始めた。書生が動くのか自分だけが動くのか分らないが無暗《むやみ》に眼が廻る。胸が悪くなる。到底《とうてい》助からないと思っていると、どさりと音がして眼から火が出た。それまでは記憶しているがあとは何の事やらいくら考え出そうとしても分らない。\\n\\u3000ふと気が付いて見ると書生はいない。たくさんおった兄弟が一｜疋《ぴき》も見えぬ。肝心《かんじん》の母親さえ姿を隠してしまった。その上｜今《いま》までの所とは違って無暗《むやみ》に明るい。眼を明いていられぬくらいだ。はてな何でも容子《ようす》がおかしいと、のそのそ這《は》い出して見ると非常に痛い。吾輩は藁《わら》の上から急に笹原の中へ棄てられたのである。\\n\\u3000ようやくの思いで笹原を這い出すと向うに大きな池がある。吾輩は池の前に坐ってどうしたらよかろうと考えて見た。別にこれという分別《ふんべつ》も出ない。しばらくして泣いたら書生がまた迎に来てくれるかと考え付いた。ニャー、ニャーと試みにやって見たが誰も来ない。そのうち池の上をさらさらと風が渡って日が暮れかかる。腹が非常に減って来た。泣きたくても声が出ない。仕方がない、何でもよいから食物《くいもの》のある所まであるこうと決心をしてそろりそろりと池を左《ひだ》りに廻り始めた。どうも非常に苦しい。そこを我慢して無理やりに這《は》って行くとようやくの事で何となく人間臭い所へ出た。ここへ這入《はい》ったら、どうにかなると思って竹垣の崩《くず》れた穴から、とある邸内にもぐり込んだ。縁は不思議なもので、もしこの竹垣が破れていなかったなら、吾輩はついに路傍《ろぼう》に餓死《がし》したかも知れんのである。一樹の蔭とはよく云《い》ったものだ。この垣根の穴は今日《こんにち》に至るまで吾輩が隣家《となり》の三毛を訪問する時の通路になっている。さて邸《やしき》へは忍び込んだもののこれから先どうして善《い》いか分らない。そのうちに暗くなる、腹は減る、寒さは寒し、雨が降って来るという始末でもう一刻の猶予《ゆうよ》が出来なくなった。仕方がないからとにかく明るくて暖かそうな方へ方へとあるいて行く。今から考えるとその時はすでに家の内に這入っておったのだ。ここで吾輩は彼《か》の書生以外の人間を再び見るべき機会に遭遇《そうぐう》したのである。第一に逢ったのがおさんである。これは前の書生より一層乱暴な方で吾輩を見るや否やいきなり頸筋《くびすじ》をつかんで表へ抛《ほう》り出した。いやこれは駄目だと思ったから眼をねぶって運を天に任せていた。しかしひもじいのと寒いのにはどうしても我慢が出来ん。吾輩は再びおさんの隙《すき》を見て台所へ這《は》い上《あが》った。すると間もなくまた投げ出された。吾輩は投げ出されては這い上り、這い上っては投げ出され、何でも同じ事を四五遍繰り返したのを記憶している。その時におさんと云う者はつくづくいやになった。この間おさんの三馬《さんま》を偸《ぬす》んでこの返報をしてやってから、やっと胸の痞《つかえ》が下りた。吾輩が最後につまみ出されようとしたときに、この家《うち》の主人が騒々しい何だといいながら出て来た。下女は吾輩をぶら下げて主人の方へ向けてこの宿《やど》なしの小猫がいくら出しても出しても御台所《おだいどころ》へ上《あが》って来て困りますという。主人は鼻の下の黒い毛を撚《ひね》りながら吾輩の顔をしばらく眺《なが》めておったが、やがてそんなら内へ置いてやれといったまま奥へ這入《はい》ってしまった。主人はあまり口を聞かぬ人と見えた。下女は口惜《くや》しそうに吾輩を台所へ抛《ほう》り出した。かくして吾輩はついにこの家《うち》を自分の住家《すみか》と極《き》める事にしたのである。\\n\\u3000吾輩の主人は滅多《めった》に吾輩と顔を合せる事がない。職業は教師だそうだ。学校から帰ると終日書斎に這入ったぎりほとんど出て来る事がない。家のものは大変な勉強家だと思っている。当人も勉強家であるかのごとく見せている。しかし実際はうちのものがいうような勤勉家ではない。吾輩は時々忍び足に彼の書斎を覗《のぞ》いて見るが、彼はよく昼寝《ひるね》をしている事がある。時々読みかけてある本の上に涎《よだれ》をたらしている。彼は胃弱で皮膚の色が淡黄色《たんこうしょく》を帯びて弾力のない不活溌《ふかっぱつ》な徴候をあらわしている。その癖に大飯を食う。大飯を食った後《あと》でタカジヤスターゼを飲む。飲んだ後で書物をひろげる。二三ページ読むと眠くなる。涎を本の上へ垂らす。これが彼の毎夜繰り返す日課である。吾輩は猫ながら時々考える事がある。教師というものは実に楽《らく》なものだ。人間と生れたら教師となるに限る。こんなに寝ていて勤まるものなら猫にでも出来ぬ事はないと。それでも主人に云わせると教師ほどつらいものはないそうで彼は友達が来る度《たび》に何とかかんとか不平を鳴らしている。\\n\\u3000吾輩がこの家へ住み込んだ当時は、主人以外のものにははなはだ不人望であった。どこへ行っても跳《は》ね付けられて相手にしてくれ手がなかった。いかに珍重されなかったかは、今日《こんにち》に至るまで名前さえつけてくれないのでも分る。吾輩は仕方がないから、出来得る限り吾輩を入れてくれた主人の傍《そば》にいる事をつとめた。朝主人が新聞を読むときは必ず彼の膝《ひざ》の上に乗る。彼が昼寝をするときは必ずその背中《せなか》に乗る。これはあながち主人が好きという訳ではないが別に構い手がなかったからやむを得んのである。その後いろいろ経験の上、朝は飯櫃《めしびつ》の上、夜は炬燵《こたつ》の上、天気のよい昼は椽側《えんがわ》へ寝る事とした。しかし一番心持の好いのは夜《よ》に入《い》ってここのうちの小供の寝床へもぐり込んでいっしょにねる事である。この小供というのは五つと三つで夜になると二人が一つ床へ入《はい》って一間《ひとま》へ寝る。吾輩はいつでも彼等の中間に己《おの》れを容《い》るべき余地を見出《みいだ》してどうにか、こうにか割り込むのであるが、運悪く小供の一人が眼を醒《さ》ますが最後大変な事になる。小供は――ことに小さい方が質《たち》がわるい――猫が来た猫が来たといって夜中でも何でも大きな声で泣き出すのである。すると例の神経胃弱性の主人は必《かなら》ず眼をさまして次の部屋から飛び出してくる。現にせんだってなどは物指《ものさし》で尻ぺたをひどく叩《たた》かれた。\\n\\u3000吾輩は人間と同居して彼等を観察すればするほど、彼等は我儘《わがまま》なものだと断言せざるを得ないようになった。ことに吾輩が時々｜同衾《どうきん》する小供のごときに至っては言語同断《ごんごどうだん》である。自分の勝手な時は人を逆さにしたり、頭へ袋をかぶせたり、抛《ほう》り出したり、へっつい［＃「へっつい」に傍点］の中へ押し込んだりする。しかも吾輩の方で少しでも手出しをしようものなら家内《かない》総がかりで追い廻して迫害を加える。この間もちょっと畳で爪を磨《と》いだら細君が非常に怒《おこ》ってそれから容易に座敷へ入《い》れない。台所の板の間で他《ひと》が顫《ふる》えていても一向《いっこう》平気なものである。吾輩の尊敬する筋向《すじむこう》の白君などは逢《あ》う度毎《たびごと》に人間ほど不人情なものはないと言っておらるる。白君は先日玉のような子猫を四疋｜産《う》まれたのである。ところがそこの家《うち》の書生が三日目にそいつを裏の池へ持って行って四疋ながら棄てて来たそうだ。白君は涙を流してその一部始終を話した上、どうしても我等｜猫族《ねこぞく》が親子の愛を完《まった》くして美しい家族的生活をするには人間と戦ってこれを剿滅《そうめつ》せねばならぬといわれた。一々もっともの議論と思う。また隣りの三毛《みけ》君などは人間が所有権という事を解していないといって大《おおい》に憤慨している。元来我々同族間では目刺《めざし》の頭でも鰡《ぼら》の臍《へそ》でも一番先に見付けたものがこれを食う権利があるものとなっている。もし相手がこの規約を守らなければ腕力に訴えて善《よ》いくらいのものだ。しかるに彼等人間は毫《ごう》もこの観念がないと見えて我等が見付けた御馳走は必ず彼等のために掠奪《りゃくだつ》せらるるのである。彼等はその強力を頼んで正当に吾人が食い得べきものを奪《うば》ってすましている。白君は軍人の家におり三毛君は代言の主人を持っている。吾輩は教師の家に住んでいるだけ、こんな事に関すると両君よりもむしろ楽天である。ただその日その日がどうにかこうにか送られればよい。いくら人間だって、そういつまでも栄える事もあるまい。まあ気を永く猫の時節を待つがよかろう。\\n\\u3000我儘《わがまま》で思い出したからちょっと吾輩の家の主人がこの我儘で失敗した話をしよう。元来この主人は何といって人に勝《すぐ》れて出来る事もないが、何にでもよく手を出したがる。俳句をやってほととぎす［＃「ほととぎす」に傍点］へ投書をしたり、新体詩を明星［＃「明星」に傍点］へ出したり、間違いだらけの英文をかいたり、時によると弓に凝《こ》ったり、謡《うたい》を習ったり、またあるときはヴァイオリンなどをブーブー鳴らしたりするが、気の毒な事には、どれもこれも物になっておらん。その癖やり出すと胃弱の癖にいやに熱心だ。後架《こうか》の中で謡をうたって、近所で後架先生《こうかせんせい》と渾名《あだな》をつけられているにも関せず一向《いっこう》平気なもので、やはりこれは平《たいら》の宗盛《むねもり》にて候《そうろう》を繰返している。みんながそら宗盛だと吹き出すくらいである。この主人がどういう考になったものか吾輩の住み込んでから一月ばかり後《のち》のある月の月給日に、大きな包みを提《さ》げてあわただしく帰って来た。何を買って来たのかと思うと水彩絵具と毛筆とワットマンという紙で今日から謡や俳句をやめて絵をかく決心と見えた。果して翌日から当分の間というものは毎日毎日書斎で昼寝もしないで絵ばかりかいている。しかしそのかき上げたものを見ると何をかいたものやら誰にも鑑定がつかない。当人もあまり甘《うま》くないと思ったものか、ある日その友人で美学とかをやっている人が来た時に下《しも》のような話をしているのを聞いた。\\n「どうも甘《うま》くかけないものだね。人のを見ると何でもないようだが自《みずか》ら筆をとって見ると今更《いまさら》のようにむずかしく感ずる」これは主人の述懐《じゅっかい》である。なるほど詐《いつわ》りのない処だ。彼の友は金縁の眼鏡越《めがねごし》に主人の顔を見ながら、「そう初めから上手にはかけないさ、第一室内の想像ばかりで画《え》がかける訳のものではない。昔《むか》し以太利《イタリー》の大家アンドレア・デル・サルトが言った事がある。画をかくなら何でも自然その物を写せ。天に星辰《せいしん》あり。地に露華《ろか》あり。飛ぶに禽《とり》あり。走るに獣《けもの》あり。池に金魚あり。枯木《こぼく》に寒鴉《かんあ》あり。自然はこれ一幅の大活画《だいかつが》なりと。どうだ君も画らしい画をかこうと思うならちと写生をしたら」\\n「へえアンドレア・デル・サルトがそんな事をいった事があるかい。ちっとも知らなかった。なるほどこりゃもっともだ。実にその通りだ」と主人は無暗《むやみ》に感心している。金縁の裏には嘲《あざ》けるような笑《わらい》が見えた。\\n\\u3000その翌日吾輩は例のごとく椽側《えんがわ》に出て心持善く昼寝《ひるね》をしていたら、主人が例になく書斎から出て来て吾輩の後《うし》ろで何かしきりにやっている。ふと眼が覚《さ》めて何をしているかと一分《いちぶ》ばかり細目に眼をあけて見ると、彼は余念もなくアンドレア・デル・サルトを極《き》め込んでいる。吾輩はこの有様を見て覚えず失笑するのを禁じ得なかった。彼は彼の友に揶揄《やゆ》せられたる結果としてまず手初めに吾輩を写生しつつあるのである。吾輩はすでに十分《じゅうぶん》寝た。欠伸《あくび》がしたくてたまらない。しかしせっかく主人が熱心に筆を執《と》っているのを動いては気の毒だと思って、じっと辛棒《しんぼう》しておった。彼は今吾輩の輪廓をかき上げて顔のあたりを色彩《いろど》っている。吾輩は自白する。吾輩は猫として決して上乗の出来ではない。背といい毛並といい顔の造作といいあえて他の猫に勝《まさ》るとは決して思っておらん。しかしいくら不器量の吾輩でも、今吾輩の主人に描《えが》き出されつつあるような妙な姿とは、どうしても思われない。第一色が違う。吾輩は波斯産《ペルシャさん》の猫のごとく黄を含める淡灰色に漆《うるし》のごとき斑入《ふい》りの皮膚を有している。これだけは誰が見ても疑うべからざる事実と思う。しかるに今主人の彩色を見ると、黄でもなければ黒でもない、灰色でもなければ褐色《とびいろ》でもない、さればとてこれらを交ぜた色でもない。ただ一種の色であるというよりほかに評し方のない色である。その上不思議な事は眼がない。もっともこれは寝ているところを写生したのだから無理もないが眼らしい所さえ見えないから盲猫《めくら》だか寝ている猫だか判然しないのである。吾輩は心中ひそかにいくらアンドレア・デル・サルトでもこれではしようがないと思った。しかしその熱心には感服せざるを得ない。なるべくなら動かずにおってやりたいと思ったが、さっきから小便が催うしている。身内《みうち》の筋肉はむずむずする。最早《もはや》一分も猶予《ゆうよ》が出来ぬ仕儀《しぎ》となったから、やむをえず失敬して両足を前へ存分のして、首を低く押し出してあーあと大《だい》なる欠伸をした。さてこうなって見ると、もうおとなしくしていても仕方がない。どうせ主人の予定は打《ぶ》ち壊《こ》わしたのだから、ついでに裏へ行って用を足《た》そうと思ってのそのそ這い出した。すると主人は失望と怒りを掻《か》き交ぜたような声をして、座敷の中から「この馬鹿野郎」と怒鳴《どな》った。この主人は人を罵《ののし》るときは必ず馬鹿野郎というのが癖である。ほかに悪口の言いようを知らないのだから仕方がないが、今まで辛棒した人の気も知らないで、無暗《むやみ》に馬鹿野郎｜呼《よば》わりは失敬だと思う。それも平生吾輩が彼の背中《せなか》へ乗る時に少しは好い顔でもするならこの漫罵《まんば》も甘んじて受けるが、こっちの便利になる事は何一つ快くしてくれた事もないのに、小便に立ったのを馬鹿野郎とは酷《ひど》い。元来人間というものは自己の力量に慢じてみんな増長している。少し人間より強いものが出て来て窘《いじ》めてやらなくてはこの先どこまで増長するか分らない。\\n\\u3000我儘《わがまま》もこのくらいなら我慢するが吾輩は人間の不徳についてこれよりも数倍悲しむべき報道を耳にした事がある。\\n\\u3000吾輩の家の裏に十坪ばかりの茶園《ちゃえん》がある。広くはないが瀟洒《さっぱり》とした心持ち好く日の当《あた》る所だ。うちの小供があまり騒いで楽々昼寝の出来ない時や、あまり退屈で腹加減のよくない折などは、吾輩はいつでもここへ出て浩然《こうぜん》の気を養うのが例である。ある小春の穏かな日の二時頃であったが、吾輩は昼飯後《ちゅうはんご》快よく一睡した後《のち》、運動かたがたこの茶園へと歩《ほ》を運ばした。茶の木の根を一本一本嗅ぎながら、西側の杉垣のそばまでくると、枯菊を押し倒してその上に大きな猫が前後不覚に寝ている。彼は吾輩の近づくのも一向《いっこう》心付かざるごとく、また心付くも無頓着なるごとく、大きな鼾《いびき》をして長々と体を横《よこた》えて眠っている。他《ひと》の庭内に忍び入りたるものがかくまで平気に睡《ねむ》られるものかと、吾輩は窃《ひそ》かにその大胆なる度胸に驚かざるを得なかった。彼は純粋の黒猫である。わずかに午《ご》を過ぎたる太陽は、透明なる光線を彼の皮膚の上に抛《な》げかけて、きらきらする柔毛《にこげ》の間より眼に見えぬ炎でも燃《も》え出《い》ずるように思われた。彼は猫中の大王とも云うべきほどの偉大なる体格を有している。吾輩の倍はたしかにある。吾輩は嘆賞の念と、好奇の心に前後を忘れて彼の前に佇立《ちょりつ》して余念もなく眺《なが》めていると、静かなる小春の風が、杉垣の上から出たる梧桐《ごとう》の枝を軽《かろ》く誘ってばらばらと二三枚の葉が枯菊の茂みに落ちた。大王はかっとその真丸《まんまる》の眼を開いた。今でも記憶している。その眼は人間の珍重する琥珀《こはく》というものよりも遥《はる》かに美しく輝いていた。彼は身動きもしない。双眸《そうぼう》の奥から射るごとき光を吾輩の矮小《わいしょう》なる額《ひたい》の上にあつめて、御めえ［＃「御めえ」に傍点］は一体何だと云った。大王にしては少々言葉が卑《いや》しいと思ったが何しろその声の底に犬をも挫《ひ》しぐべき力が籠《こも》っているので吾輩は少なからず恐れを抱《いだ》いた。しかし挨拶《あいさつ》をしないと険呑《けんのん》だと思ったから「吾輩は猫である。名前はまだない」となるべく平気を装《よそお》って冷然と答えた。しかしこの時吾輩の心臓はたしかに平時よりも烈しく鼓動しておった。彼は大《おおい》に軽蔑《けいべつ》せる調子で「何、猫だ？\\u3000猫が聞いてあきれらあ。全《ぜん》てえどこに住んでるんだ」随分｜傍若無人《ぼうじゃくぶじん》である。「吾輩はここの教師の家《うち》にいるのだ」「どうせそんな事だろうと思った。いやに瘠《や》せてるじゃねえか」と大王だけに気焔《きえん》を吹きかける。言葉付から察するとどうも良家の猫とも思われない。しかしその膏切《あぶらぎ》って肥満しているところを見ると御馳走を食ってるらしい、豊かに暮しているらしい。吾輩は「そう云う君は一体誰だい」と聞かざるを得なかった。「己《お》れあ車屋の黒《くろ》よ」昂然《こうぜん》たるものだ。車屋の黒はこの近辺で知らぬ者なき乱暴猫である。しかし車屋だけに強いばかりでちっとも教育がないからあまり誰も交際しない。同盟敬遠主義の的《まと》になっている奴だ。吾輩は彼の名を聞いて少々尻こそばゆき感じを起すと同時に、一方では少々｜軽侮《けいぶ》の念も生じたのである。吾輩はまず彼がどのくらい無学であるかを試《ため》してみようと思って左《さ》の問答をして見た。\\n「一体車屋と教師とはどっちがえらいだろう」\\n「車屋の方が強いに極《きま》っていらあな。御めえ［＃「御めえ」に傍点］のうち［＃「うち」に傍点］の主人を見ねえ、まるで骨と皮ばかりだぜ」\\n「君も車屋の猫だけに大分《だいぶ》強そうだ。車屋にいると御馳走《ごちそう》が食えると見えるね」\\n「何《なあ》におれ［＃「おれ」に傍点］なんざ、どこの国へ行ったって食い物に不自由はしねえつもりだ。御めえ［＃「御めえ」に傍点］なんかも茶畠《ちゃばたけ》ばかりぐるぐる廻っていねえで、ちっと己《おれ》の後《あと》へくっ付いて来て見ねえ。一と月とたたねえうちに見違えるように太れるぜ」\\n「追ってそう願う事にしよう。しかし家《うち》は教師の方が車屋より大きいのに住んでいるように思われる」\\n「箆棒《べらぼう》め、うちなんかいくら大きくたって腹の足《た》しになるもんか」\\n\\u3000彼は大《おおい》に肝癪《かんしゃく》に障《さわ》った様子で、寒竹《かんちく》をそいだような耳をしきりとぴく付かせてあららかに立ち去った。吾輩が車屋の黒と知己《ちき》になったのはこれからである。\\n\\u3000その後《ご》吾輩は度々《たびたび》黒と邂逅《かいこう》する。邂逅する毎《ごと》に彼は車屋相当の気焔《きえん》を吐く。先に吾輩が耳にしたという不徳事件も実は黒から聞いたのである。\\n\\u3000或る日例のごとく吾輩と黒は暖かい茶畠《ちゃばたけ》の中で寝転《ねころ》びながらいろいろ雑談をしていると、彼はいつもの自慢話《じまんばな》しをさも新しそうに繰り返したあとで、吾輩に向って下《しも》のごとく質問した。「御めえ［＃「御めえ」に傍点］は今までに鼠を何匹とった事がある」智識は黒よりも余程発達しているつもりだが腕力と勇気とに至っては到底《とうてい》黒の比較にはならないと覚悟はしていたものの、この問に接したる時は、さすがに極《きま》りが善《よ》くはなかった。けれども事実は事実で詐《いつわ》る訳には行かないから、吾輩は「実はとろうとろうと思ってまだ捕《と》らない」と答えた。黒は彼の鼻の先からぴんと突張《つっぱ》っている長い髭《ひげ》をびりびりと震《ふる》わせて非常に笑った。元来黒は自慢をする丈《だけ》にどこか足りないところがあって、彼の気焔《きえん》を感心したように咽喉《のど》をころころ鳴らして謹聴していればはなはだ御《ぎょ》しやすい猫である。吾輩は彼と近付になってから直《すぐ》にこの呼吸を飲み込んだからこの場合にもなまじい己《おの》れを弁護してますます形勢をわるくするのも愚《ぐ》である、いっその事彼に自分の手柄話をしゃべらして御茶を濁すに若《し》くはないと思案を定《さだ》めた。そこでおとなしく「君などは年が年であるから大分《だいぶん》とったろう」とそそのかして見た。果然彼は墻壁《しょうへき》の欠所《けっしょ》に吶喊《とっかん》して来た。「たんとでもねえが三四十はとったろう」とは得意気なる彼の答であった。彼はなお語をつづけて「鼠の百や二百は一人でいつでも引き受けるがいたち［＃「いたち」に傍点］ってえ奴は手に合わねえ。一度いたち［＃「いたち」に傍点］に向って酷《ひど》い目に逢《あ》った」「へえなるほど」と相槌《あいづち》を打つ。黒は大きな眼をぱちつかせて云う。「去年の大掃除の時だ。うちの亭主が石灰《いしばい》の袋を持って椽《えん》の下へ'"
            ]
          },
          "metadata": {},
          "execution_count": 22
        }
      ]
    },
    {
      "cell_type": "markdown",
      "metadata": {
        "id": "rEclON44qcox"
      },
      "source": [
        "#### 4.2 textから「《》に入る文字（ルビ）」を《》ごと削除して下さい。"
      ]
    },
    {
      "cell_type": "code",
      "metadata": {
        "id": "x9gNtYhKqcox",
        "colab": {
          "base_uri": "https://localhost:8080/",
          "height": 261
        },
        "outputId": "fb0f2220-05dd-4cf7-8408-2ba2cf979054"
      },
      "source": [
        "text = re.sub('《.+?》', '', text)\n",
        "text"
      ],
      "execution_count": 23,
      "outputs": [
        {
          "output_type": "execute_result",
          "data": {
            "application/vnd.google.colaboratory.intrinsic+json": {
              "type": "string"
            },
            "text/plain": [
              "'\\n\\n［＃８字下げ］一［＃「一」は中見出し］\\n\\n\\u3000吾輩は猫である。名前はまだ無い。\\n\\u3000どこで生れたかとんと見当がつかぬ。何でも薄暗いじめじめした所でニャーニャー泣いていた事だけは記憶している。吾輩はここで始めて人間というものを見た。しかもあとで聞くとそれは書生という人間中で一番｜獰悪な種族であったそうだ。この書生というのは時々我々を捕えて煮て食うという話である。しかしその当時は何という考もなかったから別段恐しいとも思わなかった。ただ彼の掌に載せられてスーと持ち上げられた時何だかフワフワした感じがあったばかりである。掌の上で少し落ちついて書生の顔を見たのがいわゆる人間というものの見始であろう。この時妙なものだと思った感じが今でも残っている。第一毛をもって装飾されべきはずの顔がつるつるしてまるで薬缶だ。その後猫にもだいぶ逢ったがこんな片輪には一度も出会わした事がない。のみならず顔の真中があまりに突起している。そうしてその穴の中から時々ぷうぷうと煙を吹く。どうも咽せぽくて実に弱った。これが人間の飲む煙草というものである事はようやくこの頃知った。\\n\\u3000この書生の掌の裏でしばらくはよい心持に坐っておったが、しばらくすると非常な速力で運転し始めた。書生が動くのか自分だけが動くのか分らないが無暗に眼が廻る。胸が悪くなる。到底助からないと思っていると、どさりと音がして眼から火が出た。それまでは記憶しているがあとは何の事やらいくら考え出そうとしても分らない。\\n\\u3000ふと気が付いて見ると書生はいない。たくさんおった兄弟が一｜疋も見えぬ。肝心の母親さえ姿を隠してしまった。その上｜今までの所とは違って無暗に明るい。眼を明いていられぬくらいだ。はてな何でも容子がおかしいと、のそのそ這い出して見ると非常に痛い。吾輩は藁の上から急に笹原の中へ棄てられたのである。\\n\\u3000ようやくの思いで笹原を這い出すと向うに大きな池がある。吾輩は池の前に坐ってどうしたらよかろうと考えて見た。別にこれという分別も出ない。しばらくして泣いたら書生がまた迎に来てくれるかと考え付いた。ニャー、ニャーと試みにやって見たが誰も来ない。そのうち池の上をさらさらと風が渡って日が暮れかかる。腹が非常に減って来た。泣きたくても声が出ない。仕方がない、何でもよいから食物のある所まであるこうと決心をしてそろりそろりと池を左りに廻り始めた。どうも非常に苦しい。そこを我慢して無理やりに這って行くとようやくの事で何となく人間臭い所へ出た。ここへ這入ったら、どうにかなると思って竹垣の崩れた穴から、とある邸内にもぐり込んだ。縁は不思議なもので、もしこの竹垣が破れていなかったなら、吾輩はついに路傍に餓死したかも知れんのである。一樹の蔭とはよく云ったものだ。この垣根の穴は今日に至るまで吾輩が隣家の三毛を訪問する時の通路になっている。さて邸へは忍び込んだもののこれから先どうして善いか分らない。そのうちに暗くなる、腹は減る、寒さは寒し、雨が降って来るという始末でもう一刻の猶予が出来なくなった。仕方がないからとにかく明るくて暖かそうな方へ方へとあるいて行く。今から考えるとその時はすでに家の内に這入っておったのだ。ここで吾輩は彼の書生以外の人間を再び見るべき機会に遭遇したのである。第一に逢ったのがおさんである。これは前の書生より一層乱暴な方で吾輩を見るや否やいきなり頸筋をつかんで表へ抛り出した。いやこれは駄目だと思ったから眼をねぶって運を天に任せていた。しかしひもじいのと寒いのにはどうしても我慢が出来ん。吾輩は再びおさんの隙を見て台所へ這い上った。すると間もなくまた投げ出された。吾輩は投げ出されては這い上り、這い上っては投げ出され、何でも同じ事を四五遍繰り返したのを記憶している。その時におさんと云う者はつくづくいやになった。この間おさんの三馬を偸んでこの返報をしてやってから、やっと胸の痞が下りた。吾輩が最後につまみ出されようとしたときに、この家の主人が騒々しい何だといいながら出て来た。下女は吾輩をぶら下げて主人の方へ向けてこの宿なしの小猫がいくら出しても出しても御台所へ上って来て困りますという。主人は鼻の下の黒い毛を撚りながら吾輩の顔をしばらく眺めておったが、やがてそんなら内へ置いてやれといったまま奥へ這入ってしまった。主人はあまり口を聞かぬ人と見えた。下女は口惜しそうに吾輩を台所へ抛り出した。かくして吾輩はついにこの家を自分の住家と極める事にしたのである。\\n\\u3000吾輩の主人は滅多に吾輩と顔を合せる事がない。職業は教師だそうだ。学校から帰ると終日書斎に這入ったぎりほとんど出て来る事がない。家のものは大変な勉強家だと思っている。当人も勉強家であるかのごとく見せている。しかし実際はうちのものがいうような勤勉家ではない。吾輩は時々忍び足に彼の書斎を覗いて見るが、彼はよく昼寝をしている事がある。時々読みかけてある本の上に涎をたらしている。彼は胃弱で皮膚の色が淡黄色を帯びて弾力のない不活溌な徴候をあらわしている。その癖に大飯を食う。大飯を食った後でタカジヤスターゼを飲む。飲んだ後で書物をひろげる。二三ページ読むと眠くなる。涎を本の上へ垂らす。これが彼の毎夜繰り返す日課である。吾輩は猫ながら時々考える事がある。教師というものは実に楽なものだ。人間と生れたら教師となるに限る。こんなに寝ていて勤まるものなら猫にでも出来ぬ事はないと。それでも主人に云わせると教師ほどつらいものはないそうで彼は友達が来る度に何とかかんとか不平を鳴らしている。\\n\\u3000吾輩がこの家へ住み込んだ当時は、主人以外のものにははなはだ不人望であった。どこへ行っても跳ね付けられて相手にしてくれ手がなかった。いかに珍重されなかったかは、今日に至るまで名前さえつけてくれないのでも分る。吾輩は仕方がないから、出来得る限り吾輩を入れてくれた主人の傍にいる事をつとめた。朝主人が新聞を読むときは必ず彼の膝の上に乗る。彼が昼寝をするときは必ずその背中に乗る。これはあながち主人が好きという訳ではないが別に構い手がなかったからやむを得んのである。その後いろいろ経験の上、朝は飯櫃の上、夜は炬燵の上、天気のよい昼は椽側へ寝る事とした。しかし一番心持の好いのは夜に入ってここのうちの小供の寝床へもぐり込んでいっしょにねる事である。この小供というのは五つと三つで夜になると二人が一つ床へ入って一間へ寝る。吾輩はいつでも彼等の中間に己れを容るべき余地を見出してどうにか、こうにか割り込むのであるが、運悪く小供の一人が眼を醒ますが最後大変な事になる。小供は――ことに小さい方が質がわるい――猫が来た猫が来たといって夜中でも何でも大きな声で泣き出すのである。すると例の神経胃弱性の主人は必ず眼をさまして次の部屋から飛び出してくる。現にせんだってなどは物指で尻ぺたをひどく叩かれた。\\n\\u3000吾輩は人間と同居して彼等を観察すればするほど、彼等は我儘なものだと断言せざるを得ないようになった。ことに吾輩が時々｜同衾する小供のごときに至っては言語同断である。自分の勝手な時は人を逆さにしたり、頭へ袋をかぶせたり、抛り出したり、へっつい［＃「へっつい」に傍点］の中へ押し込んだりする。しかも吾輩の方で少しでも手出しをしようものなら家内総がかりで追い廻して迫害を加える。この間もちょっと畳で爪を磨いだら細君が非常に怒ってそれから容易に座敷へ入れない。台所の板の間で他が顫えていても一向平気なものである。吾輩の尊敬する筋向の白君などは逢う度毎に人間ほど不人情なものはないと言っておらるる。白君は先日玉のような子猫を四疋｜産まれたのである。ところがそこの家の書生が三日目にそいつを裏の池へ持って行って四疋ながら棄てて来たそうだ。白君は涙を流してその一部始終を話した上、どうしても我等｜猫族が親子の愛を完くして美しい家族的生活をするには人間と戦ってこれを剿滅せねばならぬといわれた。一々もっともの議論と思う。また隣りの三毛君などは人間が所有権という事を解していないといって大に憤慨している。元来我々同族間では目刺の頭でも鰡の臍でも一番先に見付けたものがこれを食う権利があるものとなっている。もし相手がこの規約を守らなければ腕力に訴えて善いくらいのものだ。しかるに彼等人間は毫もこの観念がないと見えて我等が見付けた御馳走は必ず彼等のために掠奪せらるるのである。彼等はその強力を頼んで正当に吾人が食い得べきものを奪ってすましている。白君は軍人の家におり三毛君は代言の主人を持っている。吾輩は教師の家に住んでいるだけ、こんな事に関すると両君よりもむしろ楽天である。ただその日その日がどうにかこうにか送られればよい。いくら人間だって、そういつまでも栄える事もあるまい。まあ気を永く猫の時節を待つがよかろう。\\n\\u3000我儘で思い出したからちょっと吾輩の家の主人がこの我儘で失敗した話をしよう。元来この主人は何といって人に勝れて出来る事もないが、何にでもよく手を出したがる。俳句をやってほととぎす［＃「ほととぎす」に傍点］へ投書をしたり、新体詩を明星［＃「明星」に傍点］へ出したり、間違いだらけの英文をかいたり、時によると弓に凝ったり、謡を習ったり、またあるときはヴァイオリンなどをブーブー鳴らしたりするが、気の毒な事には、どれもこれも物になっておらん。その癖やり出すと胃弱の癖にいやに熱心だ。後架の中で謡をうたって、近所で後架先生と渾名をつけられているにも関せず一向平気なもので、やはりこれは平の宗盛にて候を繰返している。みんながそら宗盛だと吹き出すくらいである。この主人がどういう考になったものか吾輩の住み込んでから一月ばかり後のある月の月給日に、大きな包みを提げてあわただしく帰って来た。何を買って来たのかと思うと水彩絵具と毛筆とワットマンという紙で今日から謡や俳句をやめて絵をかく決心と見えた。果して翌日から当分の間というものは毎日毎日書斎で昼寝もしないで絵ばかりかいている。しかしそのかき上げたものを見ると何をかいたものやら誰にも鑑定がつかない。当人もあまり甘くないと思ったものか、ある日その友人で美学とかをやっている人が来た時に下のような話をしているのを聞いた。\\n「どうも甘くかけないものだね。人のを見ると何でもないようだが自ら筆をとって見ると今更のようにむずかしく感ずる」これは主人の述懐である。なるほど詐りのない処だ。彼の友は金縁の眼鏡越に主人の顔を見ながら、「そう初めから上手にはかけないさ、第一室内の想像ばかりで画がかける訳のものではない。昔し以太利の大家アンドレア・デル・サルトが言った事がある。画をかくなら何でも自然その物を写せ。天に星辰あり。地に露華あり。飛ぶに禽あり。走るに獣あり。池に金魚あり。枯木に寒鴉あり。自然はこれ一幅の大活画なりと。どうだ君も画らしい画をかこうと思うならちと写生をしたら」\\n「へえアンドレア・デル・サルトがそんな事をいった事があるかい。ちっとも知らなかった。なるほどこりゃもっともだ。実にその通りだ」と主人は無暗に感心している。金縁の裏には嘲けるような笑が見えた。\\n\\u3000その翌日吾輩は例のごとく椽側に出て心持善く昼寝をしていたら、主人が例になく書斎から出て来て吾輩の後ろで何かしきりにやっている。ふと眼が覚めて何をしているかと一分ばかり細目に眼をあけて見ると、彼は余念もなくアンドレア・デル・サルトを極め込んでいる。吾輩はこの有様を見て覚えず失笑するのを禁じ得なかった。彼は彼の友に揶揄せられたる結果としてまず手初めに吾輩を写生しつつあるのである。吾輩はすでに十分寝た。欠伸がしたくてたまらない。しかしせっかく主人が熱心に筆を執っているのを動いては気の毒だと思って、じっと辛棒しておった。彼は今吾輩の輪廓をかき上げて顔のあたりを色彩っている。吾輩は自白する。吾輩は猫として決して上乗の出来ではない。背といい毛並といい顔の造作といいあえて他の猫に勝るとは決して思っておらん。しかしいくら不器量の吾輩でも、今吾輩の主人に描き出されつつあるような妙な姿とは、どうしても思われない。第一色が違う。吾輩は波斯産の猫のごとく黄を含める淡灰色に漆のごとき斑入りの皮膚を有している。これだけは誰が見ても疑うべからざる事実と思う。しかるに今主人の彩色を見ると、黄でもなければ黒でもない、灰色でもなければ褐色でもない、さればとてこれらを交ぜた色でもない。ただ一種の色であるというよりほかに評し方のない色である。その上不思議な事は眼がない。もっともこれは寝ているところを写生したのだから無理もないが眼らしい所さえ見えないから盲猫だか寝ている猫だか判然しないのである。吾輩は心中ひそかにいくらアンドレア・デル・サルトでもこれではしようがないと思った。しかしその熱心には感服せざるを得ない。なるべくなら動かずにおってやりたいと思ったが、さっきから小便が催うしている。身内の筋肉はむずむずする。最早一分も猶予が出来ぬ仕儀となったから、やむをえず失敬して両足を前へ存分のして、首を低く押し出してあーあと大なる欠伸をした。さてこうなって見ると、もうおとなしくしていても仕方がない。どうせ主人の予定は打ち壊わしたのだから、ついでに裏へ行って用を足そうと思ってのそのそ這い出した。すると主人は失望と怒りを掻き交ぜたような声をして、座敷の中から「この馬鹿野郎」と怒鳴った。この主人は人を罵るときは必ず馬鹿野郎というのが癖である。ほかに悪口の言いようを知らないのだから仕方がないが、今まで辛棒した人の気も知らないで、無暗に馬鹿野郎｜呼わりは失敬だと思う。それも平生吾輩が彼の背中へ乗る時に少しは好い顔でもするならこの漫罵も甘んじて受けるが、こっちの便利になる事は何一つ快くしてくれた事もないのに、小便に立ったのを馬鹿野郎とは酷い。元来人間というものは自己の力量に慢じてみんな増長している。少し人間より強いものが出て来て窘めてやらなくてはこの先どこまで増長するか分らない。\\n\\u3000我儘もこのくらいなら我慢するが吾輩は人間の不徳についてこれよりも数倍悲しむべき報道を耳にした事がある。\\n\\u3000吾輩の家の裏に十坪ばかりの茶園がある。広くはないが瀟洒とした心持ち好く日の当る所だ。うちの小供があまり騒いで楽々昼寝の出来ない時や、あまり退屈で腹加減のよくない折などは、吾輩はいつでもここへ出て浩然の気を養うのが例である。ある小春の穏かな日の二時頃であったが、吾輩は昼飯後快よく一睡した後、運動かたがたこの茶園へと歩を運ばした。茶の木の根を一本一本嗅ぎながら、西側の杉垣のそばまでくると、枯菊を押し倒してその上に大きな猫が前後不覚に寝ている。彼は吾輩の近づくのも一向心付かざるごとく、また心付くも無頓着なるごとく、大きな鼾をして長々と体を横えて眠っている。他の庭内に忍び入りたるものがかくまで平気に睡られるものかと、吾輩は窃かにその大胆なる度胸に驚かざるを得なかった。彼は純粋の黒猫である。わずかに午を過ぎたる太陽は、透明なる光線を彼の皮膚の上に抛げかけて、きらきらする柔毛の間より眼に見えぬ炎でも燃え出ずるように思われた。彼は猫中の大王とも云うべきほどの偉大なる体格を有している。吾輩の倍はたしかにある。吾輩は嘆賞の念と、好奇の心に前後を忘れて彼の前に佇立して余念もなく眺めていると、静かなる小春の風が、杉垣の上から出たる梧桐の枝を軽く誘ってばらばらと二三枚の葉が枯菊の茂みに落ちた。大王はかっとその真丸の眼を開いた。今でも記憶している。その眼は人間の珍重する琥珀というものよりも遥かに美しく輝いていた。彼は身動きもしない。双眸の奥から射るごとき光を吾輩の矮小なる額の上にあつめて、御めえ［＃「御めえ」に傍点］は一体何だと云った。大王にしては少々言葉が卑しいと思ったが何しろその声の底に犬をも挫しぐべき力が籠っているので吾輩は少なからず恐れを抱いた。しかし挨拶をしないと険呑だと思ったから「吾輩は猫である。名前はまだない」となるべく平気を装って冷然と答えた。しかしこの時吾輩の心臓はたしかに平時よりも烈しく鼓動しておった。彼は大に軽蔑せる調子で「何、猫だ？\\u3000猫が聞いてあきれらあ。全てえどこに住んでるんだ」随分｜傍若無人である。「吾輩はここの教師の家にいるのだ」「どうせそんな事だろうと思った。いやに瘠せてるじゃねえか」と大王だけに気焔を吹きかける。言葉付から察するとどうも良家の猫とも思われない。しかしその膏切って肥満しているところを見ると御馳走を食ってるらしい、豊かに暮しているらしい。吾輩は「そう云う君は一体誰だい」と聞かざるを得なかった。「己れあ車屋の黒よ」昂然たるものだ。車屋の黒はこの近辺で知らぬ者なき乱暴猫である。しかし車屋だけに強いばかりでちっとも教育がないからあまり誰も交際しない。同盟敬遠主義の的になっている奴だ。吾輩は彼の名を聞いて少々尻こそばゆき感じを起すと同時に、一方では少々｜軽侮の念も生じたのである。吾輩はまず彼がどのくらい無学であるかを試してみようと思って左の問答をして見た。\\n「一体車屋と教師とはどっちがえらいだろう」\\n「車屋の方が強いに極っていらあな。御めえ［＃「御めえ」に傍点］のうち［＃「うち」に傍点］の主人を見ねえ、まるで骨と皮ばかりだぜ」\\n「君も車屋の猫だけに大分強そうだ。車屋にいると御馳走が食えると見えるね」\\n「何におれ［＃「おれ」に傍点］なんざ、どこの国へ行ったって食い物に不自由はしねえつもりだ。御めえ［＃「御めえ」に傍点］なんかも茶畠ばかりぐるぐる廻っていねえで、ちっと己の後へくっ付いて来て見ねえ。一と月とたたねえうちに見違えるように太れるぜ」\\n「追ってそう願う事にしよう。しかし家は教師の方が車屋より大きいのに住んでいるように思われる」\\n「箆棒め、うちなんかいくら大きくたって腹の足しになるもんか」\\n\\u3000彼は大に肝癪に障った様子で、寒竹をそいだような耳をしきりとぴく付かせてあららかに立ち去った。吾輩が車屋の黒と知己になったのはこれからである。\\n\\u3000その後吾輩は度々黒と邂逅する。邂逅する毎に彼は車屋相当の気焔を吐く。先に吾輩が耳にしたという不徳事件も実は黒から聞いたのである。\\n\\u3000或る日例のごとく吾輩と黒は暖かい茶畠の中で寝転びながらいろいろ雑談をしていると、彼はいつもの自慢話しをさも新しそうに繰り返したあとで、吾輩に向って下のごとく質問した。「御めえ［＃「御めえ」に傍点］は今までに鼠を何匹とった事がある」智識は黒よりも余程発達しているつもりだが腕力と勇気とに至っては到底黒の比較にはならないと覚悟はしていたものの、この問に接したる時は、さすがに極りが善くはなかった。けれども事実は事実で詐る訳には行かないから、吾輩は「実はとろうとろうと思ってまだ捕らない」と答えた。黒は彼の鼻の先からぴんと突張っている長い髭をびりびりと震わせて非常に笑った。元来黒は自慢をする丈にどこか足りないところがあって、彼の気焔を感心したように咽喉をころころ鳴らして謹聴していればはなはだ御しやすい猫である。吾輩は彼と近付になってから直にこの呼吸を飲み込んだからこの場合にもなまじい己れを弁護してますます形勢をわるくするのも愚である、いっその事彼に自分の手柄話をしゃべらして御茶を濁すに若くはないと思案を定めた。そこでおとなしく「君などは年が年であるから大分とったろう」とそそのかして見た。果然彼は墻壁の欠所に吶喊して来た。「たんとでもねえが三四十はとったろう」とは得意気なる彼の答であった。彼はなお語をつづけて「鼠の百や二百は一人でいつでも引き受けるがいたち［＃「いたち」に傍点］ってえ奴は手に合わねえ。一度いたち［＃「いたち」に傍点］に向って酷い目に逢った」「へえなるほど」と相槌を打つ。黒は大きな眼をぱちつかせて云う。「去年の大掃除の時だ。うちの亭主が石灰の袋を持って椽の下へ'"
            ]
          },
          "metadata": {},
          "execution_count": 23
        }
      ]
    },
    {
      "cell_type": "markdown",
      "metadata": {
        "id": "C6HZsi-Xqcox"
      },
      "source": [
        "#### 4.3 textから「[]に入る文字」と[]を削除して下さい。"
      ]
    },
    {
      "cell_type": "code",
      "metadata": {
        "id": "kohMaWZNqcoy",
        "colab": {
          "base_uri": "https://localhost:8080/",
          "height": 261
        },
        "outputId": "39f86476-7b1f-46bf-81d2-aa1bf14847b9"
      },
      "source": [
        "text = re.sub('［＃.+?］', '',text)\n",
        "text"
      ],
      "execution_count": 24,
      "outputs": [
        {
          "output_type": "execute_result",
          "data": {
            "application/vnd.google.colaboratory.intrinsic+json": {
              "type": "string"
            },
            "text/plain": [
              "'\\n\\n一\\n\\n\\u3000吾輩は猫である。名前はまだ無い。\\n\\u3000どこで生れたかとんと見当がつかぬ。何でも薄暗いじめじめした所でニャーニャー泣いていた事だけは記憶している。吾輩はここで始めて人間というものを見た。しかもあとで聞くとそれは書生という人間中で一番｜獰悪な種族であったそうだ。この書生というのは時々我々を捕えて煮て食うという話である。しかしその当時は何という考もなかったから別段恐しいとも思わなかった。ただ彼の掌に載せられてスーと持ち上げられた時何だかフワフワした感じがあったばかりである。掌の上で少し落ちついて書生の顔を見たのがいわゆる人間というものの見始であろう。この時妙なものだと思った感じが今でも残っている。第一毛をもって装飾されべきはずの顔がつるつるしてまるで薬缶だ。その後猫にもだいぶ逢ったがこんな片輪には一度も出会わした事がない。のみならず顔の真中があまりに突起している。そうしてその穴の中から時々ぷうぷうと煙を吹く。どうも咽せぽくて実に弱った。これが人間の飲む煙草というものである事はようやくこの頃知った。\\n\\u3000この書生の掌の裏でしばらくはよい心持に坐っておったが、しばらくすると非常な速力で運転し始めた。書生が動くのか自分だけが動くのか分らないが無暗に眼が廻る。胸が悪くなる。到底助からないと思っていると、どさりと音がして眼から火が出た。それまでは記憶しているがあとは何の事やらいくら考え出そうとしても分らない。\\n\\u3000ふと気が付いて見ると書生はいない。たくさんおった兄弟が一｜疋も見えぬ。肝心の母親さえ姿を隠してしまった。その上｜今までの所とは違って無暗に明るい。眼を明いていられぬくらいだ。はてな何でも容子がおかしいと、のそのそ這い出して見ると非常に痛い。吾輩は藁の上から急に笹原の中へ棄てられたのである。\\n\\u3000ようやくの思いで笹原を這い出すと向うに大きな池がある。吾輩は池の前に坐ってどうしたらよかろうと考えて見た。別にこれという分別も出ない。しばらくして泣いたら書生がまた迎に来てくれるかと考え付いた。ニャー、ニャーと試みにやって見たが誰も来ない。そのうち池の上をさらさらと風が渡って日が暮れかかる。腹が非常に減って来た。泣きたくても声が出ない。仕方がない、何でもよいから食物のある所まであるこうと決心をしてそろりそろりと池を左りに廻り始めた。どうも非常に苦しい。そこを我慢して無理やりに這って行くとようやくの事で何となく人間臭い所へ出た。ここへ這入ったら、どうにかなると思って竹垣の崩れた穴から、とある邸内にもぐり込んだ。縁は不思議なもので、もしこの竹垣が破れていなかったなら、吾輩はついに路傍に餓死したかも知れんのである。一樹の蔭とはよく云ったものだ。この垣根の穴は今日に至るまで吾輩が隣家の三毛を訪問する時の通路になっている。さて邸へは忍び込んだもののこれから先どうして善いか分らない。そのうちに暗くなる、腹は減る、寒さは寒し、雨が降って来るという始末でもう一刻の猶予が出来なくなった。仕方がないからとにかく明るくて暖かそうな方へ方へとあるいて行く。今から考えるとその時はすでに家の内に這入っておったのだ。ここで吾輩は彼の書生以外の人間を再び見るべき機会に遭遇したのである。第一に逢ったのがおさんである。これは前の書生より一層乱暴な方で吾輩を見るや否やいきなり頸筋をつかんで表へ抛り出した。いやこれは駄目だと思ったから眼をねぶって運を天に任せていた。しかしひもじいのと寒いのにはどうしても我慢が出来ん。吾輩は再びおさんの隙を見て台所へ這い上った。すると間もなくまた投げ出された。吾輩は投げ出されては這い上り、這い上っては投げ出され、何でも同じ事を四五遍繰り返したのを記憶している。その時におさんと云う者はつくづくいやになった。この間おさんの三馬を偸んでこの返報をしてやってから、やっと胸の痞が下りた。吾輩が最後につまみ出されようとしたときに、この家の主人が騒々しい何だといいながら出て来た。下女は吾輩をぶら下げて主人の方へ向けてこの宿なしの小猫がいくら出しても出しても御台所へ上って来て困りますという。主人は鼻の下の黒い毛を撚りながら吾輩の顔をしばらく眺めておったが、やがてそんなら内へ置いてやれといったまま奥へ這入ってしまった。主人はあまり口を聞かぬ人と見えた。下女は口惜しそうに吾輩を台所へ抛り出した。かくして吾輩はついにこの家を自分の住家と極める事にしたのである。\\n\\u3000吾輩の主人は滅多に吾輩と顔を合せる事がない。職業は教師だそうだ。学校から帰ると終日書斎に這入ったぎりほとんど出て来る事がない。家のものは大変な勉強家だと思っている。当人も勉強家であるかのごとく見せている。しかし実際はうちのものがいうような勤勉家ではない。吾輩は時々忍び足に彼の書斎を覗いて見るが、彼はよく昼寝をしている事がある。時々読みかけてある本の上に涎をたらしている。彼は胃弱で皮膚の色が淡黄色を帯びて弾力のない不活溌な徴候をあらわしている。その癖に大飯を食う。大飯を食った後でタカジヤスターゼを飲む。飲んだ後で書物をひろげる。二三ページ読むと眠くなる。涎を本の上へ垂らす。これが彼の毎夜繰り返す日課である。吾輩は猫ながら時々考える事がある。教師というものは実に楽なものだ。人間と生れたら教師となるに限る。こんなに寝ていて勤まるものなら猫にでも出来ぬ事はないと。それでも主人に云わせると教師ほどつらいものはないそうで彼は友達が来る度に何とかかんとか不平を鳴らしている。\\n\\u3000吾輩がこの家へ住み込んだ当時は、主人以外のものにははなはだ不人望であった。どこへ行っても跳ね付けられて相手にしてくれ手がなかった。いかに珍重されなかったかは、今日に至るまで名前さえつけてくれないのでも分る。吾輩は仕方がないから、出来得る限り吾輩を入れてくれた主人の傍にいる事をつとめた。朝主人が新聞を読むときは必ず彼の膝の上に乗る。彼が昼寝をするときは必ずその背中に乗る。これはあながち主人が好きという訳ではないが別に構い手がなかったからやむを得んのである。その後いろいろ経験の上、朝は飯櫃の上、夜は炬燵の上、天気のよい昼は椽側へ寝る事とした。しかし一番心持の好いのは夜に入ってここのうちの小供の寝床へもぐり込んでいっしょにねる事である。この小供というのは五つと三つで夜になると二人が一つ床へ入って一間へ寝る。吾輩はいつでも彼等の中間に己れを容るべき余地を見出してどうにか、こうにか割り込むのであるが、運悪く小供の一人が眼を醒ますが最後大変な事になる。小供は――ことに小さい方が質がわるい――猫が来た猫が来たといって夜中でも何でも大きな声で泣き出すのである。すると例の神経胃弱性の主人は必ず眼をさまして次の部屋から飛び出してくる。現にせんだってなどは物指で尻ぺたをひどく叩かれた。\\n\\u3000吾輩は人間と同居して彼等を観察すればするほど、彼等は我儘なものだと断言せざるを得ないようになった。ことに吾輩が時々｜同衾する小供のごときに至っては言語同断である。自分の勝手な時は人を逆さにしたり、頭へ袋をかぶせたり、抛り出したり、へっついの中へ押し込んだりする。しかも吾輩の方で少しでも手出しをしようものなら家内総がかりで追い廻して迫害を加える。この間もちょっと畳で爪を磨いだら細君が非常に怒ってそれから容易に座敷へ入れない。台所の板の間で他が顫えていても一向平気なものである。吾輩の尊敬する筋向の白君などは逢う度毎に人間ほど不人情なものはないと言っておらるる。白君は先日玉のような子猫を四疋｜産まれたのである。ところがそこの家の書生が三日目にそいつを裏の池へ持って行って四疋ながら棄てて来たそうだ。白君は涙を流してその一部始終を話した上、どうしても我等｜猫族が親子の愛を完くして美しい家族的生活をするには人間と戦ってこれを剿滅せねばならぬといわれた。一々もっともの議論と思う。また隣りの三毛君などは人間が所有権という事を解していないといって大に憤慨している。元来我々同族間では目刺の頭でも鰡の臍でも一番先に見付けたものがこれを食う権利があるものとなっている。もし相手がこの規約を守らなければ腕力に訴えて善いくらいのものだ。しかるに彼等人間は毫もこの観念がないと見えて我等が見付けた御馳走は必ず彼等のために掠奪せらるるのである。彼等はその強力を頼んで正当に吾人が食い得べきものを奪ってすましている。白君は軍人の家におり三毛君は代言の主人を持っている。吾輩は教師の家に住んでいるだけ、こんな事に関すると両君よりもむしろ楽天である。ただその日その日がどうにかこうにか送られればよい。いくら人間だって、そういつまでも栄える事もあるまい。まあ気を永く猫の時節を待つがよかろう。\\n\\u3000我儘で思い出したからちょっと吾輩の家の主人がこの我儘で失敗した話をしよう。元来この主人は何といって人に勝れて出来る事もないが、何にでもよく手を出したがる。俳句をやってほととぎすへ投書をしたり、新体詩を明星へ出したり、間違いだらけの英文をかいたり、時によると弓に凝ったり、謡を習ったり、またあるときはヴァイオリンなどをブーブー鳴らしたりするが、気の毒な事には、どれもこれも物になっておらん。その癖やり出すと胃弱の癖にいやに熱心だ。後架の中で謡をうたって、近所で後架先生と渾名をつけられているにも関せず一向平気なもので、やはりこれは平の宗盛にて候を繰返している。みんながそら宗盛だと吹き出すくらいである。この主人がどういう考になったものか吾輩の住み込んでから一月ばかり後のある月の月給日に、大きな包みを提げてあわただしく帰って来た。何を買って来たのかと思うと水彩絵具と毛筆とワットマンという紙で今日から謡や俳句をやめて絵をかく決心と見えた。果して翌日から当分の間というものは毎日毎日書斎で昼寝もしないで絵ばかりかいている。しかしそのかき上げたものを見ると何をかいたものやら誰にも鑑定がつかない。当人もあまり甘くないと思ったものか、ある日その友人で美学とかをやっている人が来た時に下のような話をしているのを聞いた。\\n「どうも甘くかけないものだね。人のを見ると何でもないようだが自ら筆をとって見ると今更のようにむずかしく感ずる」これは主人の述懐である。なるほど詐りのない処だ。彼の友は金縁の眼鏡越に主人の顔を見ながら、「そう初めから上手にはかけないさ、第一室内の想像ばかりで画がかける訳のものではない。昔し以太利の大家アンドレア・デル・サルトが言った事がある。画をかくなら何でも自然その物を写せ。天に星辰あり。地に露華あり。飛ぶに禽あり。走るに獣あり。池に金魚あり。枯木に寒鴉あり。自然はこれ一幅の大活画なりと。どうだ君も画らしい画をかこうと思うならちと写生をしたら」\\n「へえアンドレア・デル・サルトがそんな事をいった事があるかい。ちっとも知らなかった。なるほどこりゃもっともだ。実にその通りだ」と主人は無暗に感心している。金縁の裏には嘲けるような笑が見えた。\\n\\u3000その翌日吾輩は例のごとく椽側に出て心持善く昼寝をしていたら、主人が例になく書斎から出て来て吾輩の後ろで何かしきりにやっている。ふと眼が覚めて何をしているかと一分ばかり細目に眼をあけて見ると、彼は余念もなくアンドレア・デル・サルトを極め込んでいる。吾輩はこの有様を見て覚えず失笑するのを禁じ得なかった。彼は彼の友に揶揄せられたる結果としてまず手初めに吾輩を写生しつつあるのである。吾輩はすでに十分寝た。欠伸がしたくてたまらない。しかしせっかく主人が熱心に筆を執っているのを動いては気の毒だと思って、じっと辛棒しておった。彼は今吾輩の輪廓をかき上げて顔のあたりを色彩っている。吾輩は自白する。吾輩は猫として決して上乗の出来ではない。背といい毛並といい顔の造作といいあえて他の猫に勝るとは決して思っておらん。しかしいくら不器量の吾輩でも、今吾輩の主人に描き出されつつあるような妙な姿とは、どうしても思われない。第一色が違う。吾輩は波斯産の猫のごとく黄を含める淡灰色に漆のごとき斑入りの皮膚を有している。これだけは誰が見ても疑うべからざる事実と思う。しかるに今主人の彩色を見ると、黄でもなければ黒でもない、灰色でもなければ褐色でもない、さればとてこれらを交ぜた色でもない。ただ一種の色であるというよりほかに評し方のない色である。その上不思議な事は眼がない。もっともこれは寝ているところを写生したのだから無理もないが眼らしい所さえ見えないから盲猫だか寝ている猫だか判然しないのである。吾輩は心中ひそかにいくらアンドレア・デル・サルトでもこれではしようがないと思った。しかしその熱心には感服せざるを得ない。なるべくなら動かずにおってやりたいと思ったが、さっきから小便が催うしている。身内の筋肉はむずむずする。最早一分も猶予が出来ぬ仕儀となったから、やむをえず失敬して両足を前へ存分のして、首を低く押し出してあーあと大なる欠伸をした。さてこうなって見ると、もうおとなしくしていても仕方がない。どうせ主人の予定は打ち壊わしたのだから、ついでに裏へ行って用を足そうと思ってのそのそ這い出した。すると主人は失望と怒りを掻き交ぜたような声をして、座敷の中から「この馬鹿野郎」と怒鳴った。この主人は人を罵るときは必ず馬鹿野郎というのが癖である。ほかに悪口の言いようを知らないのだから仕方がないが、今まで辛棒した人の気も知らないで、無暗に馬鹿野郎｜呼わりは失敬だと思う。それも平生吾輩が彼の背中へ乗る時に少しは好い顔でもするならこの漫罵も甘んじて受けるが、こっちの便利になる事は何一つ快くしてくれた事もないのに、小便に立ったのを馬鹿野郎とは酷い。元来人間というものは自己の力量に慢じてみんな増長している。少し人間より強いものが出て来て窘めてやらなくてはこの先どこまで増長するか分らない。\\n\\u3000我儘もこのくらいなら我慢するが吾輩は人間の不徳についてこれよりも数倍悲しむべき報道を耳にした事がある。\\n\\u3000吾輩の家の裏に十坪ばかりの茶園がある。広くはないが瀟洒とした心持ち好く日の当る所だ。うちの小供があまり騒いで楽々昼寝の出来ない時や、あまり退屈で腹加減のよくない折などは、吾輩はいつでもここへ出て浩然の気を養うのが例である。ある小春の穏かな日の二時頃であったが、吾輩は昼飯後快よく一睡した後、運動かたがたこの茶園へと歩を運ばした。茶の木の根を一本一本嗅ぎながら、西側の杉垣のそばまでくると、枯菊を押し倒してその上に大きな猫が前後不覚に寝ている。彼は吾輩の近づくのも一向心付かざるごとく、また心付くも無頓着なるごとく、大きな鼾をして長々と体を横えて眠っている。他の庭内に忍び入りたるものがかくまで平気に睡られるものかと、吾輩は窃かにその大胆なる度胸に驚かざるを得なかった。彼は純粋の黒猫である。わずかに午を過ぎたる太陽は、透明なる光線を彼の皮膚の上に抛げかけて、きらきらする柔毛の間より眼に見えぬ炎でも燃え出ずるように思われた。彼は猫中の大王とも云うべきほどの偉大なる体格を有している。吾輩の倍はたしかにある。吾輩は嘆賞の念と、好奇の心に前後を忘れて彼の前に佇立して余念もなく眺めていると、静かなる小春の風が、杉垣の上から出たる梧桐の枝を軽く誘ってばらばらと二三枚の葉が枯菊の茂みに落ちた。大王はかっとその真丸の眼を開いた。今でも記憶している。その眼は人間の珍重する琥珀というものよりも遥かに美しく輝いていた。彼は身動きもしない。双眸の奥から射るごとき光を吾輩の矮小なる額の上にあつめて、御めえは一体何だと云った。大王にしては少々言葉が卑しいと思ったが何しろその声の底に犬をも挫しぐべき力が籠っているので吾輩は少なからず恐れを抱いた。しかし挨拶をしないと険呑だと思ったから「吾輩は猫である。名前はまだない」となるべく平気を装って冷然と答えた。しかしこの時吾輩の心臓はたしかに平時よりも烈しく鼓動しておった。彼は大に軽蔑せる調子で「何、猫だ？\\u3000猫が聞いてあきれらあ。全てえどこに住んでるんだ」随分｜傍若無人である。「吾輩はここの教師の家にいるのだ」「どうせそんな事だろうと思った。いやに瘠せてるじゃねえか」と大王だけに気焔を吹きかける。言葉付から察するとどうも良家の猫とも思われない。しかしその膏切って肥満しているところを見ると御馳走を食ってるらしい、豊かに暮しているらしい。吾輩は「そう云う君は一体誰だい」と聞かざるを得なかった。「己れあ車屋の黒よ」昂然たるものだ。車屋の黒はこの近辺で知らぬ者なき乱暴猫である。しかし車屋だけに強いばかりでちっとも教育がないからあまり誰も交際しない。同盟敬遠主義の的になっている奴だ。吾輩は彼の名を聞いて少々尻こそばゆき感じを起すと同時に、一方では少々｜軽侮の念も生じたのである。吾輩はまず彼がどのくらい無学であるかを試してみようと思って左の問答をして見た。\\n「一体車屋と教師とはどっちがえらいだろう」\\n「車屋の方が強いに極っていらあな。御めえのうちの主人を見ねえ、まるで骨と皮ばかりだぜ」\\n「君も車屋の猫だけに大分強そうだ。車屋にいると御馳走が食えると見えるね」\\n「何におれなんざ、どこの国へ行ったって食い物に不自由はしねえつもりだ。御めえなんかも茶畠ばかりぐるぐる廻っていねえで、ちっと己の後へくっ付いて来て見ねえ。一と月とたたねえうちに見違えるように太れるぜ」\\n「追ってそう願う事にしよう。しかし家は教師の方が車屋より大きいのに住んでいるように思われる」\\n「箆棒め、うちなんかいくら大きくたって腹の足しになるもんか」\\n\\u3000彼は大に肝癪に障った様子で、寒竹をそいだような耳をしきりとぴく付かせてあららかに立ち去った。吾輩が車屋の黒と知己になったのはこれからである。\\n\\u3000その後吾輩は度々黒と邂逅する。邂逅する毎に彼は車屋相当の気焔を吐く。先に吾輩が耳にしたという不徳事件も実は黒から聞いたのである。\\n\\u3000或る日例のごとく吾輩と黒は暖かい茶畠の中で寝転びながらいろいろ雑談をしていると、彼はいつもの自慢話しをさも新しそうに繰り返したあとで、吾輩に向って下のごとく質問した。「御めえは今までに鼠を何匹とった事がある」智識は黒よりも余程発達しているつもりだが腕力と勇気とに至っては到底黒の比較にはならないと覚悟はしていたものの、この問に接したる時は、さすがに極りが善くはなかった。けれども事実は事実で詐る訳には行かないから、吾輩は「実はとろうとろうと思ってまだ捕らない」と答えた。黒は彼の鼻の先からぴんと突張っている長い髭をびりびりと震わせて非常に笑った。元来黒は自慢をする丈にどこか足りないところがあって、彼の気焔を感心したように咽喉をころころ鳴らして謹聴していればはなはだ御しやすい猫である。吾輩は彼と近付になってから直にこの呼吸を飲み込んだからこの場合にもなまじい己れを弁護してますます形勢をわるくするのも愚である、いっその事彼に自分の手柄話をしゃべらして御茶を濁すに若くはないと思案を定めた。そこでおとなしく「君などは年が年であるから大分とったろう」とそそのかして見た。果然彼は墻壁の欠所に吶喊して来た。「たんとでもねえが三四十はとったろう」とは得意気なる彼の答であった。彼はなお語をつづけて「鼠の百や二百は一人でいつでも引き受けるがいたちってえ奴は手に合わねえ。一度いたちに向って酷い目に逢った」「へえなるほど」と相槌を打つ。黒は大きな眼をぱちつかせて云う。「去年の大掃除の時だ。うちの亭主が石灰の袋を持って椽の下へ'"
            ]
          },
          "metadata": {},
          "execution_count": 24
        }
      ]
    },
    {
      "cell_type": "markdown",
      "metadata": {
        "id": "F3Hd4fEMqcoy"
      },
      "source": [
        "#### 4.4 textから「空行」を削除して下さい。"
      ]
    },
    {
      "cell_type": "code",
      "metadata": {
        "id": "sOy5b98Lqcoy",
        "colab": {
          "base_uri": "https://localhost:8080/",
          "height": 278
        },
        "outputId": "6efbc809-e443-4303-977d-9427dc623597"
      },
      "source": [
        "text = re.sub('\\n\\n', '\\n', text)\n",
        "text = re.sub('\\n\\u3000', '', text)\n",
        "text = re.sub('\\n', '', text)\n",
        "text"
      ],
      "execution_count": 25,
      "outputs": [
        {
          "output_type": "execute_result",
          "data": {
            "application/vnd.google.colaboratory.intrinsic+json": {
              "type": "string"
            },
            "text/plain": [
              "'一吾輩は猫である。名前はまだ無い。どこで生れたかとんと見当がつかぬ。何でも薄暗いじめじめした所でニャーニャー泣いていた事だけは記憶している。吾輩はここで始めて人間というものを見た。しかもあとで聞くとそれは書生という人間中で一番｜獰悪な種族であったそうだ。この書生というのは時々我々を捕えて煮て食うという話である。しかしその当時は何という考もなかったから別段恐しいとも思わなかった。ただ彼の掌に載せられてスーと持ち上げられた時何だかフワフワした感じがあったばかりである。掌の上で少し落ちついて書生の顔を見たのがいわゆる人間というものの見始であろう。この時妙なものだと思った感じが今でも残っている。第一毛をもって装飾されべきはずの顔がつるつるしてまるで薬缶だ。その後猫にもだいぶ逢ったがこんな片輪には一度も出会わした事がない。のみならず顔の真中があまりに突起している。そうしてその穴の中から時々ぷうぷうと煙を吹く。どうも咽せぽくて実に弱った。これが人間の飲む煙草というものである事はようやくこの頃知った。この書生の掌の裏でしばらくはよい心持に坐っておったが、しばらくすると非常な速力で運転し始めた。書生が動くのか自分だけが動くのか分らないが無暗に眼が廻る。胸が悪くなる。到底助からないと思っていると、どさりと音がして眼から火が出た。それまでは記憶しているがあとは何の事やらいくら考え出そうとしても分らない。ふと気が付いて見ると書生はいない。たくさんおった兄弟が一｜疋も見えぬ。肝心の母親さえ姿を隠してしまった。その上｜今までの所とは違って無暗に明るい。眼を明いていられぬくらいだ。はてな何でも容子がおかしいと、のそのそ這い出して見ると非常に痛い。吾輩は藁の上から急に笹原の中へ棄てられたのである。ようやくの思いで笹原を這い出すと向うに大きな池がある。吾輩は池の前に坐ってどうしたらよかろうと考えて見た。別にこれという分別も出ない。しばらくして泣いたら書生がまた迎に来てくれるかと考え付いた。ニャー、ニャーと試みにやって見たが誰も来ない。そのうち池の上をさらさらと風が渡って日が暮れかかる。腹が非常に減って来た。泣きたくても声が出ない。仕方がない、何でもよいから食物のある所まであるこうと決心をしてそろりそろりと池を左りに廻り始めた。どうも非常に苦しい。そこを我慢して無理やりに這って行くとようやくの事で何となく人間臭い所へ出た。ここへ這入ったら、どうにかなると思って竹垣の崩れた穴から、とある邸内にもぐり込んだ。縁は不思議なもので、もしこの竹垣が破れていなかったなら、吾輩はついに路傍に餓死したかも知れんのである。一樹の蔭とはよく云ったものだ。この垣根の穴は今日に至るまで吾輩が隣家の三毛を訪問する時の通路になっている。さて邸へは忍び込んだもののこれから先どうして善いか分らない。そのうちに暗くなる、腹は減る、寒さは寒し、雨が降って来るという始末でもう一刻の猶予が出来なくなった。仕方がないからとにかく明るくて暖かそうな方へ方へとあるいて行く。今から考えるとその時はすでに家の内に這入っておったのだ。ここで吾輩は彼の書生以外の人間を再び見るべき機会に遭遇したのである。第一に逢ったのがおさんである。これは前の書生より一層乱暴な方で吾輩を見るや否やいきなり頸筋をつかんで表へ抛り出した。いやこれは駄目だと思ったから眼をねぶって運を天に任せていた。しかしひもじいのと寒いのにはどうしても我慢が出来ん。吾輩は再びおさんの隙を見て台所へ這い上った。すると間もなくまた投げ出された。吾輩は投げ出されては這い上り、這い上っては投げ出され、何でも同じ事を四五遍繰り返したのを記憶している。その時におさんと云う者はつくづくいやになった。この間おさんの三馬を偸んでこの返報をしてやってから、やっと胸の痞が下りた。吾輩が最後につまみ出されようとしたときに、この家の主人が騒々しい何だといいながら出て来た。下女は吾輩をぶら下げて主人の方へ向けてこの宿なしの小猫がいくら出しても出しても御台所へ上って来て困りますという。主人は鼻の下の黒い毛を撚りながら吾輩の顔をしばらく眺めておったが、やがてそんなら内へ置いてやれといったまま奥へ這入ってしまった。主人はあまり口を聞かぬ人と見えた。下女は口惜しそうに吾輩を台所へ抛り出した。かくして吾輩はついにこの家を自分の住家と極める事にしたのである。吾輩の主人は滅多に吾輩と顔を合せる事がない。職業は教師だそうだ。学校から帰ると終日書斎に這入ったぎりほとんど出て来る事がない。家のものは大変な勉強家だと思っている。当人も勉強家であるかのごとく見せている。しかし実際はうちのものがいうような勤勉家ではない。吾輩は時々忍び足に彼の書斎を覗いて見るが、彼はよく昼寝をしている事がある。時々読みかけてある本の上に涎をたらしている。彼は胃弱で皮膚の色が淡黄色を帯びて弾力のない不活溌な徴候をあらわしている。その癖に大飯を食う。大飯を食った後でタカジヤスターゼを飲む。飲んだ後で書物をひろげる。二三ページ読むと眠くなる。涎を本の上へ垂らす。これが彼の毎夜繰り返す日課である。吾輩は猫ながら時々考える事がある。教師というものは実に楽なものだ。人間と生れたら教師となるに限る。こんなに寝ていて勤まるものなら猫にでも出来ぬ事はないと。それでも主人に云わせると教師ほどつらいものはないそうで彼は友達が来る度に何とかかんとか不平を鳴らしている。吾輩がこの家へ住み込んだ当時は、主人以外のものにははなはだ不人望であった。どこへ行っても跳ね付けられて相手にしてくれ手がなかった。いかに珍重されなかったかは、今日に至るまで名前さえつけてくれないのでも分る。吾輩は仕方がないから、出来得る限り吾輩を入れてくれた主人の傍にいる事をつとめた。朝主人が新聞を読むときは必ず彼の膝の上に乗る。彼が昼寝をするときは必ずその背中に乗る。これはあながち主人が好きという訳ではないが別に構い手がなかったからやむを得んのである。その後いろいろ経験の上、朝は飯櫃の上、夜は炬燵の上、天気のよい昼は椽側へ寝る事とした。しかし一番心持の好いのは夜に入ってここのうちの小供の寝床へもぐり込んでいっしょにねる事である。この小供というのは五つと三つで夜になると二人が一つ床へ入って一間へ寝る。吾輩はいつでも彼等の中間に己れを容るべき余地を見出してどうにか、こうにか割り込むのであるが、運悪く小供の一人が眼を醒ますが最後大変な事になる。小供は――ことに小さい方が質がわるい――猫が来た猫が来たといって夜中でも何でも大きな声で泣き出すのである。すると例の神経胃弱性の主人は必ず眼をさまして次の部屋から飛び出してくる。現にせんだってなどは物指で尻ぺたをひどく叩かれた。吾輩は人間と同居して彼等を観察すればするほど、彼等は我儘なものだと断言せざるを得ないようになった。ことに吾輩が時々｜同衾する小供のごときに至っては言語同断である。自分の勝手な時は人を逆さにしたり、頭へ袋をかぶせたり、抛り出したり、へっついの中へ押し込んだりする。しかも吾輩の方で少しでも手出しをしようものなら家内総がかりで追い廻して迫害を加える。この間もちょっと畳で爪を磨いだら細君が非常に怒ってそれから容易に座敷へ入れない。台所の板の間で他が顫えていても一向平気なものである。吾輩の尊敬する筋向の白君などは逢う度毎に人間ほど不人情なものはないと言っておらるる。白君は先日玉のような子猫を四疋｜産まれたのである。ところがそこの家の書生が三日目にそいつを裏の池へ持って行って四疋ながら棄てて来たそうだ。白君は涙を流してその一部始終を話した上、どうしても我等｜猫族が親子の愛を完くして美しい家族的生活をするには人間と戦ってこれを剿滅せねばならぬといわれた。一々もっともの議論と思う。また隣りの三毛君などは人間が所有権という事を解していないといって大に憤慨している。元来我々同族間では目刺の頭でも鰡の臍でも一番先に見付けたものがこれを食う権利があるものとなっている。もし相手がこの規約を守らなければ腕力に訴えて善いくらいのものだ。しかるに彼等人間は毫もこの観念がないと見えて我等が見付けた御馳走は必ず彼等のために掠奪せらるるのである。彼等はその強力を頼んで正当に吾人が食い得べきものを奪ってすましている。白君は軍人の家におり三毛君は代言の主人を持っている。吾輩は教師の家に住んでいるだけ、こんな事に関すると両君よりもむしろ楽天である。ただその日その日がどうにかこうにか送られればよい。いくら人間だって、そういつまでも栄える事もあるまい。まあ気を永く猫の時節を待つがよかろう。我儘で思い出したからちょっと吾輩の家の主人がこの我儘で失敗した話をしよう。元来この主人は何といって人に勝れて出来る事もないが、何にでもよく手を出したがる。俳句をやってほととぎすへ投書をしたり、新体詩を明星へ出したり、間違いだらけの英文をかいたり、時によると弓に凝ったり、謡を習ったり、またあるときはヴァイオリンなどをブーブー鳴らしたりするが、気の毒な事には、どれもこれも物になっておらん。その癖やり出すと胃弱の癖にいやに熱心だ。後架の中で謡をうたって、近所で後架先生と渾名をつけられているにも関せず一向平気なもので、やはりこれは平の宗盛にて候を繰返している。みんながそら宗盛だと吹き出すくらいである。この主人がどういう考になったものか吾輩の住み込んでから一月ばかり後のある月の月給日に、大きな包みを提げてあわただしく帰って来た。何を買って来たのかと思うと水彩絵具と毛筆とワットマンという紙で今日から謡や俳句をやめて絵をかく決心と見えた。果して翌日から当分の間というものは毎日毎日書斎で昼寝もしないで絵ばかりかいている。しかしそのかき上げたものを見ると何をかいたものやら誰にも鑑定がつかない。当人もあまり甘くないと思ったものか、ある日その友人で美学とかをやっている人が来た時に下のような話をしているのを聞いた。「どうも甘くかけないものだね。人のを見ると何でもないようだが自ら筆をとって見ると今更のようにむずかしく感ずる」これは主人の述懐である。なるほど詐りのない処だ。彼の友は金縁の眼鏡越に主人の顔を見ながら、「そう初めから上手にはかけないさ、第一室内の想像ばかりで画がかける訳のものではない。昔し以太利の大家アンドレア・デル・サルトが言った事がある。画をかくなら何でも自然その物を写せ。天に星辰あり。地に露華あり。飛ぶに禽あり。走るに獣あり。池に金魚あり。枯木に寒鴉あり。自然はこれ一幅の大活画なりと。どうだ君も画らしい画をかこうと思うならちと写生をしたら」「へえアンドレア・デル・サルトがそんな事をいった事があるかい。ちっとも知らなかった。なるほどこりゃもっともだ。実にその通りだ」と主人は無暗に感心している。金縁の裏には嘲けるような笑が見えた。その翌日吾輩は例のごとく椽側に出て心持善く昼寝をしていたら、主人が例になく書斎から出て来て吾輩の後ろで何かしきりにやっている。ふと眼が覚めて何をしているかと一分ばかり細目に眼をあけて見ると、彼は余念もなくアンドレア・デル・サルトを極め込んでいる。吾輩はこの有様を見て覚えず失笑するのを禁じ得なかった。彼は彼の友に揶揄せられたる結果としてまず手初めに吾輩を写生しつつあるのである。吾輩はすでに十分寝た。欠伸がしたくてたまらない。しかしせっかく主人が熱心に筆を執っているのを動いては気の毒だと思って、じっと辛棒しておった。彼は今吾輩の輪廓をかき上げて顔のあたりを色彩っている。吾輩は自白する。吾輩は猫として決して上乗の出来ではない。背といい毛並といい顔の造作といいあえて他の猫に勝るとは決して思っておらん。しかしいくら不器量の吾輩でも、今吾輩の主人に描き出されつつあるような妙な姿とは、どうしても思われない。第一色が違う。吾輩は波斯産の猫のごとく黄を含める淡灰色に漆のごとき斑入りの皮膚を有している。これだけは誰が見ても疑うべからざる事実と思う。しかるに今主人の彩色を見ると、黄でもなければ黒でもない、灰色でもなければ褐色でもない、さればとてこれらを交ぜた色でもない。ただ一種の色であるというよりほかに評し方のない色である。その上不思議な事は眼がない。もっともこれは寝ているところを写生したのだから無理もないが眼らしい所さえ見えないから盲猫だか寝ている猫だか判然しないのである。吾輩は心中ひそかにいくらアンドレア・デル・サルトでもこれではしようがないと思った。しかしその熱心には感服せざるを得ない。なるべくなら動かずにおってやりたいと思ったが、さっきから小便が催うしている。身内の筋肉はむずむずする。最早一分も猶予が出来ぬ仕儀となったから、やむをえず失敬して両足を前へ存分のして、首を低く押し出してあーあと大なる欠伸をした。さてこうなって見ると、もうおとなしくしていても仕方がない。どうせ主人の予定は打ち壊わしたのだから、ついでに裏へ行って用を足そうと思ってのそのそ這い出した。すると主人は失望と怒りを掻き交ぜたような声をして、座敷の中から「この馬鹿野郎」と怒鳴った。この主人は人を罵るときは必ず馬鹿野郎というのが癖である。ほかに悪口の言いようを知らないのだから仕方がないが、今まで辛棒した人の気も知らないで、無暗に馬鹿野郎｜呼わりは失敬だと思う。それも平生吾輩が彼の背中へ乗る時に少しは好い顔でもするならこの漫罵も甘んじて受けるが、こっちの便利になる事は何一つ快くしてくれた事もないのに、小便に立ったのを馬鹿野郎とは酷い。元来人間というものは自己の力量に慢じてみんな増長している。少し人間より強いものが出て来て窘めてやらなくてはこの先どこまで増長するか分らない。我儘もこのくらいなら我慢するが吾輩は人間の不徳についてこれよりも数倍悲しむべき報道を耳にした事がある。吾輩の家の裏に十坪ばかりの茶園がある。広くはないが瀟洒とした心持ち好く日の当る所だ。うちの小供があまり騒いで楽々昼寝の出来ない時や、あまり退屈で腹加減のよくない折などは、吾輩はいつでもここへ出て浩然の気を養うのが例である。ある小春の穏かな日の二時頃であったが、吾輩は昼飯後快よく一睡した後、運動かたがたこの茶園へと歩を運ばした。茶の木の根を一本一本嗅ぎながら、西側の杉垣のそばまでくると、枯菊を押し倒してその上に大きな猫が前後不覚に寝ている。彼は吾輩の近づくのも一向心付かざるごとく、また心付くも無頓着なるごとく、大きな鼾をして長々と体を横えて眠っている。他の庭内に忍び入りたるものがかくまで平気に睡られるものかと、吾輩は窃かにその大胆なる度胸に驚かざるを得なかった。彼は純粋の黒猫である。わずかに午を過ぎたる太陽は、透明なる光線を彼の皮膚の上に抛げかけて、きらきらする柔毛の間より眼に見えぬ炎でも燃え出ずるように思われた。彼は猫中の大王とも云うべきほどの偉大なる体格を有している。吾輩の倍はたしかにある。吾輩は嘆賞の念と、好奇の心に前後を忘れて彼の前に佇立して余念もなく眺めていると、静かなる小春の風が、杉垣の上から出たる梧桐の枝を軽く誘ってばらばらと二三枚の葉が枯菊の茂みに落ちた。大王はかっとその真丸の眼を開いた。今でも記憶している。その眼は人間の珍重する琥珀というものよりも遥かに美しく輝いていた。彼は身動きもしない。双眸の奥から射るごとき光を吾輩の矮小なる額の上にあつめて、御めえは一体何だと云った。大王にしては少々言葉が卑しいと思ったが何しろその声の底に犬をも挫しぐべき力が籠っているので吾輩は少なからず恐れを抱いた。しかし挨拶をしないと険呑だと思ったから「吾輩は猫である。名前はまだない」となるべく平気を装って冷然と答えた。しかしこの時吾輩の心臓はたしかに平時よりも烈しく鼓動しておった。彼は大に軽蔑せる調子で「何、猫だ？\\u3000猫が聞いてあきれらあ。全てえどこに住んでるんだ」随分｜傍若無人である。「吾輩はここの教師の家にいるのだ」「どうせそんな事だろうと思った。いやに瘠せてるじゃねえか」と大王だけに気焔を吹きかける。言葉付から察するとどうも良家の猫とも思われない。しかしその膏切って肥満しているところを見ると御馳走を食ってるらしい、豊かに暮しているらしい。吾輩は「そう云う君は一体誰だい」と聞かざるを得なかった。「己れあ車屋の黒よ」昂然たるものだ。車屋の黒はこの近辺で知らぬ者なき乱暴猫である。しかし車屋だけに強いばかりでちっとも教育がないからあまり誰も交際しない。同盟敬遠主義の的になっている奴だ。吾輩は彼の名を聞いて少々尻こそばゆき感じを起すと同時に、一方では少々｜軽侮の念も生じたのである。吾輩はまず彼がどのくらい無学であるかを試してみようと思って左の問答をして見た。「一体車屋と教師とはどっちがえらいだろう」「車屋の方が強いに極っていらあな。御めえのうちの主人を見ねえ、まるで骨と皮ばかりだぜ」「君も車屋の猫だけに大分強そうだ。車屋にいると御馳走が食えると見えるね」「何におれなんざ、どこの国へ行ったって食い物に不自由はしねえつもりだ。御めえなんかも茶畠ばかりぐるぐる廻っていねえで、ちっと己の後へくっ付いて来て見ねえ。一と月とたたねえうちに見違えるように太れるぜ」「追ってそう願う事にしよう。しかし家は教師の方が車屋より大きいのに住んでいるように思われる」「箆棒め、うちなんかいくら大きくたって腹の足しになるもんか」彼は大に肝癪に障った様子で、寒竹をそいだような耳をしきりとぴく付かせてあららかに立ち去った。吾輩が車屋の黒と知己になったのはこれからである。その後吾輩は度々黒と邂逅する。邂逅する毎に彼は車屋相当の気焔を吐く。先に吾輩が耳にしたという不徳事件も実は黒から聞いたのである。或る日例のごとく吾輩と黒は暖かい茶畠の中で寝転びながらいろいろ雑談をしていると、彼はいつもの自慢話しをさも新しそうに繰り返したあとで、吾輩に向って下のごとく質問した。「御めえは今までに鼠を何匹とった事がある」智識は黒よりも余程発達しているつもりだが腕力と勇気とに至っては到底黒の比較にはならないと覚悟はしていたものの、この問に接したる時は、さすがに極りが善くはなかった。けれども事実は事実で詐る訳には行かないから、吾輩は「実はとろうとろうと思ってまだ捕らない」と答えた。黒は彼の鼻の先からぴんと突張っている長い髭をびりびりと震わせて非常に笑った。元来黒は自慢をする丈にどこか足りないところがあって、彼の気焔を感心したように咽喉をころころ鳴らして謹聴していればはなはだ御しやすい猫である。吾輩は彼と近付になってから直にこの呼吸を飲み込んだからこの場合にもなまじい己れを弁護してますます形勢をわるくするのも愚である、いっその事彼に自分の手柄話をしゃべらして御茶を濁すに若くはないと思案を定めた。そこでおとなしく「君などは年が年であるから大分とったろう」とそそのかして見た。果然彼は墻壁の欠所に吶喊して来た。「たんとでもねえが三四十はとったろう」とは得意気なる彼の答であった。彼はなお語をつづけて「鼠の百や二百は一人でいつでも引き受けるがいたちってえ奴は手に合わねえ。一度いたちに向って酷い目に逢った」「へえなるほど」と相槌を打つ。黒は大きな眼をぱちつかせて云う。「去年の大掃除の時だ。うちの亭主が石灰の袋を持って椽の下へ'"
            ]
          },
          "metadata": {},
          "execution_count": 25
        }
      ]
    },
    {
      "cell_type": "markdown",
      "metadata": {
        "id": "R-nn2c0Mqcoy"
      },
      "source": [
        "#### 4.5 Tokenizerインスタンスを作成して下さい。"
      ]
    },
    {
      "cell_type": "code",
      "metadata": {
        "id": "Z9gOJW6Kqcoy",
        "colab": {
          "base_uri": "https://localhost:8080/"
        },
        "outputId": "76fca9fa-7a72-4903-eaeb-68f60d964eea"
      },
      "source": [
        "t = Tokenizer()\n",
        "t"
      ],
      "execution_count": 26,
      "outputs": [
        {
          "output_type": "execute_result",
          "data": {
            "text/plain": [
              "<janome.tokenizer.Tokenizer at 0x7f1770086c10>"
            ]
          },
          "metadata": {},
          "execution_count": 26
        }
      ]
    },
    {
      "cell_type": "markdown",
      "metadata": {
        "id": "U_60HT4Eqcoy"
      },
      "source": [
        "#### 4.6 形態素解析をして、名詞、動詞、形容詞のみを配列で抽出する関数を作成し、「明日は良い天気になる可能性が非常に高い」と言う文字列を関数に入力した結果を出力して下さい。"
      ]
    },
    {
      "cell_type": "code",
      "metadata": {
        "id": "sRE-N2ZBqcoy",
        "colab": {
          "base_uri": "https://localhost:8080/"
        },
        "outputId": "a1574316-4b5a-48af-806d-71aa5af53729"
      },
      "source": [
        "def extract_words(text):\n",
        "    tokens = t.tokenize(text)\n",
        "    return [token.base_form for token in tokens \n",
        "        if token.part_of_speech.split(',')[0] in['名詞', '動詞']]\n",
        "\n",
        "ret = extract_words('明日は良い天気になる可能性が非常に高い。')\n",
        "for word in ret:\n",
        "    print(word)"
      ],
      "execution_count": 27,
      "outputs": [
        {
          "output_type": "stream",
          "name": "stdout",
          "text": [
            "明日\n",
            "天気\n",
            "なる\n",
            "可能\n",
            "性\n",
            "非常\n"
          ]
        }
      ]
    },
    {
      "cell_type": "markdown",
      "metadata": {
        "id": "rMhgs9C6qcoz"
      },
      "source": [
        "#### 4.7 全体のテキストを句点('。')で区切った配列にし、上から10要素を出力して下さい。"
      ]
    },
    {
      "cell_type": "code",
      "metadata": {
        "id": "iFiugCvmqcoz",
        "colab": {
          "base_uri": "https://localhost:8080/"
        },
        "outputId": "00adf30a-2812-40d2-9385-8f8d141a6297"
      },
      "source": [
        "sentences = text.split('。')\n",
        "sentences[:10]"
      ],
      "execution_count": 28,
      "outputs": [
        {
          "output_type": "execute_result",
          "data": {
            "text/plain": [
              "['一吾輩は猫である',\n",
              " '名前はまだ無い',\n",
              " 'どこで生れたかとんと見当がつかぬ',\n",
              " '何でも薄暗いじめじめした所でニャーニャー泣いていた事だけは記憶している',\n",
              " '吾輩はここで始めて人間というものを見た',\n",
              " 'しかもあとで聞くとそれは書生という人間中で一番｜獰悪な種族であったそうだ',\n",
              " 'この書生というのは時々我々を捕えて煮て食うという話である',\n",
              " 'しかしその当時は何という考もなかったから別段恐しいとも思わなかった',\n",
              " 'ただ彼の掌に載せられてスーと持ち上げられた時何だかフワフワした感じがあったばかりである',\n",
              " '掌の上で少し落ちついて書生の顔を見たのがいわゆる人間というものの見始であろう']"
            ]
          },
          "metadata": {},
          "execution_count": 28
        }
      ]
    },
    {
      "cell_type": "markdown",
      "metadata": {
        "id": "KjVwgxisqcoz"
      },
      "source": [
        "#### 4.8 それぞれの文章を単語リストに変換する処理を作成し、1文の要素を出力して下さい。"
      ]
    },
    {
      "cell_type": "code",
      "metadata": {
        "id": "I2bjwl-_qcoz",
        "colab": {
          "base_uri": "https://localhost:8080/"
        },
        "outputId": "85003301-d964-4931-bbcf-1c07830aaf91"
      },
      "source": [
        "word_list = [extract_words(sentence) for sentence in sentences]\n",
        "\n",
        "for word in word_list[0]:\n",
        "    print(word)"
      ],
      "execution_count": 29,
      "outputs": [
        {
          "output_type": "stream",
          "name": "stdout",
          "text": [
            "一\n",
            "吾輩\n",
            "猫\n"
          ]
        }
      ]
    },
    {
      "cell_type": "markdown",
      "metadata": {
        "id": "4VgbhO2Tqcoz"
      },
      "source": [
        "#### 4.9 word2vecをインストールして、word2vecのオプションを「size=100,min_count=5,window=5,iter=100」で設定し、学習を行って下さい。\n",
        " - size: 圧縮次元数\n",
        " - min_count: 出現頻度の低いものをカットする\n",
        " - window: 前後の単語を拾う際の窓の広さを決める\n",
        " - iter: 機械学習の繰り返し回数(デフォルト:5)十分学習できていないときにこの値を調整する"
      ]
    },
    {
      "cell_type": "code",
      "metadata": {
        "id": "brta2e6pqcoz"
      },
      "source": [
        "from gensim.models import word2vec\n",
        "model = word2vec.Word2Vec(\n",
        "    word_list,\n",
        "    size=100,\n",
        "    min_count=5,\n",
        "    window=5,\n",
        "    iter=100\n",
        "  )"
      ],
      "execution_count": 30,
      "outputs": []
    },
    {
      "cell_type": "markdown",
      "metadata": {
        "id": "2nAD7Yf_qcoz"
      },
      "source": [
        "#### 4.10 「猫」という単語のベクトルを出力して下さい。"
      ]
    },
    {
      "cell_type": "code",
      "metadata": {
        "id": "xYEDm8yiqco0",
        "colab": {
          "base_uri": "https://localhost:8080/"
        },
        "outputId": "d5700733-505b-4165-fca4-e7f3fb23d88b"
      },
      "source": [
        "print(model.__dict__['wv']['猫'])"
      ],
      "execution_count": 31,
      "outputs": [
        {
          "output_type": "stream",
          "name": "stdout",
          "text": [
            "[-0.10703666 -0.02666292  0.06851811  0.00865924 -0.04847014 -0.01313169\n",
            " -0.05085543 -0.31468576  0.15183549  0.01317975  0.09738826  0.13723937\n",
            "  0.0564485  -0.11002766 -0.07126939  0.25748312  0.01032944 -0.04850245\n",
            "  0.05808662  0.09095728  0.10785374  0.10764465 -0.0790773   0.07375518\n",
            "  0.06940874 -0.44007823  0.0555528   0.02687568 -0.00526642  0.06559493\n",
            " -0.13856153  0.27902988  0.01332887  0.08357529  0.04742677  0.1823331\n",
            " -0.16673227 -0.17153324  0.26552227  0.02325126  0.05725856  0.02217385\n",
            "  0.00267017  0.16626246  0.13955162  0.02625598 -0.07690708 -0.1439964\n",
            "  0.03490651 -0.03337122  0.13949491 -0.05009002  0.02904898 -0.18516317\n",
            " -0.01071992  0.06354401  0.05517694 -0.06887244  0.12767693 -0.05546664\n",
            "  0.15108363 -0.17251095  0.04430442  0.16941425 -0.03614849 -0.22645432\n",
            "  0.12147832 -0.31191915 -0.1463199  -0.27104127 -0.0815127   0.10210906\n",
            " -0.00074861  0.13432957 -0.08399226  0.1717944   0.07264128 -0.16775726\n",
            " -0.03325575  0.16186883  0.31524953 -0.01168801 -0.02709826  0.29489285\n",
            "  0.25948507  0.08399352  0.00614785  0.13350742  0.16338871 -0.03687859\n",
            "  0.2314399  -0.00181881 -0.36598423 -0.22326106  0.31235883 -0.16009386\n",
            "  0.07948778  0.07245185 -0.00788611  0.0533307 ]\n"
          ]
        }
      ]
    },
    {
      "cell_type": "markdown",
      "metadata": {
        "id": "WxwXz9Nmqco0"
      },
      "source": [
        "#### 4.11 「猫」と類似度の高い語句を算出して下さい。※結果が一致する必要は有りません。今回は訓練データを制限しているので、精度は高く有りません。"
      ]
    },
    {
      "cell_type": "code",
      "metadata": {
        "id": "UGXQwSJZqco0",
        "colab": {
          "base_uri": "https://localhost:8080/"
        },
        "outputId": "a72a515c-a747-45cd-c6bc-59fd2720c778"
      },
      "source": [
        "ret = model.wv.most_similar(positive=['猫']) \n",
        "for item in ret:\n",
        "    print(item[0], item[1])"
      ],
      "execution_count": 32,
      "outputs": [
        {
          "output_type": "stream",
          "name": "stdout",
          "text": [
            "やる 0.9995500445365906\n",
            "人 0.9995182752609253\n",
            "うち 0.9994729161262512\n",
            "何 0.9994715452194214\n",
            "上 0.9994610548019409\n",
            "出る 0.9994456768035889\n",
            "主人 0.9994454979896545\n",
            "云う 0.9994451999664307\n",
            "聞く 0.9994288086891174\n",
            "め 0.999427855014801\n"
          ]
        }
      ]
    },
    {
      "cell_type": "markdown",
      "metadata": {
        "id": "qk7VMZmfqco0"
      },
      "source": [
        "#### 4.12 今回訓練データを制限したため、精度はよく有りませんでしたが、他の学習済みモデルを用いてみましょう。"
      ]
    },
    {
      "cell_type": "markdown",
      "metadata": {
        "id": "VnHo1fSLqco0"
      },
      "source": [
        "#### 4.12.0 事前準備"
      ]
    },
    {
      "cell_type": "code",
      "metadata": {
        "scrolled": true,
        "id": "wnfmh0Swqco0",
        "colab": {
          "base_uri": "https://localhost:8080/",
          "height": 368
        },
        "outputId": "e97dc278-d342-43e4-f8fd-59f18ebd44a8"
      },
      "source": [
        "from gensim.models.word2vec import Word2Vec\n",
        "\n",
        "trained_model_path = './latest-ja-word2vec-gensim-model/word2vec.gensim.model'\n",
        "trained_model = Word2Vec.load(trained_model_path)"
      ],
      "execution_count": 34,
      "outputs": [
        {
          "output_type": "error",
          "ename": "FileNotFoundError",
          "evalue": "ignored",
          "traceback": [
            "\u001b[0;31m---------------------------------------------------------------------------\u001b[0m",
            "\u001b[0;31mFileNotFoundError\u001b[0m                         Traceback (most recent call last)",
            "\u001b[0;32m<ipython-input-34-108c74e7802c>\u001b[0m in \u001b[0;36m<module>\u001b[0;34m()\u001b[0m\n\u001b[1;32m      2\u001b[0m \u001b[0;34m\u001b[0m\u001b[0m\n\u001b[1;32m      3\u001b[0m \u001b[0mtrained_model_path\u001b[0m \u001b[0;34m=\u001b[0m \u001b[0;34m'./latest-ja-word2vec-gensim-model/word2vec.gensim.model'\u001b[0m\u001b[0;34m\u001b[0m\u001b[0;34m\u001b[0m\u001b[0m\n\u001b[0;32m----> 4\u001b[0;31m \u001b[0mtrained_model\u001b[0m \u001b[0;34m=\u001b[0m \u001b[0mWord2Vec\u001b[0m\u001b[0;34m.\u001b[0m\u001b[0mload\u001b[0m\u001b[0;34m(\u001b[0m\u001b[0mtrained_model_path\u001b[0m\u001b[0;34m)\u001b[0m\u001b[0;34m\u001b[0m\u001b[0;34m\u001b[0m\u001b[0m\n\u001b[0m",
            "\u001b[0;32m/usr/local/lib/python3.7/dist-packages/gensim/models/word2vec.py\u001b[0m in \u001b[0;36mload\u001b[0;34m(cls, *args, **kwargs)\u001b[0m\n\u001b[1;32m   1310\u001b[0m         \"\"\"\n\u001b[1;32m   1311\u001b[0m         \u001b[0;32mtry\u001b[0m\u001b[0;34m:\u001b[0m\u001b[0;34m\u001b[0m\u001b[0;34m\u001b[0m\u001b[0m\n\u001b[0;32m-> 1312\u001b[0;31m             \u001b[0mmodel\u001b[0m \u001b[0;34m=\u001b[0m \u001b[0msuper\u001b[0m\u001b[0;34m(\u001b[0m\u001b[0mWord2Vec\u001b[0m\u001b[0;34m,\u001b[0m \u001b[0mcls\u001b[0m\u001b[0;34m)\u001b[0m\u001b[0;34m.\u001b[0m\u001b[0mload\u001b[0m\u001b[0;34m(\u001b[0m\u001b[0;34m*\u001b[0m\u001b[0margs\u001b[0m\u001b[0;34m,\u001b[0m \u001b[0;34m**\u001b[0m\u001b[0mkwargs\u001b[0m\u001b[0;34m)\u001b[0m\u001b[0;34m\u001b[0m\u001b[0;34m\u001b[0m\u001b[0m\n\u001b[0m\u001b[1;32m   1313\u001b[0m \u001b[0;34m\u001b[0m\u001b[0m\n\u001b[1;32m   1314\u001b[0m             \u001b[0;31m# for backward compatibility for `max_final_vocab` feature\u001b[0m\u001b[0;34m\u001b[0m\u001b[0;34m\u001b[0m\u001b[0;34m\u001b[0m\u001b[0m\n",
            "\u001b[0;32m/usr/local/lib/python3.7/dist-packages/gensim/models/base_any2vec.py\u001b[0m in \u001b[0;36mload\u001b[0;34m(cls, *args, **kwargs)\u001b[0m\n\u001b[1;32m   1242\u001b[0m \u001b[0;34m\u001b[0m\u001b[0m\n\u001b[1;32m   1243\u001b[0m         \"\"\"\n\u001b[0;32m-> 1244\u001b[0;31m         \u001b[0mmodel\u001b[0m \u001b[0;34m=\u001b[0m \u001b[0msuper\u001b[0m\u001b[0;34m(\u001b[0m\u001b[0mBaseWordEmbeddingsModel\u001b[0m\u001b[0;34m,\u001b[0m \u001b[0mcls\u001b[0m\u001b[0;34m)\u001b[0m\u001b[0;34m.\u001b[0m\u001b[0mload\u001b[0m\u001b[0;34m(\u001b[0m\u001b[0;34m*\u001b[0m\u001b[0margs\u001b[0m\u001b[0;34m,\u001b[0m \u001b[0;34m**\u001b[0m\u001b[0mkwargs\u001b[0m\u001b[0;34m)\u001b[0m\u001b[0;34m\u001b[0m\u001b[0;34m\u001b[0m\u001b[0m\n\u001b[0m\u001b[1;32m   1245\u001b[0m         \u001b[0;32mif\u001b[0m \u001b[0;32mnot\u001b[0m \u001b[0mhasattr\u001b[0m\u001b[0;34m(\u001b[0m\u001b[0mmodel\u001b[0m\u001b[0;34m,\u001b[0m \u001b[0;34m'ns_exponent'\u001b[0m\u001b[0;34m)\u001b[0m\u001b[0;34m:\u001b[0m\u001b[0;34m\u001b[0m\u001b[0;34m\u001b[0m\u001b[0m\n\u001b[1;32m   1246\u001b[0m             \u001b[0mmodel\u001b[0m\u001b[0;34m.\u001b[0m\u001b[0mns_exponent\u001b[0m \u001b[0;34m=\u001b[0m \u001b[0;36m0.75\u001b[0m\u001b[0;34m\u001b[0m\u001b[0;34m\u001b[0m\u001b[0m\n",
            "\u001b[0;32m/usr/local/lib/python3.7/dist-packages/gensim/models/base_any2vec.py\u001b[0m in \u001b[0;36mload\u001b[0;34m(cls, fname_or_handle, **kwargs)\u001b[0m\n\u001b[1;32m    601\u001b[0m \u001b[0;34m\u001b[0m\u001b[0m\n\u001b[1;32m    602\u001b[0m         \"\"\"\n\u001b[0;32m--> 603\u001b[0;31m         \u001b[0;32mreturn\u001b[0m \u001b[0msuper\u001b[0m\u001b[0;34m(\u001b[0m\u001b[0mBaseAny2VecModel\u001b[0m\u001b[0;34m,\u001b[0m \u001b[0mcls\u001b[0m\u001b[0;34m)\u001b[0m\u001b[0;34m.\u001b[0m\u001b[0mload\u001b[0m\u001b[0;34m(\u001b[0m\u001b[0mfname_or_handle\u001b[0m\u001b[0;34m,\u001b[0m \u001b[0;34m**\u001b[0m\u001b[0mkwargs\u001b[0m\u001b[0;34m)\u001b[0m\u001b[0;34m\u001b[0m\u001b[0;34m\u001b[0m\u001b[0m\n\u001b[0m\u001b[1;32m    604\u001b[0m \u001b[0;34m\u001b[0m\u001b[0m\n\u001b[1;32m    605\u001b[0m     \u001b[0;32mdef\u001b[0m \u001b[0msave\u001b[0m\u001b[0;34m(\u001b[0m\u001b[0mself\u001b[0m\u001b[0;34m,\u001b[0m \u001b[0mfname_or_handle\u001b[0m\u001b[0;34m,\u001b[0m \u001b[0;34m**\u001b[0m\u001b[0mkwargs\u001b[0m\u001b[0;34m)\u001b[0m\u001b[0;34m:\u001b[0m\u001b[0;34m\u001b[0m\u001b[0;34m\u001b[0m\u001b[0m\n",
            "\u001b[0;32m/usr/local/lib/python3.7/dist-packages/gensim/utils.py\u001b[0m in \u001b[0;36mload\u001b[0;34m(cls, fname, mmap)\u001b[0m\n\u001b[1;32m    420\u001b[0m         \u001b[0mcompress\u001b[0m\u001b[0;34m,\u001b[0m \u001b[0msubname\u001b[0m \u001b[0;34m=\u001b[0m \u001b[0mSaveLoad\u001b[0m\u001b[0;34m.\u001b[0m\u001b[0m_adapt_by_suffix\u001b[0m\u001b[0;34m(\u001b[0m\u001b[0mfname\u001b[0m\u001b[0;34m)\u001b[0m\u001b[0;34m\u001b[0m\u001b[0;34m\u001b[0m\u001b[0m\n\u001b[1;32m    421\u001b[0m \u001b[0;34m\u001b[0m\u001b[0m\n\u001b[0;32m--> 422\u001b[0;31m         \u001b[0mobj\u001b[0m \u001b[0;34m=\u001b[0m \u001b[0munpickle\u001b[0m\u001b[0;34m(\u001b[0m\u001b[0mfname\u001b[0m\u001b[0;34m)\u001b[0m\u001b[0;34m\u001b[0m\u001b[0;34m\u001b[0m\u001b[0m\n\u001b[0m\u001b[1;32m    423\u001b[0m         \u001b[0mobj\u001b[0m\u001b[0;34m.\u001b[0m\u001b[0m_load_specials\u001b[0m\u001b[0;34m(\u001b[0m\u001b[0mfname\u001b[0m\u001b[0;34m,\u001b[0m \u001b[0mmmap\u001b[0m\u001b[0;34m,\u001b[0m \u001b[0mcompress\u001b[0m\u001b[0;34m,\u001b[0m \u001b[0msubname\u001b[0m\u001b[0;34m)\u001b[0m\u001b[0;34m\u001b[0m\u001b[0;34m\u001b[0m\u001b[0m\n\u001b[1;32m    424\u001b[0m         \u001b[0mlogger\u001b[0m\u001b[0;34m.\u001b[0m\u001b[0minfo\u001b[0m\u001b[0;34m(\u001b[0m\u001b[0;34m\"loaded %s\"\u001b[0m\u001b[0;34m,\u001b[0m \u001b[0mfname\u001b[0m\u001b[0;34m)\u001b[0m\u001b[0;34m\u001b[0m\u001b[0;34m\u001b[0m\u001b[0m\n",
            "\u001b[0;32m/usr/local/lib/python3.7/dist-packages/gensim/utils.py\u001b[0m in \u001b[0;36munpickle\u001b[0;34m(fname)\u001b[0m\n\u001b[1;32m   1356\u001b[0m \u001b[0;34m\u001b[0m\u001b[0m\n\u001b[1;32m   1357\u001b[0m     \"\"\"\n\u001b[0;32m-> 1358\u001b[0;31m     \u001b[0;32mwith\u001b[0m \u001b[0msmart_open\u001b[0m\u001b[0;34m(\u001b[0m\u001b[0mfname\u001b[0m\u001b[0;34m,\u001b[0m \u001b[0;34m'rb'\u001b[0m\u001b[0;34m)\u001b[0m \u001b[0;32mas\u001b[0m \u001b[0mf\u001b[0m\u001b[0;34m:\u001b[0m\u001b[0;34m\u001b[0m\u001b[0;34m\u001b[0m\u001b[0m\n\u001b[0m\u001b[1;32m   1359\u001b[0m         \u001b[0;31m# Because of loading from S3 load can't be used (missing readline in smart_open)\u001b[0m\u001b[0;34m\u001b[0m\u001b[0;34m\u001b[0m\u001b[0;34m\u001b[0m\u001b[0m\n\u001b[1;32m   1360\u001b[0m         \u001b[0;32mif\u001b[0m \u001b[0msys\u001b[0m\u001b[0;34m.\u001b[0m\u001b[0mversion_info\u001b[0m \u001b[0;34m>\u001b[0m \u001b[0;34m(\u001b[0m\u001b[0;36m3\u001b[0m\u001b[0;34m,\u001b[0m \u001b[0;36m0\u001b[0m\u001b[0;34m)\u001b[0m\u001b[0;34m:\u001b[0m\u001b[0;34m\u001b[0m\u001b[0;34m\u001b[0m\u001b[0m\n",
            "\u001b[0;32m/usr/local/lib/python3.7/dist-packages/smart_open/smart_open_lib.py\u001b[0m in \u001b[0;36msmart_open\u001b[0;34m(***failed resolving arguments***)\u001b[0m\n\u001b[1;32m    496\u001b[0m     \u001b[0mignore_ext\u001b[0m \u001b[0;34m=\u001b[0m \u001b[0mignore_extension\u001b[0m\u001b[0;34m\u001b[0m\u001b[0;34m\u001b[0m\u001b[0m\n\u001b[1;32m    497\u001b[0m     \u001b[0;32mdel\u001b[0m \u001b[0mkwargs\u001b[0m\u001b[0;34m,\u001b[0m \u001b[0murl\u001b[0m\u001b[0;34m,\u001b[0m \u001b[0mmessage\u001b[0m\u001b[0;34m,\u001b[0m \u001b[0mignore_extension\u001b[0m\u001b[0;34m\u001b[0m\u001b[0;34m\u001b[0m\u001b[0m\n\u001b[0;32m--> 498\u001b[0;31m     \u001b[0;32mreturn\u001b[0m \u001b[0mopen\u001b[0m\u001b[0;34m(\u001b[0m\u001b[0;34m**\u001b[0m\u001b[0mlocals\u001b[0m\u001b[0;34m(\u001b[0m\u001b[0;34m)\u001b[0m\u001b[0;34m)\u001b[0m\u001b[0;34m\u001b[0m\u001b[0;34m\u001b[0m\u001b[0m\n\u001b[0m\u001b[1;32m    499\u001b[0m \u001b[0;34m\u001b[0m\u001b[0m\n\u001b[1;32m    500\u001b[0m \u001b[0;34m\u001b[0m\u001b[0m\n",
            "\u001b[0;32m/usr/local/lib/python3.7/dist-packages/smart_open/smart_open_lib.py\u001b[0m in \u001b[0;36mopen\u001b[0;34m(uri, mode, buffering, encoding, errors, newline, closefd, opener, ignore_ext, compression, transport_params)\u001b[0m\n\u001b[1;32m    193\u001b[0m         \u001b[0mencoding\u001b[0m\u001b[0;34m=\u001b[0m\u001b[0mencoding\u001b[0m\u001b[0;34m,\u001b[0m\u001b[0;34m\u001b[0m\u001b[0;34m\u001b[0m\u001b[0m\n\u001b[1;32m    194\u001b[0m         \u001b[0merrors\u001b[0m\u001b[0;34m=\u001b[0m\u001b[0merrors\u001b[0m\u001b[0;34m,\u001b[0m\u001b[0;34m\u001b[0m\u001b[0;34m\u001b[0m\u001b[0m\n\u001b[0;32m--> 195\u001b[0;31m         \u001b[0mnewline\u001b[0m\u001b[0;34m=\u001b[0m\u001b[0mnewline\u001b[0m\u001b[0;34m,\u001b[0m\u001b[0;34m\u001b[0m\u001b[0;34m\u001b[0m\u001b[0m\n\u001b[0m\u001b[1;32m    196\u001b[0m     )\n\u001b[1;32m    197\u001b[0m     \u001b[0;32mif\u001b[0m \u001b[0mfobj\u001b[0m \u001b[0;32mis\u001b[0m \u001b[0;32mnot\u001b[0m \u001b[0;32mNone\u001b[0m\u001b[0;34m:\u001b[0m\u001b[0;34m\u001b[0m\u001b[0;34m\u001b[0m\u001b[0m\n",
            "\u001b[0;32m/usr/local/lib/python3.7/dist-packages/smart_open/smart_open_lib.py\u001b[0m in \u001b[0;36m_shortcut_open\u001b[0;34m(uri, mode, compression, buffering, encoding, errors, newline)\u001b[0m\n\u001b[1;32m    359\u001b[0m         \u001b[0mopen_kwargs\u001b[0m\u001b[0;34m[\u001b[0m\u001b[0;34m'errors'\u001b[0m\u001b[0;34m]\u001b[0m \u001b[0;34m=\u001b[0m \u001b[0merrors\u001b[0m\u001b[0;34m\u001b[0m\u001b[0;34m\u001b[0m\u001b[0m\n\u001b[1;32m    360\u001b[0m \u001b[0;34m\u001b[0m\u001b[0m\n\u001b[0;32m--> 361\u001b[0;31m     \u001b[0;32mreturn\u001b[0m \u001b[0m_builtin_open\u001b[0m\u001b[0;34m(\u001b[0m\u001b[0mlocal_path\u001b[0m\u001b[0;34m,\u001b[0m \u001b[0mmode\u001b[0m\u001b[0;34m,\u001b[0m \u001b[0mbuffering\u001b[0m\u001b[0;34m=\u001b[0m\u001b[0mbuffering\u001b[0m\u001b[0;34m,\u001b[0m \u001b[0;34m**\u001b[0m\u001b[0mopen_kwargs\u001b[0m\u001b[0;34m)\u001b[0m\u001b[0;34m\u001b[0m\u001b[0;34m\u001b[0m\u001b[0m\n\u001b[0m\u001b[1;32m    362\u001b[0m \u001b[0;34m\u001b[0m\u001b[0m\n\u001b[1;32m    363\u001b[0m \u001b[0;34m\u001b[0m\u001b[0m\n",
            "\u001b[0;31mFileNotFoundError\u001b[0m: [Errno 2] No such file or directory: './latest-ja-word2vec-gensim-model/word2vec.gensim.model'"
          ]
        }
      ]
    },
    {
      "cell_type": "markdown",
      "metadata": {
        "id": "SrzY4woTqco0"
      },
      "source": [
        "#### 4.12.1 trained_modelを使用して、「猫」と類似度の高い語句を算出して下さい。"
      ]
    },
    {
      "cell_type": "code",
      "metadata": {
        "id": "KWShb_SFqco0"
      },
      "source": [
        "trained_model.most_similar(\"猫\")"
      ],
      "execution_count": null,
      "outputs": []
    },
    {
      "cell_type": "markdown",
      "metadata": {
        "id": "275biH0mqco1"
      },
      "source": [
        "### 5. tf-idf計算方法"
      ]
    },
    {
      "cell_type": "markdown",
      "metadata": {
        "id": "pmeni0w8qco1"
      },
      "source": [
        "#### 5.0 事前準備"
      ]
    },
    {
      "cell_type": "code",
      "metadata": {
        "id": "7SI9RZ2oqco1"
      },
      "source": [
        "corpus = [\n",
        "    'This is the first document.',\n",
        "    'This document is the second document.',\n",
        "    'And this is the third one.',\n",
        "    'Is this the first document?'\n",
        "]"
      ],
      "execution_count": null,
      "outputs": []
    },
    {
      "cell_type": "markdown",
      "metadata": {
        "id": "WnTDo8zsqco1"
      },
      "source": [
        "#### 5.1 TfidfVectorizerを「sklearn」から探して読み込んで下さい。"
      ]
    },
    {
      "cell_type": "code",
      "metadata": {
        "id": "sImZwCvmqco1"
      },
      "source": [
        "from sklearn.feature_extraction.text import TfidfVectorizer\n",
        "TfidfVectorizer"
      ],
      "execution_count": null,
      "outputs": []
    },
    {
      "cell_type": "markdown",
      "metadata": {
        "id": "eBidq00Hqco1"
      },
      "source": [
        "#### 5.2 tfidfの転置行列を作成し、中身を表示して下さい。"
      ]
    },
    {
      "cell_type": "code",
      "metadata": {
        "id": "Fq6doLVQqco1"
      },
      "source": [
        "tfidf = TfidfVectorizer()\n",
        "x = tfidf.fit_transform(corpus)\n",
        "print(x)"
      ],
      "execution_count": null,
      "outputs": []
    },
    {
      "cell_type": "markdown",
      "metadata": {
        "id": "6zEkMEf0qco1"
      },
      "source": [
        "#### 5.3 tfidfの値を文章毎に算出して下さい。"
      ]
    },
    {
      "cell_type": "code",
      "metadata": {
        "id": "qRqmEQyrqco2"
      },
      "source": [
        "tfidf_value = pd.DataFrame(x.toarray(), columns=tfidf.get_feature_names())\n",
        "print(tfidf_value)"
      ],
      "execution_count": null,
      "outputs": []
    },
    {
      "cell_type": "markdown",
      "metadata": {
        "id": "BC3KGA-mqco2"
      },
      "source": [
        "#### 5.4 各文章の「tf-idf」を計算し、行列形式で文章類似度を算出して下さい。※cosine_similarityを使用して下さい。"
      ]
    },
    {
      "cell_type": "code",
      "metadata": {
        "id": "Qxmjjfgiqco2"
      },
      "source": [
        "from sklearn.metrics.pairwise import cosine_similarity\n",
        "print(cosine_similarity(x))"
      ],
      "execution_count": null,
      "outputs": []
    }
  ]
}