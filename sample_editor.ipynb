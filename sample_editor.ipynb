{
  "nbformat": 4,
  "nbformat_minor": 0,
  "metadata": {
    "kernelspec": {
      "display_name": "Python 3",
      "language": "python",
      "name": "python3"
    },
    "language_info": {
      "codemirror_mode": {
        "name": "ipython",
        "version": 3
      },
      "file_extension": ".py",
      "mimetype": "text/x-python",
      "name": "python",
      "nbconvert_exporter": "python",
      "pygments_lexer": "ipython3",
      "version": "3.7.0"
    },
    "toc": {
      "base_numbering": 1,
      "nav_menu": {},
      "number_sections": true,
      "sideBar": true,
      "skip_h1_title": false,
      "title_cell": "Table of Contents",
      "title_sidebar": "Contents",
      "toc_cell": false,
      "toc_position": {},
      "toc_section_display": true,
      "toc_window_display": false
    },
    "varInspector": {
      "cols": {
        "lenName": 16,
        "lenType": 16,
        "lenVar": 40
      },
      "kernels_config": {
        "python": {
          "delete_cmd_postfix": "",
          "delete_cmd_prefix": "del ",
          "library": "var_list.py",
          "varRefreshCmd": "print(var_dic_list())"
        },
        "r": {
          "delete_cmd_postfix": ") ",
          "delete_cmd_prefix": "rm(",
          "library": "var_list.r",
          "varRefreshCmd": "cat(var_dic_list()) "
        }
      },
      "types_to_exclude": [
        "module",
        "function",
        "builtin_function_or_method",
        "instance",
        "_Feature"
      ],
      "window_display": false
    },
    "colab": {
      "name": "sample_editor.ipynb",
      "provenance": [],
      "collapsed_sections": [],
      "include_colab_link": true
    },
    "accelerator": "GPU"
  },
  "cells": [
    {
      "cell_type": "markdown",
      "metadata": {
        "id": "view-in-github",
        "colab_type": "text"
      },
      "source": [
        "<a href=\"https://colab.research.google.com/github/wataridmm/practice/blob/main/sample_editor.ipynb\" target=\"_parent\"><img src=\"https://colab.research.google.com/assets/colab-badge.svg\" alt=\"Open In Colab\"/></a>"
      ]
    },
    {
      "cell_type": "markdown",
      "metadata": {
        "id": "nUf4tn836hyX"
      },
      "source": [
        "# sample exercises\n",
        "\n",
        "1. 課題の取り組み方について学習します。"
      ]
    },
    {
      "cell_type": "markdown",
      "metadata": {
        "id": "sTALmmty6hyb"
      },
      "source": [
        "### 1. 課題の取り組み方について学習します。"
      ]
    },
    {
      "cell_type": "markdown",
      "metadata": {
        "id": "c31xP-Em6hyc"
      },
      "source": [
        "#### 1.1 「変数num1を定義して、num1に8を代入して、表示してください。」"
      ]
    },
    {
      "cell_type": "code",
      "metadata": {
        "colab": {
          "base_uri": "https://localhost:8080/"
        },
        "id": "_DMrfbN06hye",
        "outputId": "0f379ad6-5901-4233-b6df-fcb0a1015745"
      },
      "source": [
        "num1 = 8\n",
        "print(num1)"
      ],
      "execution_count": 11,
      "outputs": [
        {
          "output_type": "stream",
          "name": "stdout",
          "text": [
            "8\n"
          ]
        }
      ]
    },
    {
      "cell_type": "markdown",
      "metadata": {
        "id": "xoRuqi0c6hyg"
      },
      "source": [
        "#### 1.2 「変数num2を定義して、num2に4を代入して、表示してください。」"
      ]
    },
    {
      "cell_type": "code",
      "metadata": {
        "colab": {
          "base_uri": "https://localhost:8080/"
        },
        "id": "Q3kqXtyo6hyi",
        "outputId": "0c32d2bf-a53a-4f3a-8cbf-53a7adae9e50"
      },
      "source": [
        "num2 = 4\n",
        "print(num2)"
      ],
      "execution_count": 14,
      "outputs": [
        {
          "output_type": "stream",
          "name": "stdout",
          "text": [
            "4\n"
          ]
        }
      ]
    },
    {
      "cell_type": "markdown",
      "metadata": {
        "id": "3Llw1Lkz6hyj"
      },
      "source": [
        "#### 1.3 「変数num1とnum2の和を求めてください。」"
      ]
    },
    {
      "cell_type": "code",
      "metadata": {
        "colab": {
          "base_uri": "https://localhost:8080/"
        },
        "id": "qo0ocPa76hyk",
        "outputId": "8b39705d-24c2-428c-faf0-f70c42674192"
      },
      "source": [
        "print(num1 + num2)"
      ],
      "execution_count": 15,
      "outputs": [
        {
          "output_type": "stream",
          "name": "stdout",
          "text": [
            "12\n"
          ]
        }
      ]
    },
    {
      "cell_type": "markdown",
      "metadata": {
        "id": "M6e3amhu6hyl"
      },
      "source": [
        "#### 1.4 「変数num1とnum2の差を求めてください。」"
      ]
    },
    {
      "cell_type": "code",
      "metadata": {
        "colab": {
          "base_uri": "https://localhost:8080/"
        },
        "id": "Vc9-ot0q6hym",
        "outputId": "09f3ca74-ce67-469d-8142-2de46a8a1ffe"
      },
      "source": [
        "print(num1 - num2)"
      ],
      "execution_count": 16,
      "outputs": [
        {
          "output_type": "stream",
          "name": "stdout",
          "text": [
            "4\n"
          ]
        }
      ]
    },
    {
      "cell_type": "markdown",
      "metadata": {
        "id": "xe0hyhTy6hym"
      },
      "source": [
        "#### 1.5 「変数num1とnum2の積を求めてください。」"
      ]
    },
    {
      "cell_type": "code",
      "metadata": {
        "colab": {
          "base_uri": "https://localhost:8080/"
        },
        "id": "OJ0C9_lc6hyn",
        "outputId": "879a5020-50b6-4abe-929b-e1b0dc03fd1c"
      },
      "source": [
        "print(num1 * num2)"
      ],
      "execution_count": 17,
      "outputs": [
        {
          "output_type": "stream",
          "name": "stdout",
          "text": [
            "32\n"
          ]
        }
      ]
    },
    {
      "cell_type": "markdown",
      "metadata": {
        "id": "K7nLCTSg6hyn"
      },
      "source": [
        "#### 1.6 「変数num1とnum2の商を求めてください。」"
      ]
    },
    {
      "cell_type": "code",
      "metadata": {
        "colab": {
          "base_uri": "https://localhost:8080/"
        },
        "id": "af0WNPtH6hyo",
        "outputId": "1b79dae6-8014-445d-d8e7-9b216432c479"
      },
      "source": [
        "print(num1 / num2)"
      ],
      "execution_count": 18,
      "outputs": [
        {
          "output_type": "stream",
          "name": "stdout",
          "text": [
            "2.0\n"
          ]
        }
      ]
    },
    {
      "cell_type": "code",
      "metadata": {
        "id": "rzCz5ThTASgA"
      },
      "source": [
        ""
      ],
      "execution_count": null,
      "outputs": []
    }
  ]
}