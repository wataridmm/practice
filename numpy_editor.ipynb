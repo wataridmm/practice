{
  "cells": [
    {
      "cell_type": "markdown",
      "metadata": {
        "id": "view-in-github",
        "colab_type": "text"
      },
      "source": [
        "<a href=\"https://colab.research.google.com/github/wataridmm/practice/blob/main/numpy_editor.ipynb\" target=\"_parent\"><img src=\"https://colab.research.google.com/assets/colab-badge.svg\" alt=\"Open In Colab\"/></a>"
      ]
    },
    {
      "cell_type": "markdown",
      "metadata": {
        "id": "d7WIzlup0Pbg"
      },
      "source": [
        "# numpy exercises\n",
        "\n",
        "\n",
        "1. データの状態を確認する方法について学習します。（4問）\n",
        "2. 配列について学習します。（4問）\n",
        "3. スライスについて学習します。（5問）\n",
        "4. 行列について学習します。（基礎）（6問）\n",
        "5. 行列について学習します。（応用）（7問）\n",
        "6. numpyでよく使う機能について学習します。（14問）"
      ]
    },
    {
      "cell_type": "markdown",
      "metadata": {
        "id": "EzTJaA4H0Pbi"
      },
      "source": [
        "### 0. 事前準備"
      ]
    },
    {
      "cell_type": "markdown",
      "metadata": {
        "id": "i7jqH8NJ0Pbj"
      },
      "source": [
        "#### 0.1 「numpyを読み込んでください。」"
      ]
    },
    {
      "cell_type": "code",
      "execution_count": 3,
      "metadata": {
        "id": "dTnneAa60Pbk"
      },
      "outputs": [],
      "source": [
        "import numpy as np"
      ]
    },
    {
      "cell_type": "markdown",
      "metadata": {
        "id": "ckFZO-j10Pbl"
      },
      "source": [
        "#### 0.2 「以下のコードを読み込んでください。」"
      ]
    },
    {
      "cell_type": "code",
      "execution_count": 4,
      "metadata": {
        "colab": {
          "base_uri": "https://localhost:8080/"
        },
        "id": "I43owyrR0Pbl",
        "outputId": "7a170895-2b1e-4093-a8a8-9e5837009b69"
      },
      "outputs": [
        {
          "output_type": "execute_result",
          "data": {
            "text/plain": [
              "array([[ 0,  1,  2,  3,  4],\n",
              "       [ 5,  6,  7,  8,  9],\n",
              "       [10, 11, 12, 13, 14]])"
            ]
          },
          "metadata": {},
          "execution_count": 4
        }
      ],
      "source": [
        "a = np.arange(15).reshape(3, 5)\n",
        "a"
      ]
    },
    {
      "cell_type": "markdown",
      "metadata": {
        "id": "OFad7AVZ0Pbn"
      },
      "source": [
        "### 1. データの状態を確認する方法について学習します。（4問）"
      ]
    },
    {
      "cell_type": "markdown",
      "metadata": {
        "id": "qvG87nXg0Pbn"
      },
      "source": [
        "#### 1.1 「行列の大きさを確認してください。」"
      ]
    },
    {
      "cell_type": "code",
      "execution_count": 5,
      "metadata": {
        "colab": {
          "base_uri": "https://localhost:8080/"
        },
        "id": "iEF-MolG0Pbo",
        "outputId": "baeed055-4b92-4a57-a505-161f740ac07a"
      },
      "outputs": [
        {
          "output_type": "execute_result",
          "data": {
            "text/plain": [
              "(3, 5)"
            ]
          },
          "metadata": {},
          "execution_count": 5
        }
      ],
      "source": [
        "a.shape"
      ]
    },
    {
      "cell_type": "markdown",
      "metadata": {
        "id": "8tQgWkk30Pbp"
      },
      "source": [
        "#### 1.2 「行列の軸数（次元）を確認してください。」"
      ]
    },
    {
      "cell_type": "code",
      "execution_count": 6,
      "metadata": {
        "colab": {
          "base_uri": "https://localhost:8080/"
        },
        "id": "xf6lhKz80Pbq",
        "outputId": "d081148e-3e93-4d51-e816-ea2f564cd981"
      },
      "outputs": [
        {
          "output_type": "execute_result",
          "data": {
            "text/plain": [
              "2"
            ]
          },
          "metadata": {},
          "execution_count": 6
        }
      ],
      "source": [
        "a.ndim"
      ]
    },
    {
      "cell_type": "markdown",
      "metadata": {
        "id": "_6slUvuu0Pbq"
      },
      "source": [
        "#### 1.3 「行列のデータ型を確認してください。」"
      ]
    },
    {
      "cell_type": "code",
      "execution_count": 7,
      "metadata": {
        "colab": {
          "base_uri": "https://localhost:8080/"
        },
        "id": "SwBzv85k0Pbq",
        "outputId": "31aafc64-2961-4f84-9b35-fe7d01a6e7c7"
      },
      "outputs": [
        {
          "output_type": "execute_result",
          "data": {
            "text/plain": [
              "numpy.ndarray"
            ]
          },
          "metadata": {},
          "execution_count": 7
        }
      ],
      "source": [
        "type(a)"
      ]
    },
    {
      "cell_type": "markdown",
      "metadata": {
        "id": "i4HqsLWy0Pbq"
      },
      "source": [
        "#### 1.4 「行列の配列要素を確認してください。」"
      ]
    },
    {
      "cell_type": "code",
      "execution_count": 8,
      "metadata": {
        "colab": {
          "base_uri": "https://localhost:8080/"
        },
        "id": "fDhFvWo70Pbr",
        "outputId": "8847cd00-6442-4032-80d6-1b56eba9addc"
      },
      "outputs": [
        {
          "output_type": "execute_result",
          "data": {
            "text/plain": [
              "dtype('int64')"
            ]
          },
          "metadata": {},
          "execution_count": 8
        }
      ],
      "source": [
        "a.dtype"
      ]
    },
    {
      "cell_type": "markdown",
      "metadata": {
        "id": "eCUX_1kO0Pbr"
      },
      "source": [
        "### 2. 配列について学習します。（4問）"
      ]
    },
    {
      "cell_type": "markdown",
      "metadata": {
        "id": "U13p4oSX0Pbr"
      },
      "source": [
        "#### 2.1 「8つの「0」が入る配列を作成してください。」"
      ]
    },
    {
      "cell_type": "code",
      "execution_count": 9,
      "metadata": {
        "colab": {
          "base_uri": "https://localhost:8080/"
        },
        "id": "8cVW5j0O0Pbr",
        "outputId": "abb6055d-bbdd-4f01-c315-1d0fb47d199d"
      },
      "outputs": [
        {
          "output_type": "stream",
          "name": "stdout",
          "text": [
            "[0. 0. 0. 0. 0. 0. 0. 0.]\n"
          ]
        }
      ],
      "source": [
        "data = np.zeros(8)\n",
        "print(data)"
      ]
    },
    {
      "cell_type": "markdown",
      "metadata": {
        "id": "iJNoTcj30Pbs"
      },
      "source": [
        "#### 2.2 「8つの「0」が入る配列を作成し、5番目の値を「1」に変えてください。」"
      ]
    },
    {
      "cell_type": "code",
      "execution_count": 10,
      "metadata": {
        "colab": {
          "base_uri": "https://localhost:8080/"
        },
        "id": "mwRBrIwp0Pbs",
        "outputId": "913f3b1d-14f8-43d3-e372-90b38d589402"
      },
      "outputs": [
        {
          "output_type": "stream",
          "name": "stdout",
          "text": [
            "[0. 0. 0. 0. 1. 0. 0. 0.]\n"
          ]
        }
      ],
      "source": [
        "data = np.zeros(8)\n",
        "data[4] = 1\n",
        "print(data)"
      ]
    },
    {
      "cell_type": "markdown",
      "metadata": {
        "id": "T0l7_GoQ0Pbs"
      },
      "source": [
        "#### 2.3 「10～49までの数字が昇順で入った配列を作成してください。」"
      ]
    },
    {
      "cell_type": "code",
      "execution_count": 11,
      "metadata": {
        "colab": {
          "base_uri": "https://localhost:8080/"
        },
        "id": "Mk8EkVLj0Pbs",
        "outputId": "01a1787a-1e86-4236-cb3f-4d637f4b8734"
      },
      "outputs": [
        {
          "output_type": "stream",
          "name": "stdout",
          "text": [
            "[10 11 12 13 14 15 16 17 18 19 20 21 22 23 24 25 26 27 28 29 30 31 32 33\n",
            " 34 35 36 37 38 39 40 41 42 43 44 45 46 47 48 49]\n"
          ]
        }
      ],
      "source": [
        "data = np.arange(10,50)\n",
        "print(data)"
      ]
    },
    {
      "cell_type": "markdown",
      "metadata": {
        "id": "jBqCOtr_0Pbs"
      },
      "source": [
        "#### 2.4 「0～39までの数字が降順で入った配列を作成してください。」"
      ]
    },
    {
      "cell_type": "code",
      "execution_count": 12,
      "metadata": {
        "colab": {
          "base_uri": "https://localhost:8080/"
        },
        "id": "AicECkRd0Pbs",
        "outputId": "416440fc-a278-435c-933d-b7e8d08a10df"
      },
      "outputs": [
        {
          "output_type": "stream",
          "name": "stdout",
          "text": [
            "[39 38 37 36 35 34 33 32 31 30 29 28 27 26 25 24 23 22 21 20 19 18 17 16\n",
            " 15 14 13 12 11 10  9  8  7  6  5  4  3  2  1  0]\n"
          ]
        }
      ],
      "source": [
        "data = np.arange(40)\n",
        "data = data[::-1]\n",
        "print(data)"
      ]
    },
    {
      "cell_type": "markdown",
      "metadata": {
        "id": "5gxPk24w0Pbt"
      },
      "source": [
        "### 3. スライスについて学習します。（5問）"
      ]
    },
    {
      "cell_type": "markdown",
      "metadata": {
        "id": "VBC3o3UW0Pbt"
      },
      "source": [
        "#### 3.1 「0~9までの数字が入った配列を作成してください。」"
      ]
    },
    {
      "cell_type": "code",
      "execution_count": 13,
      "metadata": {
        "colab": {
          "base_uri": "https://localhost:8080/"
        },
        "id": "w0nySeBS0Pbt",
        "outputId": "95ff41fa-c2ba-4baa-913b-f8e22070e88c"
      },
      "outputs": [
        {
          "output_type": "stream",
          "name": "stdout",
          "text": [
            "[0 1 2 3 4 5 6 7 8 9]\n"
          ]
        }
      ],
      "source": [
        "l = np.arange(10)\n",
        "print(l)"
      ]
    },
    {
      "cell_type": "markdown",
      "metadata": {
        "id": "Jkgr3J_10Pbt"
      },
      "source": [
        "#### 3.2 「スライス（:）を使用して、3.1で作成した配列から下記の配列を取り出して下さい。」"
      ]
    },
    {
      "cell_type": "code",
      "execution_count": 14,
      "metadata": {
        "colab": {
          "base_uri": "https://localhost:8080/"
        },
        "id": "4WIAiAIY0Pbt",
        "outputId": "725dbb9b-4154-4fb4-a8ac-40ca870c6b33"
      },
      "outputs": [
        {
          "output_type": "stream",
          "name": "stdout",
          "text": [
            "[4 5 6 7]\n"
          ]
        }
      ],
      "source": [
        "print(l[4:8])"
      ]
    },
    {
      "cell_type": "markdown",
      "metadata": {
        "id": "0g9IvECu0Pbt"
      },
      "source": [
        "#### 3.3 「スライス（:）を使用して、3.1で作成した配列から「マイナス」を使用して下記の配列を取り出して下さい。」"
      ]
    },
    {
      "cell_type": "code",
      "execution_count": 15,
      "metadata": {
        "colab": {
          "base_uri": "https://localhost:8080/"
        },
        "id": "ggnJJpPd0Pbt",
        "outputId": "a2148488-9caf-437c-c2d9-a3011b24a3c3"
      },
      "outputs": [
        {
          "output_type": "stream",
          "name": "stdout",
          "text": [
            "[3 4 5 6 7]\n"
          ]
        }
      ],
      "source": [
        "print(l[-7:-2])"
      ]
    },
    {
      "cell_type": "markdown",
      "metadata": {
        "id": "6tZP6-dk0Pbt"
      },
      "source": [
        "#### 3.4 「スライス（:）を使用して、3.1で作成した配列から「マイナス」を使用して下記の配列を取り出して下さい。」"
      ]
    },
    {
      "cell_type": "code",
      "execution_count": 16,
      "metadata": {
        "colab": {
          "base_uri": "https://localhost:8080/"
        },
        "id": "fkIfS1c30Pbt",
        "outputId": "aca93201-b4f6-4214-bfe6-6860193a63c4"
      },
      "outputs": [
        {
          "output_type": "stream",
          "name": "stdout",
          "text": [
            "[9 8 7 6 5 4 3 2 1 0]\n"
          ]
        }
      ],
      "source": [
        "print(l[::-1])"
      ]
    },
    {
      "cell_type": "markdown",
      "metadata": {
        "id": "LiAKV-g90Pbu"
      },
      "source": [
        "#### 3.5 「スライス（:）を使用して、3.1で作成した配列から下記の配列を取り出して下さい。」"
      ]
    },
    {
      "cell_type": "code",
      "execution_count": 17,
      "metadata": {
        "colab": {
          "base_uri": "https://localhost:8080/"
        },
        "id": "1cDV-L0Y0Pbu",
        "outputId": "5fc22126-2fd4-49a7-f7cd-766849347c19"
      },
      "outputs": [
        {
          "output_type": "stream",
          "name": "stdout",
          "text": [
            "[2 4 6]\n"
          ]
        }
      ],
      "source": [
        "print(l[2:8:2])"
      ]
    },
    {
      "cell_type": "markdown",
      "metadata": {
        "id": "uYOLpiux0Pbu"
      },
      "source": [
        "### 4. 行列について学習します（基礎）（6問）"
      ]
    },
    {
      "cell_type": "markdown",
      "metadata": {
        "id": "nFXq9v4a0Pbu"
      },
      "source": [
        "#### 4.1 「0～8までの数字が昇順で入った配列を作成し、3×3の行列を作成してください。」"
      ]
    },
    {
      "cell_type": "code",
      "execution_count": 18,
      "metadata": {
        "colab": {
          "base_uri": "https://localhost:8080/"
        },
        "id": "GkpAhkO90Pbu",
        "outputId": "affe3ae4-d53e-4543-b758-b29827b30d3e"
      },
      "outputs": [
        {
          "output_type": "stream",
          "name": "stdout",
          "text": [
            "[[0 1 2]\n",
            " [3 4 5]\n",
            " [6 7 8]]\n"
          ]
        }
      ],
      "source": [
        "data = np.arange(9).reshape(3,3)\n",
        "print(data)"
      ]
    },
    {
      "cell_type": "markdown",
      "metadata": {
        "id": "UOWLx8HY0Pbu"
      },
      "source": [
        "#### 4.2 「任意の「0」が入っている配列を作成し、「0」以外が入っているインデックスを取得してください。」"
      ]
    },
    {
      "cell_type": "code",
      "execution_count": 19,
      "metadata": {
        "colab": {
          "base_uri": "https://localhost:8080/"
        },
        "id": "_W9umqmG0Pbu",
        "outputId": "c11296ca-74fa-473c-ce0f-666f4440d94f"
      },
      "outputs": [
        {
          "output_type": "stream",
          "name": "stdout",
          "text": [
            "(array([0, 1, 4]),)\n"
          ]
        }
      ],
      "source": [
        "data = np.nonzero([1,2,0,0,4,0])\n",
        "print(data)"
      ]
    },
    {
      "cell_type": "markdown",
      "metadata": {
        "id": "9fIS8G1t0Pbu"
      },
      "source": [
        "#### 4.3 「3×3の正方行列を作成してください。」"
      ]
    },
    {
      "cell_type": "code",
      "execution_count": 20,
      "metadata": {
        "colab": {
          "base_uri": "https://localhost:8080/"
        },
        "id": "mTQGWzVk0Pbu",
        "outputId": "1cb14bc6-44b5-46a2-9961-ec7c367500f7"
      },
      "outputs": [
        {
          "output_type": "stream",
          "name": "stdout",
          "text": [
            "[[1. 0. 0.]\n",
            " [0. 1. 0.]\n",
            " [0. 0. 1.]]\n"
          ]
        }
      ],
      "source": [
        "data = np.eye(3)\n",
        "print(data)"
      ]
    },
    {
      "cell_type": "markdown",
      "metadata": {
        "id": "bNPl5McC0Pbv"
      },
      "source": [
        "#### 4.4 「3×3×3のランダム値を持つ行列を作成してください。」"
      ]
    },
    {
      "cell_type": "code",
      "execution_count": 21,
      "metadata": {
        "colab": {
          "base_uri": "https://localhost:8080/"
        },
        "id": "MpcW-t3O0Pbv",
        "outputId": "6c94988d-6b96-4d81-bb89-d0f1d5492ed2"
      },
      "outputs": [
        {
          "output_type": "stream",
          "name": "stdout",
          "text": [
            "[[[0.40763223 0.82138831 0.56680806]\n",
            "  [0.1793825  0.61359578 0.34582302]\n",
            "  [0.83175621 0.50588032 0.8217474 ]]\n",
            "\n",
            " [[0.31603764 0.45524845 0.32976123]\n",
            "  [0.64793971 0.9258926  0.09953456]\n",
            "  [0.46512549 0.10011153 0.79011064]]\n",
            "\n",
            " [[0.58417234 0.91556621 0.92901179]\n",
            "  [0.50883395 0.73612376 0.93740247]\n",
            "  [0.60912952 0.93169274 0.50452159]]]\n"
          ]
        }
      ],
      "source": [
        "data = np.random.random((3,3,3))\n",
        "print(data)"
      ]
    },
    {
      "cell_type": "markdown",
      "metadata": {
        "id": "6dchlRMn0Pbv"
      },
      "source": [
        "#### 4.5 「10×10のランダム値を持つ行列を作成し、最小値と最大値を出力してください。」"
      ]
    },
    {
      "cell_type": "code",
      "execution_count": 21,
      "metadata": {
        "id": "wCTyDEPs0Pbv"
      },
      "outputs": [],
      "source": [
        ""
      ]
    },
    {
      "cell_type": "markdown",
      "metadata": {
        "id": "v5wjap1i0Pbv"
      },
      "source": [
        "#### 4.6 「10×10のランダム値を持つ行列を作成し、平均値を出力してください。」"
      ]
    },
    {
      "cell_type": "code",
      "execution_count": 21,
      "metadata": {
        "id": "KLihT9bZ0Pbv"
      },
      "outputs": [],
      "source": [
        ""
      ]
    },
    {
      "cell_type": "markdown",
      "metadata": {
        "id": "TRFB4gnL0Pbv"
      },
      "source": [
        "### 5. 行列について学習します（応用）（7問）"
      ]
    },
    {
      "cell_type": "markdown",
      "metadata": {
        "id": "4O885DBU0Pbv"
      },
      "source": [
        "#### 5.1 「10×10の大きさの、外側だけ値が「1」、内側が全て値が「0」の行列を作成してください。」"
      ]
    },
    {
      "cell_type": "code",
      "execution_count": 21,
      "metadata": {
        "id": "gTcaXlv90Pbv"
      },
      "outputs": [],
      "source": [
        ""
      ]
    },
    {
      "cell_type": "markdown",
      "metadata": {
        "id": "iovhRHOv0Pbv"
      },
      "source": [
        "#### 5.2 「10×10の大きさの、外側だけ値が「0」、内側が全て値が「1」の行列を作成してください。」"
      ]
    },
    {
      "cell_type": "code",
      "execution_count": 21,
      "metadata": {
        "id": "WxTnxBX_0Pbv"
      },
      "outputs": [],
      "source": [
        ""
      ]
    },
    {
      "cell_type": "markdown",
      "metadata": {
        "id": "4eJKEYko0Pbv"
      },
      "source": [
        "#### 5.3「下記のような4×4の対角行列を作成してください。」"
      ]
    },
    {
      "cell_type": "code",
      "execution_count": 21,
      "metadata": {
        "id": "TQHo9-Zc0Pbv"
      },
      "outputs": [],
      "source": [
        ""
      ]
    },
    {
      "cell_type": "markdown",
      "metadata": {
        "id": "rTfO0oBz0Pbw"
      },
      "source": [
        "#### 5.4 「下記のような8×8の行列を作成してください。」"
      ]
    },
    {
      "cell_type": "code",
      "execution_count": 21,
      "metadata": {
        "id": "iF0fVfqp0Pbw"
      },
      "outputs": [],
      "source": [
        ""
      ]
    },
    {
      "cell_type": "markdown",
      "metadata": {
        "id": "xPU6Zz2Q0Pbw"
      },
      "source": [
        "#### 5.5「3×5×2の行列を考えた時に、10番目の要素のインデックスを出力してください。」"
      ]
    },
    {
      "cell_type": "code",
      "execution_count": 21,
      "metadata": {
        "id": "4aHzWVgv0Pbw"
      },
      "outputs": [],
      "source": [
        ""
      ]
    },
    {
      "cell_type": "markdown",
      "metadata": {
        "id": "pmhpEA-T0Pbw"
      },
      "source": [
        "#### 5.6「5×5のランダム値を持つ行列を作成し、行列内の最大値が1、最小値が0になるように正規化してください。」"
      ]
    },
    {
      "cell_type": "code",
      "execution_count": 21,
      "metadata": {
        "id": "QAW_gGhB0Pbw"
      },
      "outputs": [],
      "source": [
        ""
      ]
    },
    {
      "cell_type": "markdown",
      "metadata": {
        "id": "y04KEJQW0Pbw"
      },
      "source": [
        "#### 5.7「5×3の値が全て1の行列と3×2の値が全て1の行列の掛け算を行ってください。」"
      ]
    },
    {
      "cell_type": "code",
      "execution_count": 21,
      "metadata": {
        "id": "0eUyIYnn0Pbw"
      },
      "outputs": [],
      "source": [
        ""
      ]
    },
    {
      "cell_type": "markdown",
      "metadata": {
        "id": "KEUG-uvY0Pbw"
      },
      "source": [
        "### 6. numpyでよく使用する機能について学習します。（14問）"
      ]
    },
    {
      "cell_type": "markdown",
      "metadata": {
        "id": "lsU5Yn1B0Pbw"
      },
      "source": [
        "#### 6.1「0～10までの数字を昇順に並べた配列を作成し、4～8までの数字をマイナスに変えて出力してください。」"
      ]
    },
    {
      "cell_type": "code",
      "execution_count": 21,
      "metadata": {
        "id": "j0uOgEB70Pbw"
      },
      "outputs": [],
      "source": [
        ""
      ]
    },
    {
      "cell_type": "markdown",
      "metadata": {
        "id": "2MXI-s_40Pbw"
      },
      "source": [
        "#### 6.2「ランダムな整数値を10個もつ配列を2つ作成し、その2つの配列の共通の値を出力してください。」"
      ]
    },
    {
      "cell_type": "code",
      "execution_count": 21,
      "metadata": {
        "id": "X26rz6sP0Pbw"
      },
      "outputs": [],
      "source": [
        ""
      ]
    },
    {
      "cell_type": "markdown",
      "metadata": {
        "id": "mEA-CHHT0Pbw"
      },
      "source": [
        "#### 6.3「虚数を出力してください。」"
      ]
    },
    {
      "cell_type": "code",
      "execution_count": 21,
      "metadata": {
        "id": "svBPvW3N0Pbx"
      },
      "outputs": [],
      "source": [
        ""
      ]
    },
    {
      "cell_type": "markdown",
      "metadata": {
        "id": "C87DEK_H0Pbx"
      },
      "source": [
        "#### 6.4「今日の日付と明後日の日付を出力してください。」"
      ]
    },
    {
      "cell_type": "code",
      "execution_count": 21,
      "metadata": {
        "id": "TxLGpFOa0Pbx"
      },
      "outputs": [],
      "source": [
        ""
      ]
    },
    {
      "cell_type": "markdown",
      "metadata": {
        "id": "VVK2jsqy0Pbx"
      },
      "source": [
        "#### 6.5「2019年11月の日付を配列として出力してください。」"
      ]
    },
    {
      "cell_type": "code",
      "execution_count": 21,
      "metadata": {
        "id": "DdEX-B5a0Pbx"
      },
      "outputs": [],
      "source": [
        ""
      ]
    },
    {
      "cell_type": "markdown",
      "metadata": {
        "id": "M3-HVl_L0Pbx"
      },
      "source": [
        "#### 6.6「ランダムの値を10個持つ配列を作成し、異なる3パターンで整数として出力してください。」"
      ]
    },
    {
      "cell_type": "code",
      "execution_count": 21,
      "metadata": {
        "id": "hSD6ThTe0Pbx"
      },
      "outputs": [],
      "source": [
        ""
      ]
    },
    {
      "cell_type": "markdown",
      "metadata": {
        "id": "2xtByxXP0Pbx"
      },
      "source": [
        "#### 6.7「下記のような行列を作成してください。」"
      ]
    },
    {
      "cell_type": "code",
      "execution_count": 21,
      "metadata": {
        "id": "_qSQH_8x0Pbx"
      },
      "outputs": [],
      "source": [
        ""
      ]
    },
    {
      "cell_type": "markdown",
      "metadata": {
        "id": "IYP4xQiQ0Pbx"
      },
      "source": [
        "#### 6.8「「0」と「1」は含めず、「0」～「1」の間を10分割した配列を作成してください。」"
      ]
    },
    {
      "cell_type": "code",
      "execution_count": 21,
      "metadata": {
        "id": "T1SyUsqG0Pbx"
      },
      "outputs": [],
      "source": [
        ""
      ]
    },
    {
      "cell_type": "markdown",
      "metadata": {
        "id": "Ik0u4-HL0Pbx"
      },
      "source": [
        "#### 6.9「10のランダム値を持つ配列を作成し、値を昇順にして出力してください。」"
      ]
    },
    {
      "cell_type": "code",
      "execution_count": 21,
      "metadata": {
        "id": "P87wbnft0Pbx"
      },
      "outputs": [],
      "source": [
        ""
      ]
    },
    {
      "cell_type": "markdown",
      "metadata": {
        "id": "hF_dJeSz0Pbx"
      },
      "source": [
        "#### 6.10「10のランダム値を持つ配列を作成し、MAX値に「0」を置き換えて出力してください。」"
      ]
    },
    {
      "cell_type": "code",
      "execution_count": 21,
      "metadata": {
        "id": "98AoAPBb0Pbx"
      },
      "outputs": [],
      "source": [
        ""
      ]
    },
    {
      "cell_type": "markdown",
      "metadata": {
        "id": "WSd0sk-R0Pbx"
      },
      "source": [
        "#### 6.11「下記のような値が軸単位で昇順になっている行列を作成してください。」"
      ]
    },
    {
      "cell_type": "code",
      "execution_count": 21,
      "metadata": {
        "id": "RGacyzZg0Pbx"
      },
      "outputs": [],
      "source": [
        ""
      ]
    },
    {
      "cell_type": "markdown",
      "metadata": {
        "id": "BQ_O_CRi0Pby"
      },
      "source": [
        "#### 6.12「3×3の値が昇順になっている行列を作成し、インデックスと値を出力してください。」"
      ]
    },
    {
      "cell_type": "code",
      "execution_count": 21,
      "metadata": {
        "id": "hd-D89Rf0Pby"
      },
      "outputs": [],
      "source": [
        ""
      ]
    },
    {
      "cell_type": "markdown",
      "metadata": {
        "id": "rzQPS6D70Pby"
      },
      "source": [
        "#### 6.13「10×10の「0」行列を作成し、ランダムで20個「1」に変更してください。」"
      ]
    },
    {
      "cell_type": "code",
      "execution_count": 21,
      "metadata": {
        "id": "PBG_brqa0Pby"
      },
      "outputs": [],
      "source": [
        ""
      ]
    },
    {
      "cell_type": "markdown",
      "metadata": {
        "id": "Hs7si_UW0Pby"
      },
      "source": [
        "#### 6.14「100の整数のランダム要素を持つ配列を作成し、その頻度を出力してください。」"
      ]
    },
    {
      "cell_type": "code",
      "execution_count": 22,
      "metadata": {
        "colab": {
          "base_uri": "https://localhost:8080/"
        },
        "id": "8WkUdkeP0Pby",
        "outputId": "b999ddc6-a80c-4ef6-c13e-c3bee4ae4f6f"
      },
      "outputs": [
        {
          "output_type": "stream",
          "name": "stdout",
          "text": [
            "[0 1 2 0 0 2 1 1 1 0 1 1 0 0 3 0 0 0 0 1 0 2 1 0 2 2 2 1 1 0 1 3 2 0 1 1 2\n",
            " 0 1 0 2 1 3 1 2 0 0 3 2 3 0 2 1 0 2 3 1 0 0 0 1 1 3 0 1 1 1 1 0 1 0 0 1 0\n",
            " 0 2 1 0 1 0 0 0 2 1 1 0 2 2 3 3 0 1 0 0 2 1 3 0 2]\n"
          ]
        }
      ],
      "source": [
        "data = np.random.randint(0,100,100)\n",
        "F = np.bincount(data)\n",
        "print(F)"
      ]
    }
  ],
  "metadata": {
    "kernelspec": {
      "display_name": "Python 3",
      "language": "python",
      "name": "python3"
    },
    "language_info": {
      "codemirror_mode": {
        "name": "ipython",
        "version": 3
      },
      "file_extension": ".py",
      "mimetype": "text/x-python",
      "name": "python",
      "nbconvert_exporter": "python",
      "pygments_lexer": "ipython3",
      "version": "3.7.6"
    },
    "colab": {
      "name": "numpy_editor.ipynb",
      "provenance": [],
      "collapsed_sections": [
        "6dchlRMn0Pbv",
        "v5wjap1i0Pbv",
        "4O885DBU0Pbv",
        "iovhRHOv0Pbv",
        "4eJKEYko0Pbv",
        "rTfO0oBz0Pbw",
        "xPU6Zz2Q0Pbw",
        "pmhpEA-T0Pbw",
        "y04KEJQW0Pbw",
        "lsU5Yn1B0Pbw",
        "2MXI-s_40Pbw",
        "mEA-CHHT0Pbw",
        "C87DEK_H0Pbx",
        "VVK2jsqy0Pbx",
        "M3-HVl_L0Pbx",
        "2xtByxXP0Pbx",
        "IYP4xQiQ0Pbx",
        "Ik0u4-HL0Pbx",
        "hF_dJeSz0Pbx",
        "WSd0sk-R0Pbx",
        "BQ_O_CRi0Pby",
        "rzQPS6D70Pby"
      ],
      "include_colab_link": true
    }
  },
  "nbformat": 4,
  "nbformat_minor": 0
}